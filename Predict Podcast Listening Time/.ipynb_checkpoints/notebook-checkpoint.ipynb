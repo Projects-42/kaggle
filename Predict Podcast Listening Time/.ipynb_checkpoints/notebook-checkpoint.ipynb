{
 "cells": [
  {
   "cell_type": "code",
   "execution_count": 1,
   "id": "b1eaca53-c439-4c1d-803d-898cdaba9c7a",
   "metadata": {},
   "outputs": [
    {
     "name": "stderr",
     "output_type": "stream",
     "text": [
      "C:\\Users\\User\\anaconda3\\lib\\site-packages\\scipy\\__init__.py:146: UserWarning: A NumPy version >=1.16.5 and <1.23.0 is required for this version of SciPy (detected version 1.23.0\n",
      "  warnings.warn(f\"A NumPy version >={np_minversion} and <{np_maxversion}\"\n"
     ]
    }
   ],
   "source": [
    "import os\n",
    "import pandas as pd\n",
    "import matplotlib.pyplot as plt\n",
    "import seaborn as sns\n",
    "import numpy as np\n",
    "from sklearn.preprocessing import StandardScaler, OneHotEncoder\n",
    "from sklearn.base import clone\n",
    "from sklearn.model_selection import GridSearchCV, RandomizedSearchCV, cross_val_score\n",
    "from sklearn.pipeline import Pipeline\n",
    "from sklearn.linear_model import LinearRegression, Ridge\n",
    "from category_encoders import TargetEncoder\n",
    "from sklearn.compose import ColumnTransformer, make_column_selector\n",
    "from sklearn.metrics import mean_absolute_percentage_error, mean_absolute_error, mean_squared_error\n",
    "from sklearn.tree import DecisionTreeRegressor\n",
    "from sklearn.ensemble import RandomForestRegressor, VotingRegressor\n",
    "from catboost import CatBoostRegressor\n",
    "from sklearn.svm import SVR\n",
    "import time\n",
    "os.chdir(r\"C:\\Users\\User\\OneDrive\\Документы\\Kaggle\\kaggle\\Predict Podcast Listening Time\")"
   ]
  },
  {
   "cell_type": "code",
   "execution_count": 2,
   "id": "e18123c3-a212-4c48-8fd8-a5e89832e893",
   "metadata": {},
   "outputs": [],
   "source": [
    "import pickle\n",
    "def dump(estimator, name):\n",
    "    with open(f\"{name}.pkl\", \"wb\") as f:\n",
    "        pickle.dump(estimator, f)\n",
    "\n",
    "def load(name):\n",
    "    with open(f\"{name}.pkl\", \"rb\") as f:\n",
    "        return pickle.load(f)\n"
   ]
  },
  {
   "cell_type": "code",
   "execution_count": 3,
   "id": "3f7d6128-a5a1-4b68-90fb-9a7020a3d301",
   "metadata": {},
   "outputs": [
    {
     "data": {
      "text/html": [
       "<div>\n",
       "<style scoped>\n",
       "    .dataframe tbody tr th:only-of-type {\n",
       "        vertical-align: middle;\n",
       "    }\n",
       "\n",
       "    .dataframe tbody tr th {\n",
       "        vertical-align: top;\n",
       "    }\n",
       "\n",
       "    .dataframe thead th {\n",
       "        text-align: right;\n",
       "    }\n",
       "</style>\n",
       "<table border=\"1\" class=\"dataframe\">\n",
       "  <thead>\n",
       "    <tr style=\"text-align: right;\">\n",
       "      <th></th>\n",
       "      <th>id</th>\n",
       "      <th>Podcast_Name</th>\n",
       "      <th>Episode_Title</th>\n",
       "      <th>Episode_Length_minutes</th>\n",
       "      <th>Genre</th>\n",
       "      <th>Host_Popularity_percentage</th>\n",
       "      <th>Publication_Day</th>\n",
       "      <th>Publication_Time</th>\n",
       "      <th>Guest_Popularity_percentage</th>\n",
       "      <th>Number_of_Ads</th>\n",
       "      <th>Episode_Sentiment</th>\n",
       "      <th>Listening_Time_minutes</th>\n",
       "    </tr>\n",
       "  </thead>\n",
       "  <tbody>\n",
       "    <tr>\n",
       "      <th>0</th>\n",
       "      <td>0</td>\n",
       "      <td>Mystery Matters</td>\n",
       "      <td>Episode 98</td>\n",
       "      <td>NaN</td>\n",
       "      <td>True Crime</td>\n",
       "      <td>74.81</td>\n",
       "      <td>Thursday</td>\n",
       "      <td>Night</td>\n",
       "      <td>NaN</td>\n",
       "      <td>0.0</td>\n",
       "      <td>Positive</td>\n",
       "      <td>31.41998</td>\n",
       "    </tr>\n",
       "    <tr>\n",
       "      <th>1</th>\n",
       "      <td>1</td>\n",
       "      <td>Joke Junction</td>\n",
       "      <td>Episode 26</td>\n",
       "      <td>119.80</td>\n",
       "      <td>Comedy</td>\n",
       "      <td>66.95</td>\n",
       "      <td>Saturday</td>\n",
       "      <td>Afternoon</td>\n",
       "      <td>75.95</td>\n",
       "      <td>2.0</td>\n",
       "      <td>Negative</td>\n",
       "      <td>88.01241</td>\n",
       "    </tr>\n",
       "    <tr>\n",
       "      <th>2</th>\n",
       "      <td>2</td>\n",
       "      <td>Study Sessions</td>\n",
       "      <td>Episode 16</td>\n",
       "      <td>73.90</td>\n",
       "      <td>Education</td>\n",
       "      <td>69.97</td>\n",
       "      <td>Tuesday</td>\n",
       "      <td>Evening</td>\n",
       "      <td>8.97</td>\n",
       "      <td>0.0</td>\n",
       "      <td>Negative</td>\n",
       "      <td>44.92531</td>\n",
       "    </tr>\n",
       "    <tr>\n",
       "      <th>3</th>\n",
       "      <td>3</td>\n",
       "      <td>Digital Digest</td>\n",
       "      <td>Episode 45</td>\n",
       "      <td>67.17</td>\n",
       "      <td>Technology</td>\n",
       "      <td>57.22</td>\n",
       "      <td>Monday</td>\n",
       "      <td>Morning</td>\n",
       "      <td>78.70</td>\n",
       "      <td>2.0</td>\n",
       "      <td>Positive</td>\n",
       "      <td>46.27824</td>\n",
       "    </tr>\n",
       "    <tr>\n",
       "      <th>4</th>\n",
       "      <td>4</td>\n",
       "      <td>Mind &amp; Body</td>\n",
       "      <td>Episode 86</td>\n",
       "      <td>110.51</td>\n",
       "      <td>Health</td>\n",
       "      <td>80.07</td>\n",
       "      <td>Monday</td>\n",
       "      <td>Afternoon</td>\n",
       "      <td>58.68</td>\n",
       "      <td>3.0</td>\n",
       "      <td>Neutral</td>\n",
       "      <td>75.61031</td>\n",
       "    </tr>\n",
       "    <tr>\n",
       "      <th>...</th>\n",
       "      <td>...</td>\n",
       "      <td>...</td>\n",
       "      <td>...</td>\n",
       "      <td>...</td>\n",
       "      <td>...</td>\n",
       "      <td>...</td>\n",
       "      <td>...</td>\n",
       "      <td>...</td>\n",
       "      <td>...</td>\n",
       "      <td>...</td>\n",
       "      <td>...</td>\n",
       "      <td>...</td>\n",
       "    </tr>\n",
       "    <tr>\n",
       "      <th>749995</th>\n",
       "      <td>749995</td>\n",
       "      <td>Learning Lab</td>\n",
       "      <td>Episode 25</td>\n",
       "      <td>75.66</td>\n",
       "      <td>Education</td>\n",
       "      <td>69.36</td>\n",
       "      <td>Saturday</td>\n",
       "      <td>Morning</td>\n",
       "      <td>NaN</td>\n",
       "      <td>0.0</td>\n",
       "      <td>Negative</td>\n",
       "      <td>56.87058</td>\n",
       "    </tr>\n",
       "    <tr>\n",
       "      <th>749996</th>\n",
       "      <td>749996</td>\n",
       "      <td>Business Briefs</td>\n",
       "      <td>Episode 21</td>\n",
       "      <td>75.75</td>\n",
       "      <td>Business</td>\n",
       "      <td>35.21</td>\n",
       "      <td>Saturday</td>\n",
       "      <td>Night</td>\n",
       "      <td>NaN</td>\n",
       "      <td>2.0</td>\n",
       "      <td>Neutral</td>\n",
       "      <td>45.46242</td>\n",
       "    </tr>\n",
       "    <tr>\n",
       "      <th>749997</th>\n",
       "      <td>749997</td>\n",
       "      <td>Lifestyle Lounge</td>\n",
       "      <td>Episode 51</td>\n",
       "      <td>30.98</td>\n",
       "      <td>Lifestyle</td>\n",
       "      <td>78.58</td>\n",
       "      <td>Thursday</td>\n",
       "      <td>Morning</td>\n",
       "      <td>84.89</td>\n",
       "      <td>0.0</td>\n",
       "      <td>Negative</td>\n",
       "      <td>15.26000</td>\n",
       "    </tr>\n",
       "    <tr>\n",
       "      <th>749998</th>\n",
       "      <td>749998</td>\n",
       "      <td>Style Guide</td>\n",
       "      <td>Episode 47</td>\n",
       "      <td>108.98</td>\n",
       "      <td>Lifestyle</td>\n",
       "      <td>45.39</td>\n",
       "      <td>Thursday</td>\n",
       "      <td>Morning</td>\n",
       "      <td>93.27</td>\n",
       "      <td>0.0</td>\n",
       "      <td>Negative</td>\n",
       "      <td>100.72939</td>\n",
       "    </tr>\n",
       "    <tr>\n",
       "      <th>749999</th>\n",
       "      <td>749999</td>\n",
       "      <td>Sports Central</td>\n",
       "      <td>Episode 99</td>\n",
       "      <td>24.10</td>\n",
       "      <td>Sports</td>\n",
       "      <td>22.45</td>\n",
       "      <td>Saturday</td>\n",
       "      <td>Night</td>\n",
       "      <td>36.72</td>\n",
       "      <td>0.0</td>\n",
       "      <td>Neutral</td>\n",
       "      <td>11.94439</td>\n",
       "    </tr>\n",
       "  </tbody>\n",
       "</table>\n",
       "<p>750000 rows × 12 columns</p>\n",
       "</div>"
      ],
      "text/plain": [
       "            id      Podcast_Name Episode_Title  Episode_Length_minutes  \\\n",
       "0            0   Mystery Matters    Episode 98                     NaN   \n",
       "1            1     Joke Junction    Episode 26                  119.80   \n",
       "2            2    Study Sessions    Episode 16                   73.90   \n",
       "3            3    Digital Digest    Episode 45                   67.17   \n",
       "4            4       Mind & Body    Episode 86                  110.51   \n",
       "...        ...               ...           ...                     ...   \n",
       "749995  749995      Learning Lab    Episode 25                   75.66   \n",
       "749996  749996   Business Briefs    Episode 21                   75.75   \n",
       "749997  749997  Lifestyle Lounge    Episode 51                   30.98   \n",
       "749998  749998       Style Guide    Episode 47                  108.98   \n",
       "749999  749999    Sports Central    Episode 99                   24.10   \n",
       "\n",
       "             Genre  Host_Popularity_percentage Publication_Day  \\\n",
       "0       True Crime                       74.81        Thursday   \n",
       "1           Comedy                       66.95        Saturday   \n",
       "2        Education                       69.97         Tuesday   \n",
       "3       Technology                       57.22          Monday   \n",
       "4           Health                       80.07          Monday   \n",
       "...            ...                         ...             ...   \n",
       "749995   Education                       69.36        Saturday   \n",
       "749996    Business                       35.21        Saturday   \n",
       "749997   Lifestyle                       78.58        Thursday   \n",
       "749998   Lifestyle                       45.39        Thursday   \n",
       "749999      Sports                       22.45        Saturday   \n",
       "\n",
       "       Publication_Time  Guest_Popularity_percentage  Number_of_Ads  \\\n",
       "0                 Night                          NaN            0.0   \n",
       "1             Afternoon                        75.95            2.0   \n",
       "2               Evening                         8.97            0.0   \n",
       "3               Morning                        78.70            2.0   \n",
       "4             Afternoon                        58.68            3.0   \n",
       "...                 ...                          ...            ...   \n",
       "749995          Morning                          NaN            0.0   \n",
       "749996            Night                          NaN            2.0   \n",
       "749997          Morning                        84.89            0.0   \n",
       "749998          Morning                        93.27            0.0   \n",
       "749999            Night                        36.72            0.0   \n",
       "\n",
       "       Episode_Sentiment  Listening_Time_minutes  \n",
       "0               Positive                31.41998  \n",
       "1               Negative                88.01241  \n",
       "2               Negative                44.92531  \n",
       "3               Positive                46.27824  \n",
       "4                Neutral                75.61031  \n",
       "...                  ...                     ...  \n",
       "749995          Negative                56.87058  \n",
       "749996           Neutral                45.46242  \n",
       "749997          Negative                15.26000  \n",
       "749998          Negative               100.72939  \n",
       "749999           Neutral                11.94439  \n",
       "\n",
       "[750000 rows x 12 columns]"
      ]
     },
     "execution_count": 3,
     "metadata": {},
     "output_type": "execute_result"
    }
   ],
   "source": [
    "df = pd.read_csv(\"train.csv\")\n",
    "df"
   ]
  },
  {
   "cell_type": "code",
   "execution_count": 4,
   "id": "bfaf49a7-451d-47cb-b201-c0bf617482b5",
   "metadata": {},
   "outputs": [
    {
     "name": "stdout",
     "output_type": "stream",
     "text": [
      "<class 'pandas.core.frame.DataFrame'>\n",
      "RangeIndex: 750000 entries, 0 to 749999\n",
      "Data columns (total 12 columns):\n",
      " #   Column                       Non-Null Count   Dtype  \n",
      "---  ------                       --------------   -----  \n",
      " 0   id                           750000 non-null  int64  \n",
      " 1   Podcast_Name                 750000 non-null  object \n",
      " 2   Episode_Title                750000 non-null  object \n",
      " 3   Episode_Length_minutes       662907 non-null  float64\n",
      " 4   Genre                        750000 non-null  object \n",
      " 5   Host_Popularity_percentage   750000 non-null  float64\n",
      " 6   Publication_Day              750000 non-null  object \n",
      " 7   Publication_Time             750000 non-null  object \n",
      " 8   Guest_Popularity_percentage  603970 non-null  float64\n",
      " 9   Number_of_Ads                749999 non-null  float64\n",
      " 10  Episode_Sentiment            750000 non-null  object \n",
      " 11  Listening_Time_minutes       750000 non-null  float64\n",
      "dtypes: float64(5), int64(1), object(6)\n",
      "memory usage: 68.7+ MB\n"
     ]
    }
   ],
   "source": [
    "df.info()"
   ]
  },
  {
   "cell_type": "code",
   "execution_count": 5,
   "id": "c1e54646-a103-4f57-ae87-90419e44402d",
   "metadata": {},
   "outputs": [
    {
     "name": "stderr",
     "output_type": "stream",
     "text": [
      "C:\\Users\\User\\AppData\\Local\\Temp\\ipykernel_11824\\2928413636.py:2: FutureWarning: The default value of numeric_only in DataFrame.corr is deprecated. In a future version, it will default to False. Select only valid columns or specify the value of numeric_only to silence this warning.\n",
      "  sns.heatmap(df.corr(), cmap=\"viridis\")\n"
     ]
    },
    {
     "data": {
      "text/plain": [
       "<AxesSubplot:>"
      ]
     },
     "execution_count": 5,
     "metadata": {},
     "output_type": "execute_result"
    },
    {
     "data": {
      "image/png": "[encoded data removed]",
      "text/plain": [
       "<Figure size 720x360 with 2 Axes>"
      ]
     },
     "metadata": {
      "needs_background": "light"
     },
     "output_type": "display_data"
    }
   ],
   "source": [
    "fig, ax = plt.subplots(figsize=(10, 5))\n",
    "sns.heatmap(df.corr(), cmap=\"viridis\")"
   ]
  },
  {
   "cell_type": "code",
   "execution_count": 6,
   "id": "43a666fe-1e34-41a0-ab7d-b4c7fa64d2f5",
   "metadata": {},
   "outputs": [
    {
     "data": {
      "text/plain": [
       "<AxesSubplot:xlabel='Episode_Length_minutes', ylabel='Count'>"
      ]
     },
     "execution_count": 6,
     "metadata": {},
     "output_type": "execute_result"
    },
    {
     "data": {
      "image/png": "[encoded data removed]",
      "text/plain": [
       "<Figure size 720x360 with 1 Axes>"
      ]
     },
     "metadata": {
      "needs_background": "light"
     },
     "output_type": "display_data"
    }
   ],
   "source": [
    "fig, ax = plt.subplots(figsize=(10, 5))\n",
    "sns.histplot(df[\"Episode_Length_minutes\"], ax=ax)"
   ]
  },
  {
   "cell_type": "code",
   "execution_count": 7,
   "id": "e11c780f-d777-476d-893b-42d43c1a376b",
   "metadata": {},
   "outputs": [
    {
     "data": {
      "text/plain": [
       "<AxesSubplot:xlabel='Episode_Length_minutes'>"
      ]
     },
     "execution_count": 7,
     "metadata": {},
     "output_type": "execute_result"
    },
    {
     "data": {
      "image/png": "[encoded data removed]",
      "text/plain": [
       "<Figure size 432x288 with 1 Axes>"
      ]
     },
     "metadata": {
      "needs_background": "light"
     },
     "output_type": "display_data"
    }
   ],
   "source": [
    "sns.boxplot(df[\"Episode_Length_minutes\"], orient=\"h\")"
   ]
  },
  {
   "cell_type": "code",
   "execution_count": 8,
   "id": "8aac8ae4-f37a-4009-b818-8f93fae2c1bc",
   "metadata": {},
   "outputs": [
    {
     "data": {
      "text/plain": [
       "1         119.80\n",
       "501       119.09\n",
       "553       119.04\n",
       "633       119.11\n",
       "646       119.66\n",
       "           ...  \n",
       "749538    119.88\n",
       "749564    119.10\n",
       "749599    119.67\n",
       "749619    119.59\n",
       "749737    119.44\n",
       "Name: Episode_Length_minutes, Length: 6615, dtype: float64"
      ]
     },
     "execution_count": 8,
     "metadata": {},
     "output_type": "execute_result"
    }
   ],
   "source": [
    "df[df[\"Episode_Length_minutes\"] > df[\"Episode_Length_minutes\"].quantile(0.99)][\"Episode_Length_minutes\"]"
   ]
  },
  {
   "cell_type": "code",
   "execution_count": 9,
   "id": "9f267665-ce89-40f5-84f9-8ae781f72e0a",
   "metadata": {},
   "outputs": [
    {
     "data": {
      "text/plain": [
       "<AxesSubplot:xlabel='Guest_Popularity_percentage'>"
      ]
     },
     "execution_count": 9,
     "metadata": {},
     "output_type": "execute_result"
    },
    {
     "data": {
      "image/png": "[encoded data removed]",
      "text/plain": [
       "<Figure size 432x288 with 1 Axes>"
      ]
     },
     "metadata": {
      "needs_background": "light"
     },
     "output_type": "display_data"
    }
   ],
   "source": [
    "sns.boxplot(df[\"Guest_Popularity_percentage\"], orient=\"h\")"
   ]
  },
  {
   "cell_type": "code",
   "execution_count": 10,
   "id": "07a36d2f-e0a8-4e07-99c2-a3d63a74b7ba",
   "metadata": {},
   "outputs": [
    {
     "data": {
      "text/plain": [
       "<AxesSubplot:xlabel='Guest_Popularity_percentage', ylabel='Count'>"
      ]
     },
     "execution_count": 10,
     "metadata": {},
     "output_type": "execute_result"
    },
    {
     "data": {
      "image/png": "[encoded data removed]",
      "text/plain": [
       "<Figure size 720x360 with 1 Axes>"
      ]
     },
     "metadata": {
      "needs_background": "light"
     },
     "output_type": "display_data"
    }
   ],
   "source": [
    "fig, ax = plt.subplots(figsize=(10, 5))\n",
    "sns.histplot(df[\"Guest_Popularity_percentage\"], ax=ax)"
   ]
  },
  {
   "cell_type": "code",
   "execution_count": 11,
   "id": "8615406f-98f2-4023-9e3b-57fb0ef15359",
   "metadata": {},
   "outputs": [
    {
     "data": {
      "text/plain": [
       "6770      107.08\n",
       "32435     114.72\n",
       "86967     106.90\n",
       "106804    110.14\n",
       "118315    102.13\n",
       "149146    105.48\n",
       "194629    107.81\n",
       "202865    114.72\n",
       "253381    119.91\n",
       "259197    115.62\n",
       "291133    102.38\n",
       "301452    114.88\n",
       "377317    115.43\n",
       "471451    115.41\n",
       "489091    107.34\n",
       "510609    107.81\n",
       "654247    115.62\n",
       "720528    107.58\n",
       "723350    105.44\n",
       "Name: Guest_Popularity_percentage, dtype: float64"
      ]
     },
     "execution_count": 11,
     "metadata": {},
     "output_type": "execute_result"
    }
   ],
   "source": [
    "df[\"Guest_Popularity_percentage\"][df[\"Guest_Popularity_percentage\"] > 100]"
   ]
  },
  {
   "cell_type": "markdown",
   "id": "3e03e6ae-ffee-4293-b754-fe2ed0a7f985",
   "metadata": {},
   "source": [
    "drop these outliers"
   ]
  },
  {
   "cell_type": "code",
   "execution_count": 12,
   "id": "5246bd68-1596-4862-a0b6-fd1000de69e4",
   "metadata": {},
   "outputs": [],
   "source": [
    "drop_outliers = [\"Guest_Popularity_percentage\"]"
   ]
  },
  {
   "cell_type": "code",
   "execution_count": 13,
   "id": "8e18b3d9-f64f-4f1c-bcbb-7f640f2ecca7",
   "metadata": {},
   "outputs": [
    {
     "name": "stdout",
     "output_type": "stream",
     "text": [
      "(48,)\n"
     ]
    },
    {
     "data": {
      "text/plain": [
       "Tech Talks             22847\n",
       "Sports Weekly          20053\n",
       "Funny Folks            19635\n",
       "Tech Trends            19549\n",
       "Fitness First          19488\n",
       "Business Insights      19480\n",
       "Style Guide            19364\n",
       "Game Day               19272\n",
       "Melody Mix             18889\n",
       "Criminal Minds         17735\n",
       "Finance Focus          17628\n",
       "Detective Diaries      17452\n",
       "Crime Chronicles       17374\n",
       "Athlete's Arena        17327\n",
       "Fashion Forward        17280\n",
       "Tune Time              17254\n",
       "Business Briefs        17012\n",
       "Lifestyle Lounge       16661\n",
       "True Crime Stories     16373\n",
       "Sports Central         16191\n",
       "Digital Digest         16171\n",
       "Humor Hub              16144\n",
       "Mystery Matters        16002\n",
       "Comedy Corner          15927\n",
       "Joke Junction          15074\n",
       "Wellness Wave          15009\n",
       "Sport Spot             14778\n",
       "Gadget Geek            14770\n",
       "Home & Living          14686\n",
       "Laugh Line             14673\n",
       "Life Lessons           14464\n",
       "World Watch            14043\n",
       "Sound Waves            13928\n",
       "Global News            13649\n",
       "Mind & Body            13639\n",
       "Daily Digest           13391\n",
       "Money Matters          13380\n",
       "Current Affairs        13138\n",
       "Market Masters         13092\n",
       "Study Sessions         13053\n",
       "Innovators             12913\n",
       "Music Matters          12652\n",
       "Learning Lab           12291\n",
       "Educational Nuggets    12245\n",
       "Healthy Living         12198\n",
       "Brain Boost            11543\n",
       "Health Hour            11114\n",
       "News Roundup            9169\n",
       "Name: Podcast_Name, dtype: int64"
      ]
     },
     "execution_count": 13,
     "metadata": {},
     "output_type": "execute_result"
    }
   ],
   "source": [
    "print(df[\"Podcast_Name\"].value_counts().shape)\n",
    "df[\"Podcast_Name\"].value_counts()"
   ]
  },
  {
   "cell_type": "markdown",
   "id": "47af0f01-601c-4b4e-b0a8-2108414a5b88",
   "metadata": {},
   "source": [
    "Target encoding"
   ]
  },
  {
   "cell_type": "code",
   "execution_count": 14,
   "id": "54e4da65-acd9-4c61-8723-09eff34b3662",
   "metadata": {},
   "outputs": [],
   "source": [
    "tar_encode = [\"Podcast_Name\"]"
   ]
  },
  {
   "cell_type": "code",
   "execution_count": 15,
   "id": "05bcced1-f37b-40b5-97de-cd039b41407c",
   "metadata": {},
   "outputs": [
    {
     "data": {
      "text/plain": [
       "Episode 71    10515\n",
       "Episode 62    10373\n",
       "Episode 31    10292\n",
       "Episode 61     9991\n",
       "Episode 69     9864\n",
       "              ...  \n",
       "Episode 2      5134\n",
       "Episode 25     5117\n",
       "Episode 41     4965\n",
       "Episode 37     4940\n",
       "Episode 95     4838\n",
       "Name: Episode_Title, Length: 100, dtype: int64"
      ]
     },
     "execution_count": 15,
     "metadata": {},
     "output_type": "execute_result"
    }
   ],
   "source": [
    "df[\"Episode_Title\"].value_counts()"
   ]
  },
  {
   "cell_type": "markdown",
   "id": "94859b78-fd44-4154-877f-af986eb7cc5a",
   "metadata": {},
   "source": [
    "Target encode"
   ]
  },
  {
   "cell_type": "code",
   "execution_count": 16,
   "id": "52a4ba84-1f60-4788-8dfe-05e825947823",
   "metadata": {},
   "outputs": [],
   "source": [
    "tar_encode.append(\"Episode_Title\")"
   ]
  },
  {
   "cell_type": "code",
   "execution_count": 17,
   "id": "f1ab2796-8d63-4193-927e-e30dbcbf8828",
   "metadata": {},
   "outputs": [
    {
     "data": {
      "text/plain": [
       "Sports        87606\n",
       "Technology    86256\n",
       "True Crime    85059\n",
       "Lifestyle     82461\n",
       "Comedy        81453\n",
       "Business      80521\n",
       "Health        71416\n",
       "News          63385\n",
       "Music         62743\n",
       "Education     49100\n",
       "Name: Genre, dtype: int64"
      ]
     },
     "execution_count": 17,
     "metadata": {},
     "output_type": "execute_result"
    }
   ],
   "source": [
    "df[\"Genre\"].value_counts()"
   ]
  },
  {
   "cell_type": "markdown",
   "id": "2dc330d8-601d-4f77-a0ce-6e48ab01a3dc",
   "metadata": {},
   "source": [
    "One hot encode"
   ]
  },
  {
   "cell_type": "code",
   "execution_count": 18,
   "id": "3af256b4-d164-4831-b2f3-53a0d8cb6633",
   "metadata": {},
   "outputs": [],
   "source": [
    "ohe = [\"Genre\"]"
   ]
  },
  {
   "cell_type": "code",
   "execution_count": 19,
   "id": "458204ad-8391-4545-aa5a-30e82a274f6c",
   "metadata": {},
   "outputs": [
    {
     "data": {
      "text/plain": [
       "<AxesSubplot:xlabel='Host_Popularity_percentage', ylabel='Count'>"
      ]
     },
     "execution_count": 19,
     "metadata": {},
     "output_type": "execute_result"
    },
    {
     "data": {
      "image/png": "[encoded data removed]",
      "text/plain": [
       "<Figure size 720x360 with 1 Axes>"
      ]
     },
     "metadata": {
      "needs_background": "light"
     },
     "output_type": "display_data"
    }
   ],
   "source": [
    "fig, ax = plt.subplots(figsize=(10, 5))\n",
    "sns.histplot(df[\"Host_Popularity_percentage\"])"
   ]
  },
  {
   "cell_type": "code",
   "execution_count": 20,
   "id": "1b100e63-d3d6-4b90-a582-1f894279b417",
   "metadata": {},
   "outputs": [
    {
     "data": {
      "text/plain": [
       "23925     117.76\n",
       "79078     118.73\n",
       "111850    105.57\n",
       "113304    115.18\n",
       "123611    112.25\n",
       "132903    103.00\n",
       "170608    103.00\n",
       "176422    117.14\n",
       "183757    117.76\n",
       "187862    112.25\n",
       "206015    114.97\n",
       "222880    107.02\n",
       "226171    118.69\n",
       "321919    117.14\n",
       "343982    118.93\n",
       "349735    101.11\n",
       "369147    117.14\n",
       "459018    117.14\n",
       "465407    109.38\n",
       "483248    112.44\n",
       "520995    101.31\n",
       "534237    114.73\n",
       "538582    119.46\n",
       "568996    104.60\n",
       "599478    117.14\n",
       "Name: Host_Popularity_percentage, dtype: float64"
      ]
     },
     "execution_count": 20,
     "metadata": {},
     "output_type": "execute_result"
    }
   ],
   "source": [
    "df[\"Host_Popularity_percentage\"][df[\"Host_Popularity_percentage\"] > 100]"
   ]
  },
  {
   "cell_type": "markdown",
   "id": "f1c1253f-08e8-4f9a-815f-8f071ca8d5f6",
   "metadata": {},
   "source": [
    "Drop outliers"
   ]
  },
  {
   "cell_type": "code",
   "execution_count": 21,
   "id": "a8814125-cbcf-4445-9552-f3e52f878067",
   "metadata": {},
   "outputs": [],
   "source": [
    "drop_outliers.append(\"Host_Popularity_percentage\")"
   ]
  },
  {
   "cell_type": "code",
   "execution_count": 22,
   "id": "29702f85-3196-4e8b-885e-e4b443c7bcb0",
   "metadata": {},
   "outputs": [
    {
     "data": {
      "text/plain": [
       "Sunday       115946\n",
       "Monday       111963\n",
       "Friday       108237\n",
       "Wednesday    107886\n",
       "Thursday     104360\n",
       "Saturday     103505\n",
       "Tuesday       98103\n",
       "Name: Publication_Day, dtype: int64"
      ]
     },
     "execution_count": 22,
     "metadata": {},
     "output_type": "execute_result"
    }
   ],
   "source": [
    "df[\"Publication_Day\"].value_counts()"
   ]
  },
  {
   "cell_type": "markdown",
   "id": "626bb5c5-e41a-4296-92b4-7ae012e9eb1e",
   "metadata": {},
   "source": [
    "One Hot Encode"
   ]
  },
  {
   "cell_type": "code",
   "execution_count": 23,
   "id": "604c85d4-de3b-46a5-abda-e97075bf14aa",
   "metadata": {},
   "outputs": [],
   "source": [
    "ohe.append(\"Publication_Day\")"
   ]
  },
  {
   "cell_type": "code",
   "execution_count": 24,
   "id": "43b0a179-11f1-40a4-92ab-3c2865017ef9",
   "metadata": {},
   "outputs": [
    {
     "data": {
      "text/plain": [
       "Night        196849\n",
       "Evening      195778\n",
       "Afternoon    179460\n",
       "Morning      177913\n",
       "Name: Publication_Time, dtype: int64"
      ]
     },
     "execution_count": 24,
     "metadata": {},
     "output_type": "execute_result"
    }
   ],
   "source": [
    "df[\"Publication_Time\"].value_counts()"
   ]
  },
  {
   "cell_type": "markdown",
   "id": "7c5df830-764a-4283-a571-115bea5d2a9e",
   "metadata": {},
   "source": [
    "One Hot Encode"
   ]
  },
  {
   "cell_type": "code",
   "execution_count": 25,
   "id": "4c7d45e5-72bd-4f76-9348-7a174c5039b6",
   "metadata": {},
   "outputs": [],
   "source": [
    "ohe.append(\"Publication_Time\")"
   ]
  },
  {
   "cell_type": "code",
   "execution_count": 26,
   "id": "7d18e71f-8da5-4cfa-ae64-37d020aad6b7",
   "metadata": {},
   "outputs": [
    {
     "data": {
      "text/plain": [
       "<AxesSubplot:ylabel='Frequency'>"
      ]
     },
     "execution_count": 26,
     "metadata": {},
     "output_type": "execute_result"
    },
    {
     "data": {
      "image/png": "[encoded data removed]",
      "text/plain": [
       "<Figure size 432x288 with 1 Axes>"
      ]
     },
     "metadata": {
      "needs_background": "light"
     },
     "output_type": "display_data"
    }
   ],
   "source": [
    "df[\"Number_of_Ads\"].plot(kind=\"hist\")"
   ]
  },
  {
   "cell_type": "code",
   "execution_count": 27,
   "id": "818beb73-96e2-41d4-9877-ce32f2fbfa7d",
   "metadata": {},
   "outputs": [
    {
     "data": {
      "text/plain": [
       "<AxesSubplot:xlabel='Number_of_Ads'>"
      ]
     },
     "execution_count": 27,
     "metadata": {},
     "output_type": "execute_result"
    },
    {
     "data": {
      "image/png": "[encoded data removed]",
      "text/plain": [
       "<Figure size 432x288 with 1 Axes>"
      ]
     },
     "metadata": {
      "needs_background": "light"
     },
     "output_type": "display_data"
    }
   ],
   "source": [
    "sns.boxplot(df[\"Number_of_Ads\"], orient=\"h\")"
   ]
  },
  {
   "cell_type": "code",
   "execution_count": 28,
   "id": "95a99ecf-f6fd-45bf-ab28-b739625d0d38",
   "metadata": {},
   "outputs": [
    {
     "data": {
      "text/plain": [
       "<AxesSubplot:ylabel='Frequency'>"
      ]
     },
     "execution_count": 28,
     "metadata": {},
     "output_type": "execute_result"
    },
    {
     "data": {
      "image/png": "[encoded data removed]",
      "text/plain": [
       "<Figure size 432x288 with 1 Axes>"
      ]
     },
     "metadata": {
      "needs_background": "light"
     },
     "output_type": "display_data"
    }
   ],
   "source": [
    "df[df[\"Number_of_Ads\"] > 0][\"Number_of_Ads\"].plot(kind=\"hist\")"
   ]
  },
  {
   "cell_type": "code",
   "execution_count": 29,
   "id": "b115b772-16a1-4978-83c0-a06b160be9dd",
   "metadata": {},
   "outputs": [
    {
     "data": {
      "text/plain": [
       "<AxesSubplot:xlabel='Number_of_Ads'>"
      ]
     },
     "execution_count": 29,
     "metadata": {},
     "output_type": "execute_result"
    },
    {
     "data": {
      "image/png": "[encoded data removed]",
      "text/plain": [
       "<Figure size 432x288 with 1 Axes>"
      ]
     },
     "metadata": {
      "needs_background": "light"
     },
     "output_type": "display_data"
    }
   ],
   "source": [
    "sns.boxplot(df[df[\"Number_of_Ads\"] > 0][\"Number_of_Ads\"], orient=\"h\")"
   ]
  },
  {
   "cell_type": "code",
   "execution_count": 30,
   "id": "4666acf0-cf34-42e9-b108-94f2c903b02d",
   "metadata": {},
   "outputs": [
    {
     "data": {
      "text/plain": [
       "<AxesSubplot:>"
      ]
     },
     "execution_count": 30,
     "metadata": {},
     "output_type": "execute_result"
    },
    {
     "data": {
      "image/png": "[encoded data removed]",
      "text/plain": [
       "<Figure size 1440x720 with 4 Axes>"
      ]
     },
     "metadata": {
      "needs_background": "light"
     },
     "output_type": "display_data"
    }
   ],
   "source": [
    "fig, ax = plt.subplots(2, 2, figsize=(20, 10))\n",
    "ax[0, 0].hist(df[\"Number_of_Ads\"], label=\"No log\")\n",
    "ax[0, 0].legend()\n",
    "sns.boxplot(df[\"Number_of_Ads\"], ax=ax[1][0], orient=\"h\")\n",
    "ax[0, 1].hist(np.append(np.log(df[df[\"Number_of_Ads\"] > 0][\"Number_of_Ads\"]), df[df[\"Number_of_Ads\"] == 0][\"Number_of_Ads\"]), label=\"log\")\n",
    "ax[0, 1].legend()\n",
    "sns.boxplot(np.append(np.log(df[df[\"Number_of_Ads\"] > 0][\"Number_of_Ads\"]), df[df[\"Number_of_Ads\"] == 0][\"Number_of_Ads\"]), ax=ax[1, 1], orient=\"h\")"
   ]
  },
  {
   "cell_type": "code",
   "execution_count": 31,
   "id": "c2b88830-f205-483c-8a4f-91a6d72633ac",
   "metadata": {},
   "outputs": [
    {
     "data": {
      "text/plain": [
       "1         0.693147\n",
       "3         0.693147\n",
       "4         1.098612\n",
       "5         1.098612\n",
       "8         0.693147\n",
       "            ...   \n",
       "749988    0.000000\n",
       "749989    1.098612\n",
       "749992    1.098612\n",
       "749994    0.000000\n",
       "749996    0.693147\n",
       "Name: Number_of_Ads, Length: 532407, dtype: float64"
      ]
     },
     "execution_count": 31,
     "metadata": {},
     "output_type": "execute_result"
    }
   ],
   "source": [
    "np.log(df[df[\"Number_of_Ads\"] > 0][\"Number_of_Ads\"])"
   ]
  },
  {
   "cell_type": "code",
   "execution_count": 32,
   "id": "46b3c8f6-2e7d-46b2-90d5-eed01c1396fa",
   "metadata": {},
   "outputs": [
    {
     "data": {
      "text/plain": [
       "217592"
      ]
     },
     "execution_count": 32,
     "metadata": {},
     "output_type": "execute_result"
    }
   ],
   "source": [
    "df[df[\"Number_of_Ads\"] == 0].shape[0]"
   ]
  },
  {
   "cell_type": "code",
   "execution_count": 33,
   "id": "066ab0ab-2550-4df4-ac1f-812e68fec07e",
   "metadata": {},
   "outputs": [
    {
     "data": {
      "text/plain": [
       "<AxesSubplot:>"
      ]
     },
     "execution_count": 33,
     "metadata": {},
     "output_type": "execute_result"
    },
    {
     "data": {
      "image/png": "[encoded data removed]",
      "text/plain": [
       "<Figure size 432x288 with 1 Axes>"
      ]
     },
     "metadata": {
      "needs_background": "light"
     },
     "output_type": "display_data"
    }
   ],
   "source": [
    "df[df[\"Number_of_Ads\"] > 10][\"Number_of_Ads\"].hist()"
   ]
  },
  {
   "cell_type": "code",
   "execution_count": 34,
   "id": "1dcb9e1f-8835-4646-a0be-c7a168e326f3",
   "metadata": {},
   "outputs": [
    {
     "data": {
      "text/plain": [
       "4         3.0\n",
       "5         3.0\n",
       "9         3.0\n",
       "10        3.0\n",
       "18        3.0\n",
       "         ... \n",
       "749977    3.0\n",
       "749979    3.0\n",
       "749980    3.0\n",
       "749989    3.0\n",
       "749992    3.0\n",
       "Name: Number_of_Ads, Length: 160182, dtype: float64"
      ]
     },
     "execution_count": 34,
     "metadata": {},
     "output_type": "execute_result"
    }
   ],
   "source": [
    "df[df[\"Number_of_Ads\"] > 2][\"Number_of_Ads\"]"
   ]
  },
  {
   "cell_type": "markdown",
   "id": "ba54d565-e8ee-4c9a-866e-82b20c4f9429",
   "metadata": {},
   "source": [
    "Create new columns: 0 ads, 1 ad, 2 ads, 3 ads, >3 ads"
   ]
  },
  {
   "cell_type": "code",
   "execution_count": 35,
   "id": "88dea3e6-3a29-438b-92da-ded660e66cd0",
   "metadata": {},
   "outputs": [
    {
     "data": {
      "text/plain": [
       "Neutral     251291\n",
       "Negative    250116\n",
       "Positive    248593\n",
       "Name: Episode_Sentiment, dtype: int64"
      ]
     },
     "execution_count": 35,
     "metadata": {},
     "output_type": "execute_result"
    }
   ],
   "source": [
    "df[\"Episode_Sentiment\"].value_counts()"
   ]
  },
  {
   "cell_type": "markdown",
   "id": "32b13a6b-f982-4990-b090-a20fcb0b8721",
   "metadata": {},
   "source": [
    "One hot encode"
   ]
  },
  {
   "cell_type": "code",
   "execution_count": 36,
   "id": "152c70f6-7268-4f97-9a9a-3cca5b2e980d",
   "metadata": {},
   "outputs": [],
   "source": [
    "ohe.append(\"Episode_Sentiment\")"
   ]
  },
  {
   "cell_type": "code",
   "execution_count": 37,
   "id": "b5f2fc12-a4c0-4df2-aef0-beb15522c606",
   "metadata": {},
   "outputs": [],
   "source": [
    "def wrangle(path):\n",
    "    # Read Data\n",
    "    data = pd.read_csv(path)\n",
    "    # Fill in missing values\n",
    "    data.fillna(data.median(), inplace=True)\n",
    "    # Handle outliers\n",
    "    mask_outliers = [\"Guest_Popularity_percentage\", \"Host_Popularity_percentage\"]\n",
    "    for outlier in mask_outliers:\n",
    "        data = data[data[outlier] <= 100]\n",
    "    # Bucketize Number of Ads\n",
    "    data[\"Number_of_Ads\"] = np.where(data[\"Number_of_Ads\"] <= 3, data[\"Number_of_Ads\"].astype(int).astype(str), \">3 ads\")\n",
    "    return data"
   ]
  },
  {
   "cell_type": "code",
   "execution_count": 38,
   "id": "d79758ff-5c48-4eb3-8865-59c01bcddd32",
   "metadata": {},
   "outputs": [
    {
     "name": "stderr",
     "output_type": "stream",
     "text": [
      "C:\\Users\\User\\AppData\\Local\\Temp\\ipykernel_11824\\2263821272.py:5: FutureWarning: The default value of numeric_only in DataFrame.median is deprecated. In a future version, it will default to False. In addition, specifying 'numeric_only=None' is deprecated. Select only valid columns or specify the value of numeric_only to silence this warning.\n",
      "  data.fillna(data.median(), inplace=True)\n"
     ]
    },
    {
     "data": {
      "text/html": [
       "<div>\n",
       "<style scoped>\n",
       "    .dataframe tbody tr th:only-of-type {\n",
       "        vertical-align: middle;\n",
       "    }\n",
       "\n",
       "    .dataframe tbody tr th {\n",
       "        vertical-align: top;\n",
       "    }\n",
       "\n",
       "    .dataframe thead th {\n",
       "        text-align: right;\n",
       "    }\n",
       "</style>\n",
       "<table border=\"1\" class=\"dataframe\">\n",
       "  <thead>\n",
       "    <tr style=\"text-align: right;\">\n",
       "      <th></th>\n",
       "      <th>id</th>\n",
       "      <th>Podcast_Name</th>\n",
       "      <th>Episode_Title</th>\n",
       "      <th>Episode_Length_minutes</th>\n",
       "      <th>Genre</th>\n",
       "      <th>Host_Popularity_percentage</th>\n",
       "      <th>Publication_Day</th>\n",
       "      <th>Publication_Time</th>\n",
       "      <th>Guest_Popularity_percentage</th>\n",
       "      <th>Number_of_Ads</th>\n",
       "      <th>Episode_Sentiment</th>\n",
       "      <th>Listening_Time_minutes</th>\n",
       "    </tr>\n",
       "  </thead>\n",
       "  <tbody>\n",
       "    <tr>\n",
       "      <th>0</th>\n",
       "      <td>0</td>\n",
       "      <td>Mystery Matters</td>\n",
       "      <td>Episode 98</td>\n",
       "      <td>63.84</td>\n",
       "      <td>True Crime</td>\n",
       "      <td>74.81</td>\n",
       "      <td>Thursday</td>\n",
       "      <td>Night</td>\n",
       "      <td>53.58</td>\n",
       "      <td>0</td>\n",
       "      <td>Positive</td>\n",
       "      <td>31.41998</td>\n",
       "    </tr>\n",
       "    <tr>\n",
       "      <th>1</th>\n",
       "      <td>1</td>\n",
       "      <td>Joke Junction</td>\n",
       "      <td>Episode 26</td>\n",
       "      <td>119.80</td>\n",
       "      <td>Comedy</td>\n",
       "      <td>66.95</td>\n",
       "      <td>Saturday</td>\n",
       "      <td>Afternoon</td>\n",
       "      <td>75.95</td>\n",
       "      <td>2</td>\n",
       "      <td>Negative</td>\n",
       "      <td>88.01241</td>\n",
       "    </tr>\n",
       "    <tr>\n",
       "      <th>2</th>\n",
       "      <td>2</td>\n",
       "      <td>Study Sessions</td>\n",
       "      <td>Episode 16</td>\n",
       "      <td>73.90</td>\n",
       "      <td>Education</td>\n",
       "      <td>69.97</td>\n",
       "      <td>Tuesday</td>\n",
       "      <td>Evening</td>\n",
       "      <td>8.97</td>\n",
       "      <td>0</td>\n",
       "      <td>Negative</td>\n",
       "      <td>44.92531</td>\n",
       "    </tr>\n",
       "    <tr>\n",
       "      <th>3</th>\n",
       "      <td>3</td>\n",
       "      <td>Digital Digest</td>\n",
       "      <td>Episode 45</td>\n",
       "      <td>67.17</td>\n",
       "      <td>Technology</td>\n",
       "      <td>57.22</td>\n",
       "      <td>Monday</td>\n",
       "      <td>Morning</td>\n",
       "      <td>78.70</td>\n",
       "      <td>2</td>\n",
       "      <td>Positive</td>\n",
       "      <td>46.27824</td>\n",
       "    </tr>\n",
       "    <tr>\n",
       "      <th>4</th>\n",
       "      <td>4</td>\n",
       "      <td>Mind &amp; Body</td>\n",
       "      <td>Episode 86</td>\n",
       "      <td>110.51</td>\n",
       "      <td>Health</td>\n",
       "      <td>80.07</td>\n",
       "      <td>Monday</td>\n",
       "      <td>Afternoon</td>\n",
       "      <td>58.68</td>\n",
       "      <td>3</td>\n",
       "      <td>Neutral</td>\n",
       "      <td>75.61031</td>\n",
       "    </tr>\n",
       "    <tr>\n",
       "      <th>...</th>\n",
       "      <td>...</td>\n",
       "      <td>...</td>\n",
       "      <td>...</td>\n",
       "      <td>...</td>\n",
       "      <td>...</td>\n",
       "      <td>...</td>\n",
       "      <td>...</td>\n",
       "      <td>...</td>\n",
       "      <td>...</td>\n",
       "      <td>...</td>\n",
       "      <td>...</td>\n",
       "      <td>...</td>\n",
       "    </tr>\n",
       "    <tr>\n",
       "      <th>749995</th>\n",
       "      <td>749995</td>\n",
       "      <td>Learning Lab</td>\n",
       "      <td>Episode 25</td>\n",
       "      <td>75.66</td>\n",
       "      <td>Education</td>\n",
       "      <td>69.36</td>\n",
       "      <td>Saturday</td>\n",
       "      <td>Morning</td>\n",
       "      <td>53.58</td>\n",
       "      <td>0</td>\n",
       "      <td>Negative</td>\n",
       "      <td>56.87058</td>\n",
       "    </tr>\n",
       "    <tr>\n",
       "      <th>749996</th>\n",
       "      <td>749996</td>\n",
       "      <td>Business Briefs</td>\n",
       "      <td>Episode 21</td>\n",
       "      <td>75.75</td>\n",
       "      <td>Business</td>\n",
       "      <td>35.21</td>\n",
       "      <td>Saturday</td>\n",
       "      <td>Night</td>\n",
       "      <td>53.58</td>\n",
       "      <td>2</td>\n",
       "      <td>Neutral</td>\n",
       "      <td>45.46242</td>\n",
       "    </tr>\n",
       "    <tr>\n",
       "      <th>749997</th>\n",
       "      <td>749997</td>\n",
       "      <td>Lifestyle Lounge</td>\n",
       "      <td>Episode 51</td>\n",
       "      <td>30.98</td>\n",
       "      <td>Lifestyle</td>\n",
       "      <td>78.58</td>\n",
       "      <td>Thursday</td>\n",
       "      <td>Morning</td>\n",
       "      <td>84.89</td>\n",
       "      <td>0</td>\n",
       "      <td>Negative</td>\n",
       "      <td>15.26000</td>\n",
       "    </tr>\n",
       "    <tr>\n",
       "      <th>749998</th>\n",
       "      <td>749998</td>\n",
       "      <td>Style Guide</td>\n",
       "      <td>Episode 47</td>\n",
       "      <td>108.98</td>\n",
       "      <td>Lifestyle</td>\n",
       "      <td>45.39</td>\n",
       "      <td>Thursday</td>\n",
       "      <td>Morning</td>\n",
       "      <td>93.27</td>\n",
       "      <td>0</td>\n",
       "      <td>Negative</td>\n",
       "      <td>100.72939</td>\n",
       "    </tr>\n",
       "    <tr>\n",
       "      <th>749999</th>\n",
       "      <td>749999</td>\n",
       "      <td>Sports Central</td>\n",
       "      <td>Episode 99</td>\n",
       "      <td>24.10</td>\n",
       "      <td>Sports</td>\n",
       "      <td>22.45</td>\n",
       "      <td>Saturday</td>\n",
       "      <td>Night</td>\n",
       "      <td>36.72</td>\n",
       "      <td>0</td>\n",
       "      <td>Neutral</td>\n",
       "      <td>11.94439</td>\n",
       "    </tr>\n",
       "  </tbody>\n",
       "</table>\n",
       "<p>749956 rows × 12 columns</p>\n",
       "</div>"
      ],
      "text/plain": [
       "            id      Podcast_Name Episode_Title  Episode_Length_minutes  \\\n",
       "0            0   Mystery Matters    Episode 98                   63.84   \n",
       "1            1     Joke Junction    Episode 26                  119.80   \n",
       "2            2    Study Sessions    Episode 16                   73.90   \n",
       "3            3    Digital Digest    Episode 45                   67.17   \n",
       "4            4       Mind & Body    Episode 86                  110.51   \n",
       "...        ...               ...           ...                     ...   \n",
       "749995  749995      Learning Lab    Episode 25                   75.66   \n",
       "749996  749996   Business Briefs    Episode 21                   75.75   \n",
       "749997  749997  Lifestyle Lounge    Episode 51                   30.98   \n",
       "749998  749998       Style Guide    Episode 47                  108.98   \n",
       "749999  749999    Sports Central    Episode 99                   24.10   \n",
       "\n",
       "             Genre  Host_Popularity_percentage Publication_Day  \\\n",
       "0       True Crime                       74.81        Thursday   \n",
       "1           Comedy                       66.95        Saturday   \n",
       "2        Education                       69.97         Tuesday   \n",
       "3       Technology                       57.22          Monday   \n",
       "4           Health                       80.07          Monday   \n",
       "...            ...                         ...             ...   \n",
       "749995   Education                       69.36        Saturday   \n",
       "749996    Business                       35.21        Saturday   \n",
       "749997   Lifestyle                       78.58        Thursday   \n",
       "749998   Lifestyle                       45.39        Thursday   \n",
       "749999      Sports                       22.45        Saturday   \n",
       "\n",
       "       Publication_Time  Guest_Popularity_percentage Number_of_Ads  \\\n",
       "0                 Night                        53.58             0   \n",
       "1             Afternoon                        75.95             2   \n",
       "2               Evening                         8.97             0   \n",
       "3               Morning                        78.70             2   \n",
       "4             Afternoon                        58.68             3   \n",
       "...                 ...                          ...           ...   \n",
       "749995          Morning                        53.58             0   \n",
       "749996            Night                        53.58             2   \n",
       "749997          Morning                        84.89             0   \n",
       "749998          Morning                        93.27             0   \n",
       "749999            Night                        36.72             0   \n",
       "\n",
       "       Episode_Sentiment  Listening_Time_minutes  \n",
       "0               Positive                31.41998  \n",
       "1               Negative                88.01241  \n",
       "2               Negative                44.92531  \n",
       "3               Positive                46.27824  \n",
       "4                Neutral                75.61031  \n",
       "...                  ...                     ...  \n",
       "749995          Negative                56.87058  \n",
       "749996           Neutral                45.46242  \n",
       "749997          Negative                15.26000  \n",
       "749998          Negative               100.72939  \n",
       "749999           Neutral                11.94439  \n",
       "\n",
       "[749956 rows x 12 columns]"
      ]
     },
     "execution_count": 38,
     "metadata": {},
     "output_type": "execute_result"
    }
   ],
   "source": [
    "df_w = wrangle(\"train.csv\")\n",
    "df_w"
   ]
  },
  {
   "cell_type": "code",
   "execution_count": 39,
   "id": "d3100698-ecfd-4e5e-873b-bdebfad58e68",
   "metadata": {},
   "outputs": [],
   "source": [
    "ohe.append(\"Number_of_Ads\")"
   ]
  },
  {
   "cell_type": "code",
   "execution_count": 40,
   "id": "b2a2361c-37c8-46cd-8a2f-099867250288",
   "metadata": {},
   "outputs": [],
   "source": [
    "X = df_w.drop([\"id\", \"Listening_Time_minutes\"], axis=1)\n",
    "y = df_w[\"Listening_Time_minutes\"]"
   ]
  },
  {
   "cell_type": "code",
   "execution_count": 41,
   "id": "4000354a-cdd0-4e99-88ac-5a431d367ec5",
   "metadata": {},
   "outputs": [
    {
     "data": {
      "text/html": [
       "<div>\n",
       "<style scoped>\n",
       "    .dataframe tbody tr th:only-of-type {\n",
       "        vertical-align: middle;\n",
       "    }\n",
       "\n",
       "    .dataframe tbody tr th {\n",
       "        vertical-align: top;\n",
       "    }\n",
       "\n",
       "    .dataframe thead th {\n",
       "        text-align: right;\n",
       "    }\n",
       "</style>\n",
       "<table border=\"1\" class=\"dataframe\">\n",
       "  <thead>\n",
       "    <tr style=\"text-align: right;\">\n",
       "      <th></th>\n",
       "      <th>Genre</th>\n",
       "      <th>Publication_Day</th>\n",
       "      <th>Publication_Time</th>\n",
       "      <th>Episode_Sentiment</th>\n",
       "      <th>Number_of_Ads</th>\n",
       "    </tr>\n",
       "  </thead>\n",
       "  <tbody>\n",
       "    <tr>\n",
       "      <th>0</th>\n",
       "      <td>True Crime</td>\n",
       "      <td>Thursday</td>\n",
       "      <td>Night</td>\n",
       "      <td>Positive</td>\n",
       "      <td>0.0</td>\n",
       "    </tr>\n",
       "    <tr>\n",
       "      <th>1</th>\n",
       "      <td>Comedy</td>\n",
       "      <td>Saturday</td>\n",
       "      <td>Afternoon</td>\n",
       "      <td>Negative</td>\n",
       "      <td>2.0</td>\n",
       "    </tr>\n",
       "    <tr>\n",
       "      <th>2</th>\n",
       "      <td>Education</td>\n",
       "      <td>Tuesday</td>\n",
       "      <td>Evening</td>\n",
       "      <td>Negative</td>\n",
       "      <td>0.0</td>\n",
       "    </tr>\n",
       "    <tr>\n",
       "      <th>3</th>\n",
       "      <td>Technology</td>\n",
       "      <td>Monday</td>\n",
       "      <td>Morning</td>\n",
       "      <td>Positive</td>\n",
       "      <td>2.0</td>\n",
       "    </tr>\n",
       "    <tr>\n",
       "      <th>4</th>\n",
       "      <td>Health</td>\n",
       "      <td>Monday</td>\n",
       "      <td>Afternoon</td>\n",
       "      <td>Neutral</td>\n",
       "      <td>3.0</td>\n",
       "    </tr>\n",
       "    <tr>\n",
       "      <th>...</th>\n",
       "      <td>...</td>\n",
       "      <td>...</td>\n",
       "      <td>...</td>\n",
       "      <td>...</td>\n",
       "      <td>...</td>\n",
       "    </tr>\n",
       "    <tr>\n",
       "      <th>749995</th>\n",
       "      <td>Education</td>\n",
       "      <td>Saturday</td>\n",
       "      <td>Morning</td>\n",
       "      <td>Negative</td>\n",
       "      <td>0.0</td>\n",
       "    </tr>\n",
       "    <tr>\n",
       "      <th>749996</th>\n",
       "      <td>Business</td>\n",
       "      <td>Saturday</td>\n",
       "      <td>Night</td>\n",
       "      <td>Neutral</td>\n",
       "      <td>2.0</td>\n",
       "    </tr>\n",
       "    <tr>\n",
       "      <th>749997</th>\n",
       "      <td>Lifestyle</td>\n",
       "      <td>Thursday</td>\n",
       "      <td>Morning</td>\n",
       "      <td>Negative</td>\n",
       "      <td>0.0</td>\n",
       "    </tr>\n",
       "    <tr>\n",
       "      <th>749998</th>\n",
       "      <td>Lifestyle</td>\n",
       "      <td>Thursday</td>\n",
       "      <td>Morning</td>\n",
       "      <td>Negative</td>\n",
       "      <td>0.0</td>\n",
       "    </tr>\n",
       "    <tr>\n",
       "      <th>749999</th>\n",
       "      <td>Sports</td>\n",
       "      <td>Saturday</td>\n",
       "      <td>Night</td>\n",
       "      <td>Neutral</td>\n",
       "      <td>0.0</td>\n",
       "    </tr>\n",
       "  </tbody>\n",
       "</table>\n",
       "<p>750000 rows × 5 columns</p>\n",
       "</div>"
      ],
      "text/plain": [
       "             Genre Publication_Day Publication_Time Episode_Sentiment  \\\n",
       "0       True Crime        Thursday            Night          Positive   \n",
       "1           Comedy        Saturday        Afternoon          Negative   \n",
       "2        Education         Tuesday          Evening          Negative   \n",
       "3       Technology          Monday          Morning          Positive   \n",
       "4           Health          Monday        Afternoon           Neutral   \n",
       "...            ...             ...              ...               ...   \n",
       "749995   Education        Saturday          Morning          Negative   \n",
       "749996    Business        Saturday            Night           Neutral   \n",
       "749997   Lifestyle        Thursday          Morning          Negative   \n",
       "749998   Lifestyle        Thursday          Morning          Negative   \n",
       "749999      Sports        Saturday            Night           Neutral   \n",
       "\n",
       "        Number_of_Ads  \n",
       "0                 0.0  \n",
       "1                 2.0  \n",
       "2                 0.0  \n",
       "3                 2.0  \n",
       "4                 3.0  \n",
       "...               ...  \n",
       "749995            0.0  \n",
       "749996            2.0  \n",
       "749997            0.0  \n",
       "749998            0.0  \n",
       "749999            0.0  \n",
       "\n",
       "[750000 rows x 5 columns]"
      ]
     },
     "execution_count": 41,
     "metadata": {},
     "output_type": "execute_result"
    }
   ],
   "source": [
    "df[ohe]"
   ]
  },
  {
   "cell_type": "code",
   "execution_count": 42,
   "id": "628902b4-52ce-49fa-b4f8-b3f0349a6eeb",
   "metadata": {},
   "outputs": [
    {
     "data": {
      "text/html": [
       "<div>\n",
       "<style scoped>\n",
       "    .dataframe tbody tr th:only-of-type {\n",
       "        vertical-align: middle;\n",
       "    }\n",
       "\n",
       "    .dataframe tbody tr th {\n",
       "        vertical-align: top;\n",
       "    }\n",
       "\n",
       "    .dataframe thead th {\n",
       "        text-align: right;\n",
       "    }\n",
       "</style>\n",
       "<table border=\"1\" class=\"dataframe\">\n",
       "  <thead>\n",
       "    <tr style=\"text-align: right;\">\n",
       "      <th></th>\n",
       "      <th>Podcast_Name</th>\n",
       "      <th>Episode_Title</th>\n",
       "    </tr>\n",
       "  </thead>\n",
       "  <tbody>\n",
       "    <tr>\n",
       "      <th>0</th>\n",
       "      <td>Mystery Matters</td>\n",
       "      <td>Episode 98</td>\n",
       "    </tr>\n",
       "    <tr>\n",
       "      <th>1</th>\n",
       "      <td>Joke Junction</td>\n",
       "      <td>Episode 26</td>\n",
       "    </tr>\n",
       "    <tr>\n",
       "      <th>2</th>\n",
       "      <td>Study Sessions</td>\n",
       "      <td>Episode 16</td>\n",
       "    </tr>\n",
       "    <tr>\n",
       "      <th>3</th>\n",
       "      <td>Digital Digest</td>\n",
       "      <td>Episode 45</td>\n",
       "    </tr>\n",
       "    <tr>\n",
       "      <th>4</th>\n",
       "      <td>Mind &amp; Body</td>\n",
       "      <td>Episode 86</td>\n",
       "    </tr>\n",
       "    <tr>\n",
       "      <th>...</th>\n",
       "      <td>...</td>\n",
       "      <td>...</td>\n",
       "    </tr>\n",
       "    <tr>\n",
       "      <th>749995</th>\n",
       "      <td>Learning Lab</td>\n",
       "      <td>Episode 25</td>\n",
       "    </tr>\n",
       "    <tr>\n",
       "      <th>749996</th>\n",
       "      <td>Business Briefs</td>\n",
       "      <td>Episode 21</td>\n",
       "    </tr>\n",
       "    <tr>\n",
       "      <th>749997</th>\n",
       "      <td>Lifestyle Lounge</td>\n",
       "      <td>Episode 51</td>\n",
       "    </tr>\n",
       "    <tr>\n",
       "      <th>749998</th>\n",
       "      <td>Style Guide</td>\n",
       "      <td>Episode 47</td>\n",
       "    </tr>\n",
       "    <tr>\n",
       "      <th>749999</th>\n",
       "      <td>Sports Central</td>\n",
       "      <td>Episode 99</td>\n",
       "    </tr>\n",
       "  </tbody>\n",
       "</table>\n",
       "<p>750000 rows × 2 columns</p>\n",
       "</div>"
      ],
      "text/plain": [
       "            Podcast_Name Episode_Title\n",
       "0        Mystery Matters    Episode 98\n",
       "1          Joke Junction    Episode 26\n",
       "2         Study Sessions    Episode 16\n",
       "3         Digital Digest    Episode 45\n",
       "4            Mind & Body    Episode 86\n",
       "...                  ...           ...\n",
       "749995      Learning Lab    Episode 25\n",
       "749996   Business Briefs    Episode 21\n",
       "749997  Lifestyle Lounge    Episode 51\n",
       "749998       Style Guide    Episode 47\n",
       "749999    Sports Central    Episode 99\n",
       "\n",
       "[750000 rows x 2 columns]"
      ]
     },
     "execution_count": 42,
     "metadata": {},
     "output_type": "execute_result"
    }
   ],
   "source": [
    "df[tar_encode]"
   ]
  },
  {
   "cell_type": "code",
   "execution_count": 43,
   "id": "44f13142-0504-4f01-a119-dd4c1c4ccf00",
   "metadata": {},
   "outputs": [
    {
     "data": {
      "text/html": [
       "<div>\n",
       "<style scoped>\n",
       "    .dataframe tbody tr th:only-of-type {\n",
       "        vertical-align: middle;\n",
       "    }\n",
       "\n",
       "    .dataframe tbody tr th {\n",
       "        vertical-align: top;\n",
       "    }\n",
       "\n",
       "    .dataframe thead th {\n",
       "        text-align: right;\n",
       "    }\n",
       "</style>\n",
       "<table border=\"1\" class=\"dataframe\">\n",
       "  <thead>\n",
       "    <tr style=\"text-align: right;\">\n",
       "      <th></th>\n",
       "      <th>Podcast_Name</th>\n",
       "      <th>Episode_Title</th>\n",
       "      <th>Episode_Length_minutes</th>\n",
       "      <th>Genre</th>\n",
       "      <th>Host_Popularity_percentage</th>\n",
       "      <th>Publication_Day</th>\n",
       "      <th>Publication_Time</th>\n",
       "      <th>Guest_Popularity_percentage</th>\n",
       "      <th>Number_of_Ads</th>\n",
       "      <th>Episode_Sentiment</th>\n",
       "    </tr>\n",
       "  </thead>\n",
       "  <tbody>\n",
       "    <tr>\n",
       "      <th>0</th>\n",
       "      <td>Mystery Matters</td>\n",
       "      <td>Episode 98</td>\n",
       "      <td>63.84</td>\n",
       "      <td>True Crime</td>\n",
       "      <td>74.81</td>\n",
       "      <td>Thursday</td>\n",
       "      <td>Night</td>\n",
       "      <td>53.58</td>\n",
       "      <td>0</td>\n",
       "      <td>Positive</td>\n",
       "    </tr>\n",
       "    <tr>\n",
       "      <th>1</th>\n",
       "      <td>Joke Junction</td>\n",
       "      <td>Episode 26</td>\n",
       "      <td>119.80</td>\n",
       "      <td>Comedy</td>\n",
       "      <td>66.95</td>\n",
       "      <td>Saturday</td>\n",
       "      <td>Afternoon</td>\n",
       "      <td>75.95</td>\n",
       "      <td>2</td>\n",
       "      <td>Negative</td>\n",
       "    </tr>\n",
       "    <tr>\n",
       "      <th>2</th>\n",
       "      <td>Study Sessions</td>\n",
       "      <td>Episode 16</td>\n",
       "      <td>73.90</td>\n",
       "      <td>Education</td>\n",
       "      <td>69.97</td>\n",
       "      <td>Tuesday</td>\n",
       "      <td>Evening</td>\n",
       "      <td>8.97</td>\n",
       "      <td>0</td>\n",
       "      <td>Negative</td>\n",
       "    </tr>\n",
       "    <tr>\n",
       "      <th>3</th>\n",
       "      <td>Digital Digest</td>\n",
       "      <td>Episode 45</td>\n",
       "      <td>67.17</td>\n",
       "      <td>Technology</td>\n",
       "      <td>57.22</td>\n",
       "      <td>Monday</td>\n",
       "      <td>Morning</td>\n",
       "      <td>78.70</td>\n",
       "      <td>2</td>\n",
       "      <td>Positive</td>\n",
       "    </tr>\n",
       "    <tr>\n",
       "      <th>4</th>\n",
       "      <td>Mind &amp; Body</td>\n",
       "      <td>Episode 86</td>\n",
       "      <td>110.51</td>\n",
       "      <td>Health</td>\n",
       "      <td>80.07</td>\n",
       "      <td>Monday</td>\n",
       "      <td>Afternoon</td>\n",
       "      <td>58.68</td>\n",
       "      <td>3</td>\n",
       "      <td>Neutral</td>\n",
       "    </tr>\n",
       "    <tr>\n",
       "      <th>...</th>\n",
       "      <td>...</td>\n",
       "      <td>...</td>\n",
       "      <td>...</td>\n",
       "      <td>...</td>\n",
       "      <td>...</td>\n",
       "      <td>...</td>\n",
       "      <td>...</td>\n",
       "      <td>...</td>\n",
       "      <td>...</td>\n",
       "      <td>...</td>\n",
       "    </tr>\n",
       "    <tr>\n",
       "      <th>749995</th>\n",
       "      <td>Learning Lab</td>\n",
       "      <td>Episode 25</td>\n",
       "      <td>75.66</td>\n",
       "      <td>Education</td>\n",
       "      <td>69.36</td>\n",
       "      <td>Saturday</td>\n",
       "      <td>Morning</td>\n",
       "      <td>53.58</td>\n",
       "      <td>0</td>\n",
       "      <td>Negative</td>\n",
       "    </tr>\n",
       "    <tr>\n",
       "      <th>749996</th>\n",
       "      <td>Business Briefs</td>\n",
       "      <td>Episode 21</td>\n",
       "      <td>75.75</td>\n",
       "      <td>Business</td>\n",
       "      <td>35.21</td>\n",
       "      <td>Saturday</td>\n",
       "      <td>Night</td>\n",
       "      <td>53.58</td>\n",
       "      <td>2</td>\n",
       "      <td>Neutral</td>\n",
       "    </tr>\n",
       "    <tr>\n",
       "      <th>749997</th>\n",
       "      <td>Lifestyle Lounge</td>\n",
       "      <td>Episode 51</td>\n",
       "      <td>30.98</td>\n",
       "      <td>Lifestyle</td>\n",
       "      <td>78.58</td>\n",
       "      <td>Thursday</td>\n",
       "      <td>Morning</td>\n",
       "      <td>84.89</td>\n",
       "      <td>0</td>\n",
       "      <td>Negative</td>\n",
       "    </tr>\n",
       "    <tr>\n",
       "      <th>749998</th>\n",
       "      <td>Style Guide</td>\n",
       "      <td>Episode 47</td>\n",
       "      <td>108.98</td>\n",
       "      <td>Lifestyle</td>\n",
       "      <td>45.39</td>\n",
       "      <td>Thursday</td>\n",
       "      <td>Morning</td>\n",
       "      <td>93.27</td>\n",
       "      <td>0</td>\n",
       "      <td>Negative</td>\n",
       "    </tr>\n",
       "    <tr>\n",
       "      <th>749999</th>\n",
       "      <td>Sports Central</td>\n",
       "      <td>Episode 99</td>\n",
       "      <td>24.10</td>\n",
       "      <td>Sports</td>\n",
       "      <td>22.45</td>\n",
       "      <td>Saturday</td>\n",
       "      <td>Night</td>\n",
       "      <td>36.72</td>\n",
       "      <td>0</td>\n",
       "      <td>Neutral</td>\n",
       "    </tr>\n",
       "  </tbody>\n",
       "</table>\n",
       "<p>749956 rows × 10 columns</p>\n",
       "</div>"
      ],
      "text/plain": [
       "            Podcast_Name Episode_Title  Episode_Length_minutes       Genre  \\\n",
       "0        Mystery Matters    Episode 98                   63.84  True Crime   \n",
       "1          Joke Junction    Episode 26                  119.80      Comedy   \n",
       "2         Study Sessions    Episode 16                   73.90   Education   \n",
       "3         Digital Digest    Episode 45                   67.17  Technology   \n",
       "4            Mind & Body    Episode 86                  110.51      Health   \n",
       "...                  ...           ...                     ...         ...   \n",
       "749995      Learning Lab    Episode 25                   75.66   Education   \n",
       "749996   Business Briefs    Episode 21                   75.75    Business   \n",
       "749997  Lifestyle Lounge    Episode 51                   30.98   Lifestyle   \n",
       "749998       Style Guide    Episode 47                  108.98   Lifestyle   \n",
       "749999    Sports Central    Episode 99                   24.10      Sports   \n",
       "\n",
       "        Host_Popularity_percentage Publication_Day Publication_Time  \\\n",
       "0                            74.81        Thursday            Night   \n",
       "1                            66.95        Saturday        Afternoon   \n",
       "2                            69.97         Tuesday          Evening   \n",
       "3                            57.22          Monday          Morning   \n",
       "4                            80.07          Monday        Afternoon   \n",
       "...                            ...             ...              ...   \n",
       "749995                       69.36        Saturday          Morning   \n",
       "749996                       35.21        Saturday            Night   \n",
       "749997                       78.58        Thursday          Morning   \n",
       "749998                       45.39        Thursday          Morning   \n",
       "749999                       22.45        Saturday            Night   \n",
       "\n",
       "        Guest_Popularity_percentage Number_of_Ads Episode_Sentiment  \n",
       "0                             53.58             0          Positive  \n",
       "1                             75.95             2          Negative  \n",
       "2                              8.97             0          Negative  \n",
       "3                             78.70             2          Positive  \n",
       "4                             58.68             3           Neutral  \n",
       "...                             ...           ...               ...  \n",
       "749995                        53.58             0          Negative  \n",
       "749996                        53.58             2           Neutral  \n",
       "749997                        84.89             0          Negative  \n",
       "749998                        93.27             0          Negative  \n",
       "749999                        36.72             0           Neutral  \n",
       "\n",
       "[749956 rows x 10 columns]"
      ]
     },
     "execution_count": 43,
     "metadata": {},
     "output_type": "execute_result"
    }
   ],
   "source": [
    "X"
   ]
  },
  {
   "cell_type": "code",
   "execution_count": 44,
   "id": "66ead6a3-a572-4621-91bf-227c49e99e01",
   "metadata": {},
   "outputs": [
    {
     "data": {
      "text/plain": [
       "array([[ 46.01917587,  41.31195225,   0.        , ...,  63.84      ,\n",
       "         74.81      ,  53.58      ],\n",
       "       [ 42.63233591,  46.16266631,   0.        , ..., 119.8       ,\n",
       "         66.95      ,  75.95      ],\n",
       "       [ 47.04778003,  44.58108549,   0.        , ...,  73.9       ,\n",
       "         69.97      ,   8.97      ],\n",
       "       ...,\n",
       "       [ 45.53423621,  45.19297376,   0.        , ...,  30.98      ,\n",
       "         78.58      ,  84.89      ],\n",
       "       [ 45.0731472 ,  45.33359716,   0.        , ..., 108.98      ,\n",
       "         45.39      ,  93.27      ],\n",
       "       [ 41.80034795,  44.83060505,   0.        , ...,  24.1       ,\n",
       "         22.45      ,  36.72      ]])"
      ]
     },
     "execution_count": 44,
     "metadata": {},
     "output_type": "execute_result"
    }
   ],
   "source": [
    "ct = ColumnTransformer([\n",
    "    (\"target_encode\", TargetEncoder(), tar_encode),\n",
    "    (\"ohe\", OneHotEncoder(), ohe),\n",
    "    # (\"ss\", StandardScaler(), make_column_selector(dtype_include=np.number))\n",
    "],\n",
    "    remainder=\"passthrough\"        \n",
    ")\n",
    "X_ct = ct.fit_transform(X, y).toarray()\n",
    "X_ct"
   ]
  },
  {
   "cell_type": "code",
   "execution_count": 45,
   "id": "d311a141-e82f-49cc-9c05-10a9e66d7e22",
   "metadata": {},
   "outputs": [
    {
     "data": {
      "text/plain": [
       "['x0_Business',\n",
       " 'x0_Comedy',\n",
       " 'x0_Education',\n",
       " 'x0_Health',\n",
       " 'x0_Lifestyle',\n",
       " 'x0_Music',\n",
       " 'x0_News',\n",
       " 'x0_Sports',\n",
       " 'x0_Technology',\n",
       " 'x0_True Crime',\n",
       " 'x1_Friday',\n",
       " 'x1_Monday',\n",
       " 'x1_Saturday',\n",
       " 'x1_Sunday',\n",
       " 'x1_Thursday',\n",
       " 'x1_Tuesday',\n",
       " 'x1_Wednesday',\n",
       " 'x2_Afternoon',\n",
       " 'x2_Evening',\n",
       " 'x2_Morning',\n",
       " 'x2_Night',\n",
       " 'x3_Negative',\n",
       " 'x3_Neutral',\n",
       " 'x3_Positive',\n",
       " 'x4_0',\n",
       " 'x4_1',\n",
       " 'x4_2',\n",
       " 'x4_3',\n",
       " 'x4_>3 ads']"
      ]
     },
     "execution_count": 45,
     "metadata": {},
     "output_type": "execute_result"
    }
   ],
   "source": [
    "ohed = ct.named_transformers_[\"ohe\"].get_feature_names()\n",
    "list(ohed)"
   ]
  },
  {
   "cell_type": "code",
   "execution_count": 46,
   "id": "6393966f-05d2-4612-9219-ba4f478a3545",
   "metadata": {},
   "outputs": [],
   "source": [
    "columns = tar_encode + list(ohed) + [\"Episode_Length_minutes\", \"Host_Popularity_percentage\", \"Guest_Popularity_percentage\"]\n",
    "X_ct = pd.DataFrame(X_ct, columns=columns)"
   ]
  },
  {
   "cell_type": "code",
   "execution_count": 47,
   "id": "c5099c9f-2cb1-412e-bfca-46bdc87370e0",
   "metadata": {},
   "outputs": [
    {
     "data": {
      "text/html": [
       "<div>\n",
       "<style scoped>\n",
       "    .dataframe tbody tr th:only-of-type {\n",
       "        vertical-align: middle;\n",
       "    }\n",
       "\n",
       "    .dataframe tbody tr th {\n",
       "        vertical-align: top;\n",
       "    }\n",
       "\n",
       "    .dataframe thead th {\n",
       "        text-align: right;\n",
       "    }\n",
       "</style>\n",
       "<table border=\"1\" class=\"dataframe\">\n",
       "  <thead>\n",
       "    <tr style=\"text-align: right;\">\n",
       "      <th></th>\n",
       "      <th>Podcast_Name</th>\n",
       "      <th>Episode_Title</th>\n",
       "      <th>x0_Business</th>\n",
       "      <th>x0_Comedy</th>\n",
       "      <th>x0_Education</th>\n",
       "      <th>x0_Health</th>\n",
       "      <th>x0_Lifestyle</th>\n",
       "      <th>x0_Music</th>\n",
       "      <th>x0_News</th>\n",
       "      <th>x0_Sports</th>\n",
       "      <th>...</th>\n",
       "      <th>x3_Neutral</th>\n",
       "      <th>x3_Positive</th>\n",
       "      <th>x4_0</th>\n",
       "      <th>x4_1</th>\n",
       "      <th>x4_2</th>\n",
       "      <th>x4_3</th>\n",
       "      <th>x4_&gt;3 ads</th>\n",
       "      <th>Episode_Length_minutes</th>\n",
       "      <th>Host_Popularity_percentage</th>\n",
       "      <th>Guest_Popularity_percentage</th>\n",
       "    </tr>\n",
       "  </thead>\n",
       "  <tbody>\n",
       "    <tr>\n",
       "      <th>0</th>\n",
       "      <td>46.019176</td>\n",
       "      <td>41.311952</td>\n",
       "      <td>0.0</td>\n",
       "      <td>0.0</td>\n",
       "      <td>0.0</td>\n",
       "      <td>0.0</td>\n",
       "      <td>0.0</td>\n",
       "      <td>0.0</td>\n",
       "      <td>0.0</td>\n",
       "      <td>0.0</td>\n",
       "      <td>...</td>\n",
       "      <td>0.0</td>\n",
       "      <td>1.0</td>\n",
       "      <td>1.0</td>\n",
       "      <td>0.0</td>\n",
       "      <td>0.0</td>\n",
       "      <td>0.0</td>\n",
       "      <td>0.0</td>\n",
       "      <td>63.84</td>\n",
       "      <td>74.81</td>\n",
       "      <td>53.58</td>\n",
       "    </tr>\n",
       "    <tr>\n",
       "      <th>1</th>\n",
       "      <td>42.632336</td>\n",
       "      <td>46.162666</td>\n",
       "      <td>0.0</td>\n",
       "      <td>1.0</td>\n",
       "      <td>0.0</td>\n",
       "      <td>0.0</td>\n",
       "      <td>0.0</td>\n",
       "      <td>0.0</td>\n",
       "      <td>0.0</td>\n",
       "      <td>0.0</td>\n",
       "      <td>...</td>\n",
       "      <td>0.0</td>\n",
       "      <td>0.0</td>\n",
       "      <td>0.0</td>\n",
       "      <td>0.0</td>\n",
       "      <td>1.0</td>\n",
       "      <td>0.0</td>\n",
       "      <td>0.0</td>\n",
       "      <td>119.80</td>\n",
       "      <td>66.95</td>\n",
       "      <td>75.95</td>\n",
       "    </tr>\n",
       "    <tr>\n",
       "      <th>2</th>\n",
       "      <td>47.047780</td>\n",
       "      <td>44.581085</td>\n",
       "      <td>0.0</td>\n",
       "      <td>0.0</td>\n",
       "      <td>1.0</td>\n",
       "      <td>0.0</td>\n",
       "      <td>0.0</td>\n",
       "      <td>0.0</td>\n",
       "      <td>0.0</td>\n",
       "      <td>0.0</td>\n",
       "      <td>...</td>\n",
       "      <td>0.0</td>\n",
       "      <td>0.0</td>\n",
       "      <td>1.0</td>\n",
       "      <td>0.0</td>\n",
       "      <td>0.0</td>\n",
       "      <td>0.0</td>\n",
       "      <td>0.0</td>\n",
       "      <td>73.90</td>\n",
       "      <td>69.97</td>\n",
       "      <td>8.97</td>\n",
       "    </tr>\n",
       "    <tr>\n",
       "      <th>3</th>\n",
       "      <td>44.769237</td>\n",
       "      <td>50.551025</td>\n",
       "      <td>0.0</td>\n",
       "      <td>0.0</td>\n",
       "      <td>0.0</td>\n",
       "      <td>0.0</td>\n",
       "      <td>0.0</td>\n",
       "      <td>0.0</td>\n",
       "      <td>0.0</td>\n",
       "      <td>0.0</td>\n",
       "      <td>...</td>\n",
       "      <td>0.0</td>\n",
       "      <td>1.0</td>\n",
       "      <td>0.0</td>\n",
       "      <td>0.0</td>\n",
       "      <td>1.0</td>\n",
       "      <td>0.0</td>\n",
       "      <td>0.0</td>\n",
       "      <td>67.17</td>\n",
       "      <td>57.22</td>\n",
       "      <td>78.70</td>\n",
       "    </tr>\n",
       "    <tr>\n",
       "      <th>4</th>\n",
       "      <td>46.838872</td>\n",
       "      <td>45.055444</td>\n",
       "      <td>0.0</td>\n",
       "      <td>0.0</td>\n",
       "      <td>0.0</td>\n",
       "      <td>1.0</td>\n",
       "      <td>0.0</td>\n",
       "      <td>0.0</td>\n",
       "      <td>0.0</td>\n",
       "      <td>0.0</td>\n",
       "      <td>...</td>\n",
       "      <td>1.0</td>\n",
       "      <td>0.0</td>\n",
       "      <td>0.0</td>\n",
       "      <td>0.0</td>\n",
       "      <td>0.0</td>\n",
       "      <td>1.0</td>\n",
       "      <td>0.0</td>\n",
       "      <td>110.51</td>\n",
       "      <td>80.07</td>\n",
       "      <td>58.68</td>\n",
       "    </tr>\n",
       "    <tr>\n",
       "      <th>...</th>\n",
       "      <td>...</td>\n",
       "      <td>...</td>\n",
       "      <td>...</td>\n",
       "      <td>...</td>\n",
       "      <td>...</td>\n",
       "      <td>...</td>\n",
       "      <td>...</td>\n",
       "      <td>...</td>\n",
       "      <td>...</td>\n",
       "      <td>...</td>\n",
       "      <td>...</td>\n",
       "      <td>...</td>\n",
       "      <td>...</td>\n",
       "      <td>...</td>\n",
       "      <td>...</td>\n",
       "      <td>...</td>\n",
       "      <td>...</td>\n",
       "      <td>...</td>\n",
       "      <td>...</td>\n",
       "      <td>...</td>\n",
       "      <td>...</td>\n",
       "    </tr>\n",
       "    <tr>\n",
       "      <th>749951</th>\n",
       "      <td>45.721536</td>\n",
       "      <td>51.221690</td>\n",
       "      <td>0.0</td>\n",
       "      <td>0.0</td>\n",
       "      <td>1.0</td>\n",
       "      <td>0.0</td>\n",
       "      <td>0.0</td>\n",
       "      <td>0.0</td>\n",
       "      <td>0.0</td>\n",
       "      <td>0.0</td>\n",
       "      <td>...</td>\n",
       "      <td>0.0</td>\n",
       "      <td>0.0</td>\n",
       "      <td>1.0</td>\n",
       "      <td>0.0</td>\n",
       "      <td>0.0</td>\n",
       "      <td>0.0</td>\n",
       "      <td>0.0</td>\n",
       "      <td>75.66</td>\n",
       "      <td>69.36</td>\n",
       "      <td>53.58</td>\n",
       "    </tr>\n",
       "    <tr>\n",
       "      <th>749952</th>\n",
       "      <td>47.121103</td>\n",
       "      <td>46.401445</td>\n",
       "      <td>1.0</td>\n",
       "      <td>0.0</td>\n",
       "      <td>0.0</td>\n",
       "      <td>0.0</td>\n",
       "      <td>0.0</td>\n",
       "      <td>0.0</td>\n",
       "      <td>0.0</td>\n",
       "      <td>0.0</td>\n",
       "      <td>...</td>\n",
       "      <td>1.0</td>\n",
       "      <td>0.0</td>\n",
       "      <td>0.0</td>\n",
       "      <td>0.0</td>\n",
       "      <td>1.0</td>\n",
       "      <td>0.0</td>\n",
       "      <td>0.0</td>\n",
       "      <td>75.75</td>\n",
       "      <td>35.21</td>\n",
       "      <td>53.58</td>\n",
       "    </tr>\n",
       "    <tr>\n",
       "      <th>749953</th>\n",
       "      <td>45.534236</td>\n",
       "      <td>45.192974</td>\n",
       "      <td>0.0</td>\n",
       "      <td>0.0</td>\n",
       "      <td>0.0</td>\n",
       "      <td>0.0</td>\n",
       "      <td>1.0</td>\n",
       "      <td>0.0</td>\n",
       "      <td>0.0</td>\n",
       "      <td>0.0</td>\n",
       "      <td>...</td>\n",
       "      <td>0.0</td>\n",
       "      <td>0.0</td>\n",
       "      <td>1.0</td>\n",
       "      <td>0.0</td>\n",
       "      <td>0.0</td>\n",
       "      <td>0.0</td>\n",
       "      <td>0.0</td>\n",
       "      <td>30.98</td>\n",
       "      <td>78.58</td>\n",
       "      <td>84.89</td>\n",
       "    </tr>\n",
       "    <tr>\n",
       "      <th>749954</th>\n",
       "      <td>45.073147</td>\n",
       "      <td>45.333597</td>\n",
       "      <td>0.0</td>\n",
       "      <td>0.0</td>\n",
       "      <td>0.0</td>\n",
       "      <td>0.0</td>\n",
       "      <td>1.0</td>\n",
       "      <td>0.0</td>\n",
       "      <td>0.0</td>\n",
       "      <td>0.0</td>\n",
       "      <td>...</td>\n",
       "      <td>0.0</td>\n",
       "      <td>0.0</td>\n",
       "      <td>1.0</td>\n",
       "      <td>0.0</td>\n",
       "      <td>0.0</td>\n",
       "      <td>0.0</td>\n",
       "      <td>0.0</td>\n",
       "      <td>108.98</td>\n",
       "      <td>45.39</td>\n",
       "      <td>93.27</td>\n",
       "    </tr>\n",
       "    <tr>\n",
       "      <th>749955</th>\n",
       "      <td>41.800348</td>\n",
       "      <td>44.830605</td>\n",
       "      <td>0.0</td>\n",
       "      <td>0.0</td>\n",
       "      <td>0.0</td>\n",
       "      <td>0.0</td>\n",
       "      <td>0.0</td>\n",
       "      <td>0.0</td>\n",
       "      <td>0.0</td>\n",
       "      <td>1.0</td>\n",
       "      <td>...</td>\n",
       "      <td>1.0</td>\n",
       "      <td>0.0</td>\n",
       "      <td>1.0</td>\n",
       "      <td>0.0</td>\n",
       "      <td>0.0</td>\n",
       "      <td>0.0</td>\n",
       "      <td>0.0</td>\n",
       "      <td>24.10</td>\n",
       "      <td>22.45</td>\n",
       "      <td>36.72</td>\n",
       "    </tr>\n",
       "  </tbody>\n",
       "</table>\n",
       "<p>749956 rows × 34 columns</p>\n",
       "</div>"
      ],
      "text/plain": [
       "        Podcast_Name  Episode_Title  x0_Business  x0_Comedy  x0_Education  \\\n",
       "0          46.019176      41.311952          0.0        0.0           0.0   \n",
       "1          42.632336      46.162666          0.0        1.0           0.0   \n",
       "2          47.047780      44.581085          0.0        0.0           1.0   \n",
       "3          44.769237      50.551025          0.0        0.0           0.0   \n",
       "4          46.838872      45.055444          0.0        0.0           0.0   \n",
       "...              ...            ...          ...        ...           ...   \n",
       "749951     45.721536      51.221690          0.0        0.0           1.0   \n",
       "749952     47.121103      46.401445          1.0        0.0           0.0   \n",
       "749953     45.534236      45.192974          0.0        0.0           0.0   \n",
       "749954     45.073147      45.333597          0.0        0.0           0.0   \n",
       "749955     41.800348      44.830605          0.0        0.0           0.0   \n",
       "\n",
       "        x0_Health  x0_Lifestyle  x0_Music  x0_News  x0_Sports  ...  \\\n",
       "0             0.0           0.0       0.0      0.0        0.0  ...   \n",
       "1             0.0           0.0       0.0      0.0        0.0  ...   \n",
       "2             0.0           0.0       0.0      0.0        0.0  ...   \n",
       "3             0.0           0.0       0.0      0.0        0.0  ...   \n",
       "4             1.0           0.0       0.0      0.0        0.0  ...   \n",
       "...           ...           ...       ...      ...        ...  ...   \n",
       "749951        0.0           0.0       0.0      0.0        0.0  ...   \n",
       "749952        0.0           0.0       0.0      0.0        0.0  ...   \n",
       "749953        0.0           1.0       0.0      0.0        0.0  ...   \n",
       "749954        0.0           1.0       0.0      0.0        0.0  ...   \n",
       "749955        0.0           0.0       0.0      0.0        1.0  ...   \n",
       "\n",
       "        x3_Neutral  x3_Positive  x4_0  x4_1  x4_2  x4_3  x4_>3 ads  \\\n",
       "0              0.0          1.0   1.0   0.0   0.0   0.0        0.0   \n",
       "1              0.0          0.0   0.0   0.0   1.0   0.0        0.0   \n",
       "2              0.0          0.0   1.0   0.0   0.0   0.0        0.0   \n",
       "3              0.0          1.0   0.0   0.0   1.0   0.0        0.0   \n",
       "4              1.0          0.0   0.0   0.0   0.0   1.0        0.0   \n",
       "...            ...          ...   ...   ...   ...   ...        ...   \n",
       "749951         0.0          0.0   1.0   0.0   0.0   0.0        0.0   \n",
       "749952         1.0          0.0   0.0   0.0   1.0   0.0        0.0   \n",
       "749953         0.0          0.0   1.0   0.0   0.0   0.0        0.0   \n",
       "749954         0.0          0.0   1.0   0.0   0.0   0.0        0.0   \n",
       "749955         1.0          0.0   1.0   0.0   0.0   0.0        0.0   \n",
       "\n",
       "        Episode_Length_minutes  Host_Popularity_percentage  \\\n",
       "0                        63.84                       74.81   \n",
       "1                       119.80                       66.95   \n",
       "2                        73.90                       69.97   \n",
       "3                        67.17                       57.22   \n",
       "4                       110.51                       80.07   \n",
       "...                        ...                         ...   \n",
       "749951                   75.66                       69.36   \n",
       "749952                   75.75                       35.21   \n",
       "749953                   30.98                       78.58   \n",
       "749954                  108.98                       45.39   \n",
       "749955                   24.10                       22.45   \n",
       "\n",
       "        Guest_Popularity_percentage  \n",
       "0                             53.58  \n",
       "1                             75.95  \n",
       "2                              8.97  \n",
       "3                             78.70  \n",
       "4                             58.68  \n",
       "...                             ...  \n",
       "749951                        53.58  \n",
       "749952                        53.58  \n",
       "749953                        84.89  \n",
       "749954                        93.27  \n",
       "749955                        36.72  \n",
       "\n",
       "[749956 rows x 34 columns]"
      ]
     },
     "execution_count": 47,
     "metadata": {},
     "output_type": "execute_result"
    }
   ],
   "source": [
    "X_ct"
   ]
  },
  {
   "cell_type": "code",
   "execution_count": 48,
   "id": "8b19cc35-cda3-4606-88ff-fe353e853883",
   "metadata": {},
   "outputs": [
    {
     "data": {
      "text/plain": [
       "<AxesSubplot:ylabel='Frequency'>"
      ]
     },
     "execution_count": 48,
     "metadata": {},
     "output_type": "execute_result"
    },
    {
     "data": {
      "image/png": "[encoded data removed]",
      "text/plain": [
       "<Figure size 432x288 with 1 Axes>"
      ]
     },
     "metadata": {
      "needs_background": "light"
     },
     "output_type": "display_data"
    }
   ],
   "source": [
    "X_ct[\"Podcast_Name\"].plot(kind=\"hist\")"
   ]
  },
  {
   "cell_type": "code",
   "execution_count": 49,
   "id": "ba96d1c8-0ab6-4393-bc0c-58d613078fd7",
   "metadata": {},
   "outputs": [
    {
     "data": {
      "text/plain": [
       "<AxesSubplot:ylabel='Frequency'>"
      ]
     },
     "execution_count": 49,
     "metadata": {},
     "output_type": "execute_result"
    },
    {
     "data": {
      "image/png": "[encoded data removed]",
      "text/plain": [
       "<Figure size 432x288 with 1 Axes>"
      ]
     },
     "metadata": {
      "needs_background": "light"
     },
     "output_type": "display_data"
    }
   ],
   "source": [
    "X_ct[\"Episode_Title\"].plot(kind=\"hist\")"
   ]
  },
  {
   "cell_type": "code",
   "execution_count": 50,
   "id": "77fc5683-2bb0-4485-94b9-b993c569a58f",
   "metadata": {},
   "outputs": [
    {
     "data": {
      "text/plain": [
       "<AxesSubplot:>"
      ]
     },
     "execution_count": 50,
     "metadata": {},
     "output_type": "execute_result"
    },
    {
     "data": {
      "image/png": "[encoded data removed]",
      "text/plain": [
       "<Figure size 1440x720 with 2 Axes>"
      ]
     },
     "metadata": {
      "needs_background": "light"
     },
     "output_type": "display_data"
    }
   ],
   "source": [
    "fig, ax = plt.subplots(figsize=(20, 10))\n",
    "sns.heatmap(X_ct.corr(), ax=ax)"
   ]
  },
  {
   "cell_type": "code",
   "execution_count": null,
   "id": "d1b7d9aa-ce15-41d6-a1c3-5755e446fe5b",
   "metadata": {},
   "outputs": [],
   "source": [
    "ridge = Pipeline([\n",
    "    (\"ct\", ct),\n",
    "    (\"ss\", StandardScaler(with_mean=False)),\n",
    "    (\"ridge\", Ridge(random_state=42))\n",
    "])"
   ]
  },
  {
   "cell_type": "code",
   "execution_count": null,
   "id": "9f54faea-f0bb-4ad6-8572-e473984cb4db",
   "metadata": {},
   "outputs": [],
   "source": [
    "np.logspace(np.log(0.003), np.log(0.03), num=50)"
   ]
  },
  {
   "cell_type": "code",
   "execution_count": null,
   "id": "a3bde459-6203-47f4-b87c-dd2163959af3",
   "metadata": {},
   "outputs": [],
   "source": [
    "param_ridge = {\n",
    "    \"ridge__alpha\": np.logspace(np.log(0.003), np.log(0.03), num=50)\n",
    "}"
   ]
  },
  {
   "cell_type": "code",
   "execution_count": null,
   "id": "5809770e-8ffb-461a-85a8-c3e5f322ea63",
   "metadata": {},
   "outputs": [],
   "source": [
    "ridge_grid = GridSearchCV(estimator=ridge, param_grid=param_ridge, scoring=\"neg_mean_squared_error\", error_score=\"raise\", verbose=1, n_jobs=-1, cv=5)\n",
    "ridge_grid.fit(X, y)"
   ]
  },
  {
   "cell_type": "code",
   "execution_count": null,
   "id": "e6bbe32e-8cb3-4566-9768-66282c062072",
   "metadata": {},
   "outputs": [],
   "source": [
    "print(f\"Best params: {ridge_grid.best_params_}, best score: {-ridge_grid.best_score_}\")"
   ]
  },
  {
   "cell_type": "code",
   "execution_count": null,
   "id": "4c65b562-d93b-46b4-b9d0-3c41f58c841b",
   "metadata": {},
   "outputs": [],
   "source": [
    "ridge = ridge_grid.best_estimator_"
   ]
  },
  {
   "cell_type": "code",
   "execution_count": null,
   "id": "8b3684c1-77df-4821-a33d-59706addee52",
   "metadata": {},
   "outputs": [],
   "source": [
    "ridge_importances = pd.DataFrame(sorted(np.stack((abs(ridge.named_steps[\"ridge\"].coef_), columns), axis=1), key=lambda x: x[0]), dtype=float)\n",
    "ridge_importances"
   ]
  },
  {
   "cell_type": "code",
   "execution_count": null,
   "id": "8375aae4-fc52-4a0a-80d8-2a75460f6372",
   "metadata": {},
   "outputs": [],
   "source": [
    "fig, ax = plt.subplots(figsize=(10, 5))\n",
    "ax.barh(width=ridge_importances[0], y=ridge_importances[1])"
   ]
  },
  {
   "cell_type": "code",
   "execution_count": 327,
   "id": "5e1f5956-b244-4257-92e3-b8901bd4f8ee",
   "metadata": {},
   "outputs": [],
   "source": [
    "dump(ridge, \"ridge\")"
   ]
  },
  {
   "cell_type": "code",
   "execution_count": 54,
   "id": "b9a0533a-b471-4317-9812-72efa9aa3330",
   "metadata": {},
   "outputs": [],
   "source": [
    "svr = Pipeline([\n",
    "    (\"ct\", ct),\n",
    "    (\"ss\", StandardScaler(with_mean=False)),\n",
    "    (\"svr\", SVR(kernel=\"linear\"))\n",
    "])"
   ]
  },
  {
   "cell_type": "code",
   "execution_count": null,
   "id": "caa590c5-f74a-4098-9706-3ae9b665a7b3",
   "metadata": {},
   "outputs": [],
   "source": [
    "t0 = time.time()\n",
    "svr.fit(X, y)\n",
    "print(time.time() - t0)"
   ]
  },
  {
   "cell_type": "code",
   "execution_count": 61,
   "id": "8a17e4f0-172e-456d-8ed8-11c82fef750c",
   "metadata": {},
   "outputs": [
    {
     "data": {
      "text/plain": [
       "array([1.00000000e-03, 1.26485522e-03, 1.59985872e-03, 2.02358965e-03,\n",
       "       2.55954792e-03, 3.23745754e-03, 4.09491506e-03, 5.17947468e-03,\n",
       "       6.55128557e-03, 8.28642773e-03, 1.04811313e-02, 1.32571137e-02,\n",
       "       1.67683294e-02, 2.12095089e-02, 2.68269580e-02, 3.39322177e-02,\n",
       "       4.29193426e-02, 5.42867544e-02, 6.86648845e-02, 8.68511374e-02,\n",
       "       1.09854114e-01, 1.38949549e-01, 1.75751062e-01, 2.22299648e-01,\n",
       "       2.81176870e-01, 3.55648031e-01, 4.49843267e-01, 5.68986603e-01,\n",
       "       7.19685673e-01, 9.10298178e-01, 1.15139540e+00, 1.45634848e+00,\n",
       "       1.84206997e+00, 2.32995181e+00, 2.94705170e+00, 3.72759372e+00,\n",
       "       4.71486636e+00, 5.96362332e+00, 7.54312006e+00, 9.54095476e+00,\n",
       "       1.20679264e+01, 1.52641797e+01, 1.93069773e+01, 2.44205309e+01,\n",
       "       3.08884360e+01, 3.90693994e+01, 4.94171336e+01, 6.25055193e+01,\n",
       "       7.90604321e+01, 1.00000000e+02])"
      ]
     },
     "execution_count": 61,
     "metadata": {},
     "output_type": "execute_result"
    }
   ],
   "source": [
    "np.logspace(-3, 2, num=50)"
   ]
  },
  {
   "cell_type": "code",
   "execution_count": 62,
   "id": "a4c64982-2442-4c91-89cb-86e2d17ce7b2",
   "metadata": {},
   "outputs": [],
   "source": [
    "param_svr = {\n",
    "    \"svr__kernel\": [\"linear\", \"rbf\", \"poly\"],\n",
    "    \"svr__C\": np.logspace(-3, 2, num=50),\n",
    "    \"svr__epsilon\": np.logspace(-3, 2, num=50)\n",
    "}"
   ]
  },
  {
   "cell_type": "code",
   "execution_count": null,
   "id": "29b593d1-f2d8-4e81-bdb6-9751cfaa64ae",
   "metadata": {},
   "outputs": [],
   "source": [
    "svr_grid = RandomizedSearchCV(svr, param_distributions=param_svr, n_iter=60, scoring=\"neg_mean_squared_error\", cv=3, n_jobs=-1, verbose=1)\n",
    "svr_grid.fit(X, y)"
   ]
  },
  {
   "cell_type": "code",
   "execution_count": null,
   "id": "d6aa6b11-5a98-4270-a942-b295caaf1193",
   "metadata": {},
   "outputs": [],
   "source": [
    "svr_grid.best"
   ]
  },
  {
   "cell_type": "code",
   "execution_count": 54,
   "id": "fb2f3d0b-4cab-4847-abfc-fb5b063637cc",
   "metadata": {},
   "outputs": [
    {
     "data": {
      "text/plain": [
       "Pipeline(steps=[('ct',\n",
       "                 ColumnTransformer(remainder='passthrough',\n",
       "                                   transformers=[('target_encode',\n",
       "                                                  TargetEncoder(),\n",
       "                                                  ['Podcast_Name',\n",
       "                                                   'Episode_Title']),\n",
       "                                                 ('ohe', OneHotEncoder(),\n",
       "                                                  ['Genre', 'Publication_Day',\n",
       "                                                   'Publication_Time',\n",
       "                                                   'Episode_Sentiment',\n",
       "                                                   'Number_of_Ads'])])),\n",
       "                ('decision_tree', DecisionTreeRegressor(random_state=42))])"
      ]
     },
     "execution_count": 54,
     "metadata": {},
     "output_type": "execute_result"
    }
   ],
   "source": [
    "decision_tree = Pipeline([\n",
    "    (\"ct\", ct),\n",
    "    (\"decision_tree\", DecisionTreeRegressor(random_state=42))\n",
    "])\n",
    "decision_tree"
   ]
  },
  {
   "cell_type": "code",
   "execution_count": 71,
   "id": "2e35a612-e5dd-4b3d-8fb0-266ff578340e",
   "metadata": {},
   "outputs": [
    {
     "data": {
      "text/plain": [
       "array([0.001     , 0.00129155, 0.0016681 , 0.00215443, 0.00278256,\n",
       "       0.00359381, 0.00464159, 0.00599484, 0.00774264, 0.01      ])"
      ]
     },
     "execution_count": 71,
     "metadata": {},
     "output_type": "execute_result"
    }
   ],
   "source": [
    "np.logspace(-3, -2, num=10)"
   ]
  },
  {
   "cell_type": "code",
   "execution_count": 73,
   "id": "7e717b8f-08ec-4ec0-ad87-989fbfd769ad",
   "metadata": {},
   "outputs": [],
   "source": [
    "params_tree = {\n",
    "    \"decision_tree__max_depth\": range(9, 15),\n",
    "    \"decision_tree__min_samples_leaf\": np.logspace(-3, -2, num=10)\n",
    "}"
   ]
  },
  {
   "cell_type": "code",
   "execution_count": 74,
   "id": "e2370128-21b7-4004-803b-09f75386e91b",
   "metadata": {},
   "outputs": [
    {
     "name": "stdout",
     "output_type": "stream",
     "text": [
      "Fitting 3 folds for each of 60 candidates, totalling 180 fits\n"
     ]
    },
    {
     "data": {
      "text/plain": [
       "GridSearchCV(cv=3, error_score='raise',\n",
       "             estimator=Pipeline(steps=[('ct',\n",
       "                                        ColumnTransformer(remainder='passthrough',\n",
       "                                                          transformers=[('target_encode',\n",
       "                                                                         TargetEncoder(),\n",
       "                                                                         ['Podcast_Name',\n",
       "                                                                          'Episode_Title']),\n",
       "                                                                        ('ohe',\n",
       "                                                                         OneHotEncoder(),\n",
       "                                                                         ['Genre',\n",
       "                                                                          'Publication_Day',\n",
       "                                                                          'Publication_Time',\n",
       "                                                                          'Episode_Sentiment',\n",
       "                                                                          'Number_of_Ads'])])),\n",
       "                                       ('decision_tree',\n",
       "                                        DecisionTreeRegressor(random_state=42))]),\n",
       "             n_jobs=-1,\n",
       "             param_grid={'decision_tree__max_depth': range(9, 15),\n",
       "                         'decision_tree__min_samples_leaf': array([0.001     , 0.00129155, 0.0016681 , 0.00215443, 0.00278256,\n",
       "       0.00359381, 0.00464159, 0.00599484, 0.00774264, 0.01      ])},\n",
       "             scoring='neg_mean_squared_error', verbose=1)"
      ]
     },
     "execution_count": 74,
     "metadata": {},
     "output_type": "execute_result"
    }
   ],
   "source": [
    "decision_tree_grid = GridSearchCV(decision_tree, param_grid=params_tree, cv=3, n_jobs=-1, scoring=\"neg_mean_squared_error\", error_score=\"raise\", verbose=1)\n",
    "decision_tree_grid.fit(X, y)"
   ]
  },
  {
   "cell_type": "code",
   "execution_count": 75,
   "id": "d0fc1d30-c896-4a3b-88af-d58f5a7f4e4f",
   "metadata": {},
   "outputs": [
    {
     "name": "stdout",
     "output_type": "stream",
     "text": [
      "Best params: {'decision_tree__max_depth': 11, 'decision_tree__min_samples_leaf': 0.001}, best score: 173.7278183682347\n"
     ]
    }
   ],
   "source": [
    "print(f\"Best params: {decision_tree_grid.best_params_}, best score: {-decision_tree_grid.best_score_}\")"
   ]
  },
  {
   "cell_type": "markdown",
   "id": "923cf58c-4dd3-44c4-8173-96fc3288352b",
   "metadata": {},
   "source": [
    "Best params: {'decision_tree__max_depth': 11, 'decision_tree__min_samples_leaf': 0.001}, best score: 173.7278183682347"
   ]
  },
  {
   "cell_type": "code",
   "execution_count": null,
   "id": "3afe857a-fcd0-495f-a8d6-9f2c37b01d6d",
   "metadata": {},
   "outputs": [],
   "source": [
    "decision_tree = decision_tree_grid.best_estimator\n",
    "decision_tree_importances = decision_tree.named_steps[\"decision_tree\"].feature_importances\n",
    "decision_tree_importances = pd.DataFrame(sorted(np.stack((decision_tree_importances, columns), axis=1), key=lambda x: x[0]), dtype=float)\n",
    "decision_tree_importances.plot(kind=\"barh\")"
   ]
  },
  {
   "cell_type": "code",
   "execution_count": 51,
   "id": "a3f347cb-2ba6-436c-b40d-248d40820592",
   "metadata": {},
   "outputs": [
    {
     "data": {
      "text/plain": [
       "Pipeline(steps=[('ct',\n",
       "                 ColumnTransformer(remainder='passthrough',\n",
       "                                   transformers=[('target_encode',\n",
       "                                                  TargetEncoder(),\n",
       "                                                  ['Podcast_Name',\n",
       "                                                   'Episode_Title']),\n",
       "                                                 ('ohe', OneHotEncoder(),\n",
       "                                                  ['Genre', 'Publication_Day',\n",
       "                                                   'Publication_Time',\n",
       "                                                   'Episode_Sentiment',\n",
       "                                                   'Number_of_Ads'])])),\n",
       "                ('random_forest',\n",
       "                 RandomForestRegressor(max_depth=3, random_state=42))])"
      ]
     },
     "execution_count": 51,
     "metadata": {},
     "output_type": "execute_result"
    }
   ],
   "source": [
    "random_forest = Pipeline([\n",
    "    (\"ct\", ct),\n",
    "    (\"random_forest\", RandomForestRegressor(random_state=42, max_depth=3))\n",
    "])\n",
    "random_forest"
   ]
  },
  {
   "cell_type": "code",
   "execution_count": 52,
   "id": "e98d27cc-3ae0-4638-ae77-b5a6ba362b96",
   "metadata": {},
   "outputs": [
    {
     "name": "stdout",
     "output_type": "stream",
     "text": [
      "187.82244062423706\n"
     ]
    }
   ],
   "source": [
    "t0 = time.time()\n",
    "random_forest.fit(X, y)\n",
    "print(time.time() - t0)"
   ]
  },
  {
   "cell_type": "code",
   "execution_count": 60,
   "id": "a56b561e-4746-480c-8983-c9e82fa3a438",
   "metadata": {},
   "outputs": [],
   "source": [
    "params_forest = {\n",
    "    \"random_forest__n_estimators\": range(100, 2100, 100),\n",
    "    \"random_forest__max_depth\": range(2, 20)\n",
    "}"
   ]
  },
  {
   "cell_type": "code",
   "execution_count": null,
   "id": "c2909e0c-22ab-4f3b-a404-894011d5b45f",
   "metadata": {},
   "outputs": [
    {
     "name": "stdout",
     "output_type": "stream",
     "text": [
      "Fitting 3 folds for each of 10 candidates, totalling 30 fits\n"
     ]
    }
   ],
   "source": [
    "random_forest_grid = RandomizedSearchCV(random_forest, n_iter=10, param_distributions=params_forest, scoring=\"neg_mean_squared_error\", error_score=\"raise\", n_jobs=-1, cv=3, verbose=1, random_state=42)\n",
    "random_forest_grid.fit(X, y)"
   ]
  },
  {
   "cell_type": "code",
   "execution_count": null,
   "id": "aa51fec6-3d92-41e0-a963-1957c5f0f962",
   "metadata": {},
   "outputs": [],
   "source": [
    "print(f\"Best params: {random_forest_grid.best_params_}, best score: {-random_forest_grid.best_score_}\")"
   ]
  },
  {
   "cell_type": "code",
   "execution_count": null,
   "id": "ee4965da-c56b-48a5-8ae9-7a7abb32b564",
   "metadata": {},
   "outputs": [],
   "source": [
    "RandomForestRegressor?"
   ]
  },
  {
   "cell_type": "code",
   "execution_count": null,
   "id": "3773bd11-119d-4ee6-9e92-54fdb827358a",
   "metadata": {},
   "outputs": [],
   "source": []
  }
 ],
 "metadata": {
  "kernelspec": {
   "display_name": "Python 3 (ipykernel)",
   "language": "python",
   "name": "python3"
  },
  "language_info": {
   "codemirror_mode": {
    "name": "ipython",
    "version": 3
   },
   "file_extension": ".py",
   "mimetype": "text/x-python",
   "name": "python",
   "nbconvert_exporter": "python",
   "pygments_lexer": "ipython3",
   "version": "3.9.19"
  }
 },
 "nbformat": 4,
 "nbformat_minor": 5
}
