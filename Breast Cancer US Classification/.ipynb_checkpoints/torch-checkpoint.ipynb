{
 "cells": [
  {
   "cell_type": "code",
   "execution_count": 1,
   "id": "20911ccf-5b74-439f-b5c4-71deb0c7c2d1",
   "metadata": {},
   "outputs": [
    {
     "name": "stderr",
     "output_type": "stream",
     "text": [
      "C:\\Users\\User\\anaconda3\\lib\\site-packages\\scipy\\__init__.py:146: UserWarning: A NumPy version >=1.16.5 and <1.23.0 is required for this version of SciPy (detected version 1.23.0\n",
      "  warnings.warn(f\"A NumPy version >={np_minversion} and <{np_maxversion}\"\n"
     ]
    }
   ],
   "source": [
    "import os\n",
    "import pandas as pd\n",
    "import matplotlib.pyplot as plt\n",
    "import numpy as np\n",
    "os.chdir(r\"C:\\Users\\User\\OneDrive\\Документы\\Kaggle\\kaggle\\Breast Cancer US Classification\")"
   ]
  },
  {
   "cell_type": "code",
   "execution_count": 2,
   "id": "d6668f92-98d9-4931-a3f4-61895b29203e",
   "metadata": {},
   "outputs": [],
   "source": [
    "import torch.nn as nn\n",
    "import torch\n",
    "from torch.utils.data import TensorDataset, DataLoader, Dataset, random_split\n",
    "from sklearn.compose import ColumnTransformer, make_column_selector\n",
    "from sklearn.pipeline import Pipeline\n",
    "from sklearn.model_selection import train_test_split\n",
    "import torchvision\n",
    "from torchvision import transforms\n",
    "from torchvision.io import read_image\n",
    "from PIL import Image\n",
    "import os\n",
    "from pathlib import Path"
   ]
  },
  {
   "cell_type": "code",
   "execution_count": 3,
   "id": "aa9fa585-b6d6-4356-bbab-fcd111a50607",
   "metadata": {},
   "outputs": [],
   "source": [
    "img = read_image(r\"C:\\Users\\User\\OneDrive\\Документы\\Kaggle\\kaggle\\Breast Cancer US Classification\\training_set\\benign\\benign (1)_mask.png\")"
   ]
  },
  {
   "cell_type": "code",
   "execution_count": 4,
   "id": "0117f751-7f90-4ae5-a759-a0e55891b567",
   "metadata": {},
   "outputs": [],
   "source": [
    "img = img.permute(1, 2, 0)"
   ]
  },
  {
   "cell_type": "code",
   "execution_count": 5,
   "id": "f3061a2b-049d-4180-b47f-0d187bc75b17",
   "metadata": {},
   "outputs": [
    {
     "data": {
      "text/plain": [
       "<matplotlib.image.AxesImage at 0x1ce466705e0>"
      ]
     },
     "execution_count": 5,
     "metadata": {},
     "output_type": "execute_result"
    },
    {
     "data": {
      "image/png": "[encoded data removed]",
      "text/plain": [
       "<Figure size 432x288 with 1 Axes>"
      ]
     },
     "metadata": {
      "needs_background": "light"
     },
     "output_type": "display_data"
    }
   ],
   "source": [
    "plt.imshow(img)"
   ]
  },
  {
   "cell_type": "code",
   "execution_count": 6,
   "id": "03c7304f-86f4-4693-bb84-ae900f63e494",
   "metadata": {},
   "outputs": [],
   "source": [
    "transform = transforms.Compose([\n",
    "    transforms.Resize((256, 256)), \n",
    "    transforms.ToTensor(), \n",
    "    transforms.Normalize(mean=[0.485, 0.456, 0.406],\n",
    "                         std=[0.229, 0.224, 0.225])\n",
    "])"
   ]
  },
  {
   "cell_type": "code",
   "execution_count": 83,
   "id": "582b109d-801a-4951-98ed-b155f2a13ccc",
   "metadata": {},
   "outputs": [
    {
     "name": "stderr",
     "output_type": "stream",
     "text": [
      "Clipping input data to the valid range for imshow with RGB data ([0..1] for floats or [0..255] for integers).\n"
     ]
    },
    {
     "data": {
      "text/plain": [
       "<matplotlib.image.AxesImage at 0x1cf22efc580>"
      ]
     },
     "execution_count": 83,
     "metadata": {},
     "output_type": "execute_result"
    },
    {
     "data": {
      "image/png": "[encoded data removed]",
      "text/plain": [
       "<Figure size 432x288 with 1 Axes>"
      ]
     },
     "metadata": {
      "needs_background": "light"
     },
     "output_type": "display_data"
    }
   ],
   "source": [
    "imag = Image.open(Path(r\"C:\\Users\\User\\OneDrive\\Документы\\Kaggle\\kaggle\\Breast Cancer US Classification\\training_set\") / \"benign\" / \"benign (393)_mask.png\")\n",
    "imag = transform(imag.convert(\"RGB\"))\n",
    "plt.imshow(np.array(imag, dtype=float).transpose(1, 2, 0))"
   ]
  },
  {
   "cell_type": "code",
   "execution_count": 8,
   "id": "8f25f4ad-2df7-494c-90ac-21f65efebc0f",
   "metadata": {},
   "outputs": [
    {
     "data": {
      "text/plain": [
       "(3, 256, 256)"
      ]
     },
     "execution_count": 8,
     "metadata": {},
     "output_type": "execute_result"
    }
   ],
   "source": [
    "np.array(imag, dtype=float).shape"
   ]
  },
  {
   "cell_type": "code",
   "execution_count": 9,
   "id": "af456a36-d525-4541-b078-1b2f2e2eb5e4",
   "metadata": {},
   "outputs": [],
   "source": [
    "class MedicalImageDataset(Dataset):\n",
    "    def __init__(self, root_dir, transform=None):\n",
    "        self.root_dir = Path(root_dir)\n",
    "        self.transform = transform\n",
    "        self.classes = ['benign', 'malignant']\n",
    "        self.samples = []\n",
    "        \n",
    "        for class_idx, class_name in enumerate(self.classes):\n",
    "            class_dir = self.root_dir / class_name\n",
    "            for img_name in os.listdir(class_dir):\n",
    "                if img_name.endswith('_mask.png'):\n",
    "                    self.samples.append((class_dir / img_name, class_idx))\n",
    "    \n",
    "    def __len__(self):\n",
    "        return len(self.samples)\n",
    "    \n",
    "    def __getitem__(self, idx):\n",
    "        img_path, label = self.samples[idx]\n",
    "        image = Image.open(img_path).convert('RGB')\n",
    "        \n",
    "        if self.transform:\n",
    "            image = self.transform(image)\n",
    "            \n",
    "        return image, torch.tensor(label, dtype=torch.long)"
   ]
  },
  {
   "cell_type": "code",
   "execution_count": 10,
   "id": "430991c9-e1d0-48cb-9194-cf99910e127e",
   "metadata": {},
   "outputs": [],
   "source": [
    "dataset = MedicalImageDataset(root_dir=r\"C:\\Users\\User\\OneDrive\\Документы\\Kaggle\\kaggle\\Breast Cancer US Classification\\training_set\", transform=transform)"
   ]
  },
  {
   "cell_type": "code",
   "execution_count": 11,
   "id": "a7c65d3e-cea3-495d-8209-edb2991d8d0e",
   "metadata": {},
   "outputs": [
    {
     "data": {
      "text/plain": [
       "[(WindowsPath('C:/Users/User/OneDrive/Документы/Kaggle/kaggle/Breast Cancer US Classification/training_set/benign/benign (1)_mask.png'),\n",
       "  0),\n",
       " (WindowsPath('C:/Users/User/OneDrive/Документы/Kaggle/kaggle/Breast Cancer US Classification/training_set/benign/benign (10)_mask.png'),\n",
       "  0),\n",
       " (WindowsPath('C:/Users/User/OneDrive/Документы/Kaggle/kaggle/Breast Cancer US Classification/training_set/benign/benign (100)_mask.png'),\n",
       "  0),\n",
       " (WindowsPath('C:/Users/User/OneDrive/Документы/Kaggle/kaggle/Breast Cancer US Classification/training_set/benign/benign (101)_mask.png'),\n",
       "  0),\n",
       " (WindowsPath('C:/Users/User/OneDrive/Документы/Kaggle/kaggle/Breast Cancer US Classification/training_set/benign/benign (102)_mask.png'),\n",
       "  0)]"
      ]
     },
     "execution_count": 11,
     "metadata": {},
     "output_type": "execute_result"
    }
   ],
   "source": [
    "dataset.samples[:5]"
   ]
  },
  {
   "cell_type": "code",
   "execution_count": 12,
   "id": "fe8401b7-f28f-4297-9865-6b02ed6030f4",
   "metadata": {},
   "outputs": [
    {
     "name": "stdout",
     "output_type": "stream",
     "text": [
      "tensor([[[-2.1179, -2.1179, -2.1179,  ..., -2.1179, -2.1179, -2.1179],\n",
      "         [-2.1179, -2.1179, -2.1179,  ..., -2.1179, -2.1179, -2.1179],\n",
      "         [-2.1179, -2.1179, -2.1179,  ..., -2.1179, -2.1179, -2.1179],\n",
      "         ...,\n",
      "         [-2.1179, -2.1179, -2.1179,  ..., -2.1179, -2.1179, -2.1179],\n",
      "         [-2.1179, -2.1179, -2.1179,  ..., -2.1179, -2.1179, -2.1179],\n",
      "         [-2.1179, -2.1179, -2.1179,  ..., -2.1179, -2.1179, -2.1179]],\n",
      "\n",
      "        [[-2.0357, -2.0357, -2.0357,  ..., -2.0357, -2.0357, -2.0357],\n",
      "         [-2.0357, -2.0357, -2.0357,  ..., -2.0357, -2.0357, -2.0357],\n",
      "         [-2.0357, -2.0357, -2.0357,  ..., -2.0357, -2.0357, -2.0357],\n",
      "         ...,\n",
      "         [-2.0357, -2.0357, -2.0357,  ..., -2.0357, -2.0357, -2.0357],\n",
      "         [-2.0357, -2.0357, -2.0357,  ..., -2.0357, -2.0357, -2.0357],\n",
      "         [-2.0357, -2.0357, -2.0357,  ..., -2.0357, -2.0357, -2.0357]],\n",
      "\n",
      "        [[-1.8044, -1.8044, -1.8044,  ..., -1.8044, -1.8044, -1.8044],\n",
      "         [-1.8044, -1.8044, -1.8044,  ..., -1.8044, -1.8044, -1.8044],\n",
      "         [-1.8044, -1.8044, -1.8044,  ..., -1.8044, -1.8044, -1.8044],\n",
      "         ...,\n",
      "         [-1.8044, -1.8044, -1.8044,  ..., -1.8044, -1.8044, -1.8044],\n",
      "         [-1.8044, -1.8044, -1.8044,  ..., -1.8044, -1.8044, -1.8044],\n",
      "         [-1.8044, -1.8044, -1.8044,  ..., -1.8044, -1.8044, -1.8044]]]) tensor(0)\n"
     ]
    }
   ],
   "source": [
    "img, label = dataset[6]\n",
    "print(img, label)"
   ]
  },
  {
   "cell_type": "code",
   "execution_count": 13,
   "id": "da0ed729-5715-40d1-a564-7304a2e173f8",
   "metadata": {},
   "outputs": [
    {
     "name": "stderr",
     "output_type": "stream",
     "text": [
      "Clipping input data to the valid range for imshow with RGB data ([0..1] for floats or [0..255] for integers).\n"
     ]
    },
    {
     "data": {
      "text/plain": [
       "<matplotlib.image.AxesImage at 0x1ce48802e20>"
      ]
     },
     "execution_count": 13,
     "metadata": {},
     "output_type": "execute_result"
    },
    {
     "data": {
      "image/png": "[encoded data removed]",
      "text/plain": [
       "<Figure size 432x288 with 1 Axes>"
      ]
     },
     "metadata": {
      "needs_background": "light"
     },
     "output_type": "display_data"
    }
   ],
   "source": [
    "image = dataset.__getitem__(0)\n",
    "image = image[0].permute(1, 2, 0)\n",
    "plt.imshow(image)"
   ]
  },
  {
   "cell_type": "code",
   "execution_count": 14,
   "id": "7d8f2ea8-4458-465c-bb3a-6e8d33252937",
   "metadata": {},
   "outputs": [
    {
     "name": "stdout",
     "output_type": "stream",
     "text": [
      "438 109\n"
     ]
    }
   ],
   "source": [
    "train_ds, val_ds = random_split(dataset, [0.8, 0.2])\n",
    "print(len(train_ds), len(val_ds))"
   ]
  },
  {
   "cell_type": "code",
   "execution_count": 15,
   "id": "2b560b4f-c530-4ec3-8f97-3bfca861a61e",
   "metadata": {},
   "outputs": [],
   "source": [
    "batch_size = 32"
   ]
  },
  {
   "cell_type": "code",
   "execution_count": 16,
   "id": "cf0f2013-d442-4dff-be5f-a000b775acd8",
   "metadata": {},
   "outputs": [
    {
     "data": {
      "text/plain": [
       "<torch._C.Generator at 0x1ce38819b70>"
      ]
     },
     "execution_count": 16,
     "metadata": {},
     "output_type": "execute_result"
    }
   ],
   "source": [
    "torch.manual_seed(42)"
   ]
  },
  {
   "cell_type": "code",
   "execution_count": 17,
   "id": "a8eae36a-a671-4f46-8af5-769767e03041",
   "metadata": {},
   "outputs": [],
   "source": [
    "train_dl = DataLoader(train_ds, batch_size)\n",
    "val_dl = DataLoader(val_ds, batch_size)"
   ]
  },
  {
   "cell_type": "code",
   "execution_count": 18,
   "id": "382925c9-2ecd-4ff8-a120-2d1739741421",
   "metadata": {},
   "outputs": [],
   "source": [
    "model = nn.Sequential()\n",
    "model.add_module(\n",
    "    \"conv1\",\n",
    "    nn.Conv2d(\n",
    "        in_channels=3, out_channels=32,\n",
    "        kernel_size=5, padding=2\n",
    "    )\n",
    ")\n",
    "model.add_module(\"relu1\", nn.ReLU())\n",
    "model.add_module(\"pool1\", nn.MaxPool2d(kernel_size=2))\n",
    "model.add_module(\n",
    "    \"conv2\",\n",
    "    nn.Conv2d(\n",
    "        in_channels=32, out_channels=64,\n",
    "        kernel_size=5, padding=2\n",
    "    )\n",
    ")\n",
    "model.add_module(\"relu2\", nn.ReLU())\n",
    "model.add_module(\"pool2\", nn.MaxPool2d(kernel_size=2))\n",
    "model.add_module(\n",
    "    \"conv3\",\n",
    "    nn.Conv2d(\n",
    "        in_channels=64, out_channels=128,\n",
    "        kernel_size=5, padding=2\n",
    "    )\n",
    ")\n",
    "model.add_module(\"relu3\", nn.ReLU())\n",
    "model.add_module(\"globalavrg\", nn.AdaptiveAvgPool2d(output_size=(1, 1)))\n",
    "model.add_module(\"flatten\", nn.Flatten()) \n",
    "model.add_module(\"fc1\", nn.Linear(128, 64))\n",
    "model.add_module(\"relu4\", nn.ReLU())\n",
    "model.add_module(\"drop\", nn.Dropout(p=0.5))\n",
    "model.add_module(\"fc2\", nn.Linear(64, 1))\n",
    "model.add_module(\"sigma\", nn.Sigmoid())"
   ]
  },
  {
   "cell_type": "code",
   "execution_count": 19,
   "id": "00a42589-63a8-4261-9111-221b250586df",
   "metadata": {},
   "outputs": [
    {
     "data": {
      "text/plain": [
       "torch.Size([4, 1])"
      ]
     },
     "execution_count": 19,
     "metadata": {},
     "output_type": "execute_result"
    }
   ],
   "source": [
    "X = torch.ones(4, 3, 256, 256)\n",
    "model(X).shape"
   ]
  },
  {
   "cell_type": "code",
   "execution_count": 65,
   "id": "97413f7a-8dfa-467e-a0d2-0968dab9d90e",
   "metadata": {},
   "outputs": [],
   "source": [
    "loss_fn = nn.BCELoss()\n",
    "optimizer = torch.optim.Adam(model.parameters(), lr=0.0005)"
   ]
  },
  {
   "cell_type": "code",
   "execution_count": 64,
   "id": "41b52122-d2fc-4193-9cf1-68f05ad05957",
   "metadata": {},
   "outputs": [],
   "source": [
    "for layer in model.children():\n",
    "   if hasattr(layer, 'reset_parameters'):\n",
    "       layer.reset_parameters()"
   ]
  },
  {
   "cell_type": "code",
   "execution_count": 25,
   "id": "9888edf8-bcd9-4b3b-8386-c1e0baf83afb",
   "metadata": {},
   "outputs": [
    {
     "data": {
      "text/plain": [
       "device(type='cuda')"
      ]
     },
     "execution_count": 25,
     "metadata": {},
     "output_type": "execute_result"
    }
   ],
   "source": [
    "device = torch.device(\"cuda\" if torch.cuda.is_available() else \"cpu\")\n",
    "model.to(device)\n",
    "device"
   ]
  },
  {
   "cell_type": "code",
   "execution_count": 26,
   "id": "4ab8cfdd-e8e8-4595-b055-b7d481d54eee",
   "metadata": {},
   "outputs": [],
   "source": [
    "def train(model, n_epochs, train_dl, val_dl):\n",
    "    loss_hist_train = [0] * n_epochs\n",
    "    loss_hist_val = [0] * n_epochs\n",
    "    accuracy = [0] * n_epochs\n",
    "    for epoch in range(n_epochs):\n",
    "        model.train()\n",
    "        for x_batch, y_batch in train_dl:\n",
    "            x_batch, y_batch = x_batch.to(device), y_batch.to(device)\n",
    "            pred = model(x_batch).squeeze(1)\n",
    "            loss = loss_fn(pred, y_batch.float())\n",
    "            loss.backward()\n",
    "            optimizer.step()\n",
    "            optimizer.zero_grad()\n",
    "            loss_hist_train[epoch] += loss.item() * y_batch.size(0)\n",
    "        loss_hist_train[epoch] = loss_hist_train[epoch] / len(train_dl.dataset)\n",
    "        model.eval()\n",
    "        with torch.no_grad():\n",
    "            for x_batch, y_batch in val_dl:\n",
    "                x_batch, y_batch = x_batch.to(device), y_batch.to(device)\n",
    "                pred = model(x_batch).squeeze(1)\n",
    "                loss = loss_fn(pred, y_batch.float())\n",
    "                loss_hist_val[epoch] = loss.item() * y_batch.size(0)\n",
    "                accuracy[epoch] += (torch.round(pred) == y_batch).sum().float()\n",
    "        loss_hist_val[epoch] = loss_hist_val[epoch] / len(val_dl.dataset)\n",
    "        accuracy[epoch] /= len(val_dl.dataset)\n",
    "        if epoch % 10 == 0:\n",
    "                print(f\"Epoch: {epoch}, Training loss: {loss_hist_train[epoch]}, Validation Loss: {loss_hist_val[epoch]}, Accuracy: {accuracy[epoch]}\")\n",
    "    return loss_hist_train, loss_hist_val, accuracy            "
   ]
  },
  {
   "cell_type": "code",
   "execution_count": 66,
   "id": "d1fc1a8e-422f-4613-8fc1-d077dceb4e59",
   "metadata": {},
   "outputs": [
    {
     "name": "stdout",
     "output_type": "stream",
     "text": [
      "Epoch: 0, Training loss: 0.6289994801016159, Validation Loss: 0.06978365587531973, Accuracy: 0.6880733370780945\n",
      "Epoch: 10, Training loss: 0.50685310418203, Validation Loss: 0.04757816556396834, Accuracy: 0.7339448928833008\n",
      "Epoch: 20, Training loss: 0.49284375231015626, Validation Loss: 0.051892886741445696, Accuracy: 0.7431192398071289\n",
      "Epoch: 30, Training loss: 0.4933751971209975, Validation Loss: 0.048744749858838705, Accuracy: 0.7247706055641174\n",
      "Epoch: 40, Training loss: 0.4969921397836241, Validation Loss: 0.052794546982563965, Accuracy: 0.7431192398071289\n",
      "Epoch: 50, Training loss: 0.5029766277907646, Validation Loss: 0.04807072084978086, Accuracy: 0.7614678740501404\n",
      "Epoch: 60, Training loss: 0.4767857809044999, Validation Loss: 0.046256100912706564, Accuracy: 0.7798165082931519\n",
      "Epoch: 70, Training loss: 0.4198349348214119, Validation Loss: 0.032940843236555745, Accuracy: 0.7981650829315186\n",
      "Epoch: 80, Training loss: 0.3935266750860432, Validation Loss: 0.034157565974314276, Accuracy: 0.81651371717453\n",
      "Epoch: 90, Training loss: 0.3401755900143488, Validation Loss: 0.022803067614179138, Accuracy: 0.8440366387367249\n",
      "Epoch: 100, Training loss: 0.32992086515306884, Validation Loss: 0.022467345136021256, Accuracy: 0.8440366387367249\n",
      "Epoch: 110, Training loss: 0.3034414255727916, Validation Loss: 0.017350527944914793, Accuracy: 0.8715596199035645\n",
      "Epoch: 120, Training loss: 0.2675427152822007, Validation Loss: 0.013094694379272812, Accuracy: 0.8807339072227478\n",
      "Epoch: 130, Training loss: 0.21823971813808293, Validation Loss: 0.008723779829270249, Accuracy: 0.8899081945419312\n"
     ]
    }
   ],
   "source": [
    "n_epochs = 140\n",
    "hist = train(model, n_epochs, train_dl, val_dl)"
   ]
  },
  {
   "cell_type": "code",
   "execution_count": 169,
   "id": "717d3937-c9cf-4895-ab21-9823c684e86b",
   "metadata": {},
   "outputs": [
    {
     "data": {
      "text/plain": [
       "<matplotlib.legend.Legend at 0x1cf262b43a0>"
      ]
     },
     "execution_count": 169,
     "metadata": {},
     "output_type": "execute_result"
    },
    {
     "data": {
      "image/png": "[encoded data removed]",
      "text/plain": [
       "<Figure size 2160x360 with 3 Axes>"
      ]
     },
     "metadata": {
      "needs_background": "light"
     },
     "output_type": "display_data"
    }
   ],
   "source": [
    "fig, ax = plt.subplots(1, 3, figsize=(30, 5))\n",
    "ax[0].plot(range(1, n_epochs+1), hist[0], label=\"train loss\")\n",
    "ax[0].legend()\n",
    "ax[1].plot(range(1, n_epochs+1), hist[1], label=\"val loss\", color=\"orange\")\n",
    "ax[1].legend()\n",
    "ax[2].plot(range(1, n_epochs+1), [row.cpu().numpy() for row in hist[2]], label=\"accuracy\", color=\"black\")\n",
    "ax[2].legend()"
   ]
  },
  {
   "cell_type": "code",
   "execution_count": 93,
   "id": "20f59240-915e-43f1-8f5f-2c9ce78ab6fc",
   "metadata": {},
   "outputs": [
    {
     "data": {
      "text/plain": [
       "torch.Size([1, 3, 256, 256])"
      ]
     },
     "execution_count": 93,
     "metadata": {},
     "output_type": "execute_result"
    }
   ],
   "source": [
    "imag_inf = imag.to(device).unsqueeze(0)\n",
    "imag_inf.size()"
   ]
  },
  {
   "cell_type": "code",
   "execution_count": 137,
   "id": "4c1c485e-84c1-4f01-88a0-14ec3f0fc216",
   "metadata": {},
   "outputs": [
    {
     "name": "stdout",
     "output_type": "stream",
     "text": [
      "0.4461652\n"
     ]
    }
   ],
   "source": [
    "with torch.no_grad():\n",
    "    model.eval()\n",
    "    print(model(imag_inf).cpu().numpy().squeeze())"
   ]
  },
  {
   "cell_type": "code",
   "execution_count": 164,
   "id": "b4a08fea-23a3-42c1-949c-a122f30fe197",
   "metadata": {},
   "outputs": [],
   "source": [
    "def predict(path):\n",
    "    preds = []\n",
    "    model.eval()\n",
    "    with torch.no_grad():\n",
    "        for img_name in os.listdir(path):\n",
    "            if img_name.endswith('_mask.png'):\n",
    "                img_id = \"T\" + img_name.split('_')[0][1: 4]\n",
    "                image = Image.open(path + \"\\\\\" + img_name)\n",
    "                image = transform(image.convert(\"RGB\")).to(device).unsqueeze(0)\n",
    "                preds.append((img_id, model(image).cpu().numpy().squeeze()))\n",
    "    return preds"
   ]
  },
  {
   "cell_type": "code",
   "execution_count": 165,
   "id": "929a1ec3-adfb-4c8d-b1a0-05b0f1869ba3",
   "metadata": {},
   "outputs": [
    {
     "data": {
      "text/plain": [
       "[('T001', array(0.98354554, dtype=float32)),\n",
       " ('T002', array(0.9422778, dtype=float32)),\n",
       " ('T003', array(0.1183634, dtype=float32)),\n",
       " ('T004', array(0.9758449, dtype=float32)),\n",
       " ('T005', array(0.94727606, dtype=float32)),\n",
       " ('T006', array(0.12264517, dtype=float32)),\n",
       " ('T007', array(0.0720505, dtype=float32)),\n",
       " ('T008', array(0.07039054, dtype=float32)),\n",
       " ('T009', array(0.08192508, dtype=float32)),\n",
       " ('T010', array(0.11068688, dtype=float32)),\n",
       " ('T011', array(0.02753751, dtype=float32)),\n",
       " ('T012', array(0.31959963, dtype=float32)),\n",
       " ('T013', array(0.18420489, dtype=float32)),\n",
       " ('T014', array(0.07162917, dtype=float32)),\n",
       " ('T015', array(0.118033, dtype=float32)),\n",
       " ('T016', array(0.0314346, dtype=float32)),\n",
       " ('T017', array(0.01360102, dtype=float32)),\n",
       " ('T018', array(0.97970635, dtype=float32)),\n",
       " ('T019', array(0.88733673, dtype=float32)),\n",
       " ('T020', array(0.02033729, dtype=float32)),\n",
       " ('T021', array(0.01848752, dtype=float32)),\n",
       " ('T022', array(0.09696539, dtype=float32)),\n",
       " ('T023', array(0.96529394, dtype=float32)),\n",
       " ('T024', array(0.87485576, dtype=float32)),\n",
       " ('T025', array(0.03899695, dtype=float32)),\n",
       " ('T026', array(0.0170771, dtype=float32)),\n",
       " ('T027', array(0.06272226, dtype=float32)),\n",
       " ('T028', array(0.95672166, dtype=float32)),\n",
       " ('T029', array(0.1565549, dtype=float32)),\n",
       " ('T030', array(0.02978194, dtype=float32)),\n",
       " ('T031', array(0.72222203, dtype=float32)),\n",
       " ('T032', array(0.00570033, dtype=float32)),\n",
       " ('T033', array(0.92351896, dtype=float32)),\n",
       " ('T034', array(0.20354289, dtype=float32)),\n",
       " ('T035', array(0.9404583, dtype=float32)),\n",
       " ('T036', array(0.01053601, dtype=float32)),\n",
       " ('T037', array(0.05114596, dtype=float32)),\n",
       " ('T038', array(0.91736424, dtype=float32)),\n",
       " ('T039', array(0.99057126, dtype=float32)),\n",
       " ('T040', array(0.03238938, dtype=float32)),\n",
       " ('T041', array(0.40671408, dtype=float32)),\n",
       " ('T042', array(0.9614558, dtype=float32)),\n",
       " ('T043', array(0.9983676, dtype=float32)),\n",
       " ('T044', array(0.01189971, dtype=float32)),\n",
       " ('T045', array(0.58985347, dtype=float32)),\n",
       " ('T046', array(0.97843194, dtype=float32)),\n",
       " ('T047', array(0.01172216, dtype=float32)),\n",
       " ('T048', array(0.01680172, dtype=float32)),\n",
       " ('T049', array(0.04890708, dtype=float32)),\n",
       " ('T050', array(0.99975234, dtype=float32)),\n",
       " ('T051', array(0.04999343, dtype=float32)),\n",
       " ('T052', array(0.39356786, dtype=float32)),\n",
       " ('T053', array(0.08955929, dtype=float32)),\n",
       " ('T054', array(0.9983499, dtype=float32)),\n",
       " ('T055', array(0.04124, dtype=float32)),\n",
       " ('T056', array(0.04704717, dtype=float32)),\n",
       " ('T057', array(0.99743986, dtype=float32)),\n",
       " ('T058', array(0.00505769, dtype=float32)),\n",
       " ('T059', array(0.02335824, dtype=float32)),\n",
       " ('T060', array(0.02839899, dtype=float32)),\n",
       " ('T061', array(0.02371604, dtype=float32)),\n",
       " ('T062', array(0.7634933, dtype=float32)),\n",
       " ('T063', array(0.33162075, dtype=float32)),\n",
       " ('T064', array(0.99789006, dtype=float32)),\n",
       " ('T065', array(0.31310764, dtype=float32)),\n",
       " ('T066', array(0.9920661, dtype=float32)),\n",
       " ('T067', array(0.98738456, dtype=float32)),\n",
       " ('T068', array(0.42843556, dtype=float32)),\n",
       " ('T069', array(0.9584896, dtype=float32)),\n",
       " ('T070', array(0.03350075, dtype=float32)),\n",
       " ('T071', array(0.9738012, dtype=float32)),\n",
       " ('T072', array(0.9876381, dtype=float32)),\n",
       " ('T073', array(0.01302289, dtype=float32)),\n",
       " ('T074', array(0.01349988, dtype=float32)),\n",
       " ('T075', array(0.9189856, dtype=float32)),\n",
       " ('T076', array(0.02129238, dtype=float32)),\n",
       " ('T077', array(0.9357676, dtype=float32)),\n",
       " ('T078', array(0.99144226, dtype=float32)),\n",
       " ('T079', array(0.19020112, dtype=float32)),\n",
       " ('T080', array(0.98978513, dtype=float32)),\n",
       " ('T081', array(0.29444075, dtype=float32)),\n",
       " ('T082', array(0.03084219, dtype=float32)),\n",
       " ('T083', array(0.06444948, dtype=float32)),\n",
       " ('T084', array(0.03105381, dtype=float32)),\n",
       " ('T085', array(0.98093385, dtype=float32)),\n",
       " ('T086', array(0.01807708, dtype=float32)),\n",
       " ('T087', array(0.35378727, dtype=float32)),\n",
       " ('T088', array(0.05841001, dtype=float32)),\n",
       " ('T089', array(0.9951886, dtype=float32)),\n",
       " ('T090', array(0.71884584, dtype=float32)),\n",
       " ('T091', array(0.04035779, dtype=float32)),\n",
       " ('T092', array(0.0366353, dtype=float32)),\n",
       " ('T093', array(0.86289513, dtype=float32)),\n",
       " ('T094', array(0.01878752, dtype=float32)),\n",
       " ('T095', array(0.5419153, dtype=float32)),\n",
       " ('T096', array(0.83471566, dtype=float32)),\n",
       " ('T097', array(0.98536265, dtype=float32)),\n",
       " ('T098', array(0.0157266, dtype=float32)),\n",
       " ('T099', array(0.0656838, dtype=float32)),\n",
       " ('T100', array(0.9990759, dtype=float32))]"
      ]
     },
     "execution_count": 165,
     "metadata": {},
     "output_type": "execute_result"
    }
   ],
   "source": [
    "predictions = predict(r\"C:\\Users\\User\\OneDrive\\Документы\\Kaggle\\kaggle\\Breast Cancer US Classification\\complete_set\\testing_set\")\n",
    "predictions"
   ]
  },
  {
   "cell_type": "code",
   "execution_count": 166,
   "id": "c6c78c20-2e85-4664-9704-dc77a422da91",
   "metadata": {},
   "outputs": [],
   "source": [
    "predictions = pd.DataFrame(predictions, columns=[\"ID\", \"Predicted\"])\n",
    "predictions.to_csv(\"CNN.csv\", index=False)"
   ]
  },
  {
   "cell_type": "code",
   "execution_count": 167,
   "id": "2b37af2c-f252-4aed-9ecc-838bf8830994",
   "metadata": {},
   "outputs": [],
   "source": [
    "torch.save(model, \"dnn.pt\")"
   ]
  },
  {
   "cell_type": "code",
   "execution_count": null,
   "id": "82dad43f-1d77-41fc-b4c5-78223e5a420d",
   "metadata": {},
   "outputs": [],
   "source": []
  }
 ],
 "metadata": {
  "kernelspec": {
   "display_name": "Python 3 (ipykernel)",
   "language": "python",
   "name": "python3"
  },
  "language_info": {
   "codemirror_mode": {
    "name": "ipython",
    "version": 3
   },
   "file_extension": ".py",
   "mimetype": "text/x-python",
   "name": "python",
   "nbconvert_exporter": "python",
   "pygments_lexer": "ipython3",
   "version": "3.9.19"
  }
 },
 "nbformat": 4,
 "nbformat_minor": 5
}
