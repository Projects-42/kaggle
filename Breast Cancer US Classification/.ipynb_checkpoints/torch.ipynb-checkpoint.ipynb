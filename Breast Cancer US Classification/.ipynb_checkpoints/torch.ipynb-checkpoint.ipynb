{
 "cells": [
  {
   "cell_type": "code",
   "execution_count": 2,
   "id": "20911ccf-5b74-439f-b5c4-71deb0c7c2d1",
   "metadata": {},
   "outputs": [],
   "source": [
    "import os\n",
    "import pandas as pd\n",
    "import matplotlib.pyplot as plt\n",
    "import seaborn as sns\n",
    "import numpy as np\n",
    "os.chdir(r\"C:\\Users\\User\\OneDrive\\Документы\\Kaggle\\kaggle\\Breast Cancer US Classification\")"
   ]
  },
  {
   "cell_type": "code",
   "execution_count": 158,
   "id": "d6668f92-98d9-4931-a3f4-61895b29203e",
   "metadata": {},
   "outputs": [],
   "source": [
    "import torch.nn as nn\n",
    "import torch\n",
    "from torch.utils.data import TensorDataset, DataLoader, Dataset, random_split\n",
    "from category_encoders import TargetEncoder\n",
    "from sklearn.preprocessing import OneHotEncoder, StandardScaler\n",
    "from sklearn.compose import ColumnTransformer, make_column_selector\n",
    "from sklearn.pipeline import Pipeline\n",
    "from sklearn.model_selection import train_test_split\n",
    "import torchvision\n",
    "from torchvision import transforms\n",
    "from torchvision.io import read_image\n",
    "from PIL import Image\n",
    "import os\n",
    "from pathlib import Path"
   ]
  },
  {
   "cell_type": "code",
   "execution_count": 56,
   "id": "aa9fa585-b6d6-4356-bbab-fcd111a50607",
   "metadata": {},
   "outputs": [],
   "source": [
    "img = read_image(r\"C:\\Users\\User\\OneDrive\\Документы\\Kaggle\\kaggle\\Breast Cancer US Classification\\training_set\\benign\\benign (1)_mask.png\")"
   ]
  },
  {
   "cell_type": "code",
   "execution_count": 57,
   "id": "0117f751-7f90-4ae5-a759-a0e55891b567",
   "metadata": {},
   "outputs": [],
   "source": [
    "img = img.permute(1, 2, 0)"
   ]
  },
  {
   "cell_type": "code",
   "execution_count": 58,
   "id": "f3061a2b-049d-4180-b47f-0d187bc75b17",
   "metadata": {},
   "outputs": [
    {
     "data": {
      "text/plain": [
       "<matplotlib.image.AxesImage at 0x21ed38c6e80>"
      ]
     },
     "execution_count": 58,
     "metadata": {},
     "output_type": "execute_result"
    },
    {
     "data": {
      "image/png": "[encoded data removed]",
      "text/plain": [
       "<Figure size 432x288 with 1 Axes>"
      ]
     },
     "metadata": {
      "needs_background": "light"
     },
     "output_type": "display_data"
    }
   ],
   "source": [
    "plt.imshow(img)"
   ]
  },
  {
   "cell_type": "code",
   "execution_count": 146,
   "id": "03c7304f-86f4-4693-bb84-ae900f63e494",
   "metadata": {},
   "outputs": [],
   "source": [
    "transform = transforms.Compose([\n",
    "    transforms.Resize((256, 256)), \n",
    "    transforms.ToTensor(), \n",
    "    transforms.Normalize(mean=[0.485, 0.456, 0.406],\n",
    "                         std=[0.229, 0.224, 0.225])\n",
    "])"
   ]
  },
  {
   "cell_type": "code",
   "execution_count": 152,
   "id": "582b109d-801a-4951-98ed-b155f2a13ccc",
   "metadata": {},
   "outputs": [
    {
     "name": "stderr",
     "output_type": "stream",
     "text": [
      "Clipping input data to the valid range for imshow with RGB data ([0..1] for floats or [0..255] for integers).\n"
     ]
    },
    {
     "data": {
      "text/plain": [
       "<matplotlib.image.AxesImage at 0x21ed7e673a0>"
      ]
     },
     "execution_count": 152,
     "metadata": {},
     "output_type": "execute_result"
    },
    {
     "data": {
      "image/png": "[encoded data removed]",
      "text/plain": [
       "<Figure size 432x288 with 1 Axes>"
      ]
     },
     "metadata": {
      "needs_background": "light"
     },
     "output_type": "display_data"
    }
   ],
   "source": [
    "imag = Image.open(Path(r\"C:\\Users\\User\\OneDrive\\Документы\\Kaggle\\kaggle\\Breast Cancer US Classification\\training_set\") / \"benign\" / \"benign (393)_mask.png\")\n",
    "imag = transform(imag.convert(\"RGB\"))\n",
    "plt.imshow(np.array(imag, dtype=float).transpose(1, 2, 0))"
   ]
  },
  {
   "cell_type": "code",
   "execution_count": 156,
   "id": "8f25f4ad-2df7-494c-90ac-21f65efebc0f",
   "metadata": {},
   "outputs": [
    {
     "data": {
      "text/plain": [
       "(3, 256, 256)"
      ]
     },
     "execution_count": 156,
     "metadata": {},
     "output_type": "execute_result"
    }
   ],
   "source": [
    "np.array(imag, dtype=float).shape"
   ]
  },
  {
   "cell_type": "code",
   "execution_count": 233,
   "id": "af456a36-d525-4541-b078-1b2f2e2eb5e4",
   "metadata": {},
   "outputs": [],
   "source": [
    "class MedicalImageDataset(Dataset):\n",
    "    def __init__(self, root_dir, transform=None):\n",
    "        self.root_dir = Path(root_dir)\n",
    "        self.transform = transform\n",
    "        self.classes = ['benign', 'malignant']\n",
    "        self.samples = []\n",
    "        \n",
    "        for class_idx, class_name in enumerate(self.classes):\n",
    "            class_dir = self.root_dir / class_name\n",
    "            for img_name in os.listdir(class_dir):\n",
    "                if img_name.endswith('_mask.png'):\n",
    "                    self.samples.append((class_dir / img_name, class_idx))\n",
    "    \n",
    "    def __len__(self):\n",
    "        return len(self.samples)\n",
    "    \n",
    "    def __getitem__(self, idx):\n",
    "        img_path, label = self.samples[idx]\n",
    "        image = Image.open(img_path).convert('RGB')\n",
    "        \n",
    "        if self.transform:\n",
    "            image = self.transform(image)\n",
    "            \n",
    "        return image, torch.tensor(label, dtype=torch.long)"
   ]
  },
  {
   "cell_type": "code",
   "execution_count": 234,
   "id": "430991c9-e1d0-48cb-9194-cf99910e127e",
   "metadata": {},
   "outputs": [],
   "source": [
    "dataset = MedicalImageDataset(root_dir=r\"C:\\Users\\User\\OneDrive\\Документы\\Kaggle\\kaggle\\Breast Cancer US Classification\\training_set\", transform=transform)"
   ]
  },
  {
   "cell_type": "code",
   "execution_count": 157,
   "id": "a7c65d3e-cea3-495d-8209-edb2991d8d0e",
   "metadata": {},
   "outputs": [
    {
     "data": {
      "text/plain": [
       "[(WindowsPath('C:/Users/User/OneDrive/Документы/Kaggle/kaggle/Breast Cancer US Classification/training_set/benign/benign (1)_mask.png'),\n",
       "  0),\n",
       " (WindowsPath('C:/Users/User/OneDrive/Документы/Kaggle/kaggle/Breast Cancer US Classification/training_set/benign/benign (10)_mask.png'),\n",
       "  0),\n",
       " (WindowsPath('C:/Users/User/OneDrive/Документы/Kaggle/kaggle/Breast Cancer US Classification/training_set/benign/benign (100)_mask.png'),\n",
       "  0),\n",
       " (WindowsPath('C:/Users/User/OneDrive/Документы/Kaggle/kaggle/Breast Cancer US Classification/training_set/benign/benign (101)_mask.png'),\n",
       "  0),\n",
       " (WindowsPath('C:/Users/User/OneDrive/Документы/Kaggle/kaggle/Breast Cancer US Classification/training_set/benign/benign (102)_mask.png'),\n",
       "  0)]"
      ]
     },
     "execution_count": 157,
     "metadata": {},
     "output_type": "execute_result"
    }
   ],
   "source": [
    "dataset.samples[:5]"
   ]
  },
  {
   "cell_type": "code",
   "execution_count": 118,
   "id": "fe8401b7-f28f-4297-9865-6b02ed6030f4",
   "metadata": {},
   "outputs": [
    {
     "name": "stdout",
     "output_type": "stream",
     "text": [
      "tensor([[[-2.1179, -2.1179, -2.1179,  ..., -2.1179, -2.1179, -2.1179],\n",
      "         [-2.1179, -2.1179, -2.1179,  ..., -2.1179, -2.1179, -2.1179],\n",
      "         [-2.1179, -2.1179, -2.1179,  ..., -2.1179, -2.1179, -2.1179],\n",
      "         ...,\n",
      "         [-2.1179, -2.1179, -2.1179,  ..., -2.1179, -2.1179, -2.1179],\n",
      "         [-2.1179, -2.1179, -2.1179,  ..., -2.1179, -2.1179, -2.1179],\n",
      "         [-2.1179, -2.1179, -2.1179,  ..., -2.1179, -2.1179, -2.1179]],\n",
      "\n",
      "        [[-2.0357, -2.0357, -2.0357,  ..., -2.0357, -2.0357, -2.0357],\n",
      "         [-2.0357, -2.0357, -2.0357,  ..., -2.0357, -2.0357, -2.0357],\n",
      "         [-2.0357, -2.0357, -2.0357,  ..., -2.0357, -2.0357, -2.0357],\n",
      "         ...,\n",
      "         [-2.0357, -2.0357, -2.0357,  ..., -2.0357, -2.0357, -2.0357],\n",
      "         [-2.0357, -2.0357, -2.0357,  ..., -2.0357, -2.0357, -2.0357],\n",
      "         [-2.0357, -2.0357, -2.0357,  ..., -2.0357, -2.0357, -2.0357]],\n",
      "\n",
      "        [[-1.8044, -1.8044, -1.8044,  ..., -1.8044, -1.8044, -1.8044],\n",
      "         [-1.8044, -1.8044, -1.8044,  ..., -1.8044, -1.8044, -1.8044],\n",
      "         [-1.8044, -1.8044, -1.8044,  ..., -1.8044, -1.8044, -1.8044],\n",
      "         ...,\n",
      "         [-1.8044, -1.8044, -1.8044,  ..., -1.8044, -1.8044, -1.8044],\n",
      "         [-1.8044, -1.8044, -1.8044,  ..., -1.8044, -1.8044, -1.8044],\n",
      "         [-1.8044, -1.8044, -1.8044,  ..., -1.8044, -1.8044, -1.8044]]]) tensor(0, dtype=torch.int32)\n"
     ]
    }
   ],
   "source": [
    "img, label = dataset[6]\n",
    "print(img, label)"
   ]
  },
  {
   "cell_type": "code",
   "execution_count": 119,
   "id": "da0ed729-5715-40d1-a564-7304a2e173f8",
   "metadata": {},
   "outputs": [
    {
     "name": "stderr",
     "output_type": "stream",
     "text": [
      "Clipping input data to the valid range for imshow with RGB data ([0..1] for floats or [0..255] for integers).\n"
     ]
    },
    {
     "data": {
      "text/plain": [
       "<matplotlib.image.AxesImage at 0x21ed41cf3a0>"
      ]
     },
     "execution_count": 119,
     "metadata": {},
     "output_type": "execute_result"
    },
    {
     "data": {
      "image/png": "[encoded data removed]",
      "text/plain": [
       "<Figure size 432x288 with 1 Axes>"
      ]
     },
     "metadata": {
      "needs_background": "light"
     },
     "output_type": "display_data"
    }
   ],
   "source": [
    "image = dataset.__getitem__(0)\n",
    "image = image[0].permute(1, 2, 0)\n",
    "plt.imshow(image)"
   ]
  },
  {
   "cell_type": "code",
   "execution_count": 235,
   "id": "7d8f2ea8-4458-465c-bb3a-6e8d33252937",
   "metadata": {},
   "outputs": [
    {
     "name": "stdout",
     "output_type": "stream",
     "text": [
      "438 109\n"
     ]
    }
   ],
   "source": [
    "train_ds, val_ds = random_split(dataset, [0.8, 0.2])\n",
    "print(len(train_ds), len(val_ds))"
   ]
  },
  {
   "cell_type": "code",
   "execution_count": 165,
   "id": "2b560b4f-c530-4ec3-8f97-3bfca861a61e",
   "metadata": {},
   "outputs": [],
   "source": [
    "batch_size = 32"
   ]
  },
  {
   "cell_type": "code",
   "execution_count": 166,
   "id": "cf0f2013-d442-4dff-be5f-a000b775acd8",
   "metadata": {},
   "outputs": [
    {
     "data": {
      "text/plain": [
       "<torch._C.Generator at 0x21ec29c37f0>"
      ]
     },
     "execution_count": 166,
     "metadata": {},
     "output_type": "execute_result"
    }
   ],
   "source": [
    "torch.manual_seed(42)"
   ]
  },
  {
   "cell_type": "code",
   "execution_count": 236,
   "id": "a8eae36a-a671-4f46-8af5-769767e03041",
   "metadata": {},
   "outputs": [],
   "source": [
    "train_dl = DataLoader(train_ds, batch_size)\n",
    "val_dl = DataLoader(val_ds, batch_size)"
   ]
  },
  {
   "cell_type": "code",
   "execution_count": 245,
   "id": "382925c9-2ecd-4ff8-a120-2d1739741421",
   "metadata": {},
   "outputs": [],
   "source": [
    "model = nn.Sequential()\n",
    "model.add_module(\n",
    "    \"conv1\",\n",
    "    nn.Conv2d(\n",
    "        in_channels=3, out_channels=32,\n",
    "        kernel_size=5, padding=2\n",
    "    )\n",
    ")\n",
    "model.add_module(\"relu1\", nn.ReLU())\n",
    "model.add_module(\"pool1\", nn.MaxPool2d(kernel_size=2))\n",
    "model.add_module(\n",
    "    \"conv2\",\n",
    "    nn.Conv2d(\n",
    "        in_channels=32, out_channels=64,\n",
    "        kernel_size=5, padding=2\n",
    "    )\n",
    ")\n",
    "model.add_module(\"relu2\", nn.ReLU())\n",
    "model.add_module(\"pool2\", nn.MaxPool2d(kernel_size=2))\n",
    "model.add_module(\n",
    "    \"conv3\",\n",
    "    nn.Conv2d(\n",
    "        in_channels=64, out_channels=128,\n",
    "        kernel_size=5, padding=2\n",
    "    )\n",
    ")\n",
    "model.add_module(\"relu3\", nn.ReLU())\n",
    "model.add_module(\"globalavrg\", nn.AdaptiveAvgPool2d(output_size=(1, 1)))\n",
    "model.add_module(\"flatten\", nn.Flatten()) \n",
    "model.add_module(\"fc1\", nn.Linear(128, 64))\n",
    "model.add_module(\"relu4\", nn.ReLU())\n",
    "model.add_module(\"drop\", nn.Dropout(p=0.5))\n",
    "model.add_module(\"fc2\", nn.Linear(64, 1))\n",
    "model.add_module(\"sigma\", nn.Sigmoid())"
   ]
  },
  {
   "cell_type": "code",
   "execution_count": 246,
   "id": "00a42589-63a8-4261-9111-221b250586df",
   "metadata": {},
   "outputs": [
    {
     "data": {
      "text/plain": [
       "torch.Size([4, 1])"
      ]
     },
     "execution_count": 246,
     "metadata": {},
     "output_type": "execute_result"
    }
   ],
   "source": [
    "X = torch.ones(4, 3, 256, 256)\n",
    "model(X).shape"
   ]
  },
  {
   "cell_type": "code",
   "execution_count": 258,
   "id": "97413f7a-8dfa-467e-a0d2-0968dab9d90e",
   "metadata": {},
   "outputs": [],
   "source": [
    "loss_fn = nn.BCELoss()\n",
    "optimizer = torch.optim.Adam(model.parameters(), lr=0.0005)"
   ]
  },
  {
   "cell_type": "code",
   "execution_count": 295,
   "id": "41b52122-d2fc-4193-9cf1-68f05ad05957",
   "metadata": {},
   "outputs": [],
   "source": [
    "for layer in model.children():\n",
    "   if hasattr(layer, 'reset_parameters'):\n",
    "       layer.reset_parameters()"
   ]
  },
  {
   "cell_type": "code",
   "execution_count": 301,
   "id": "4ab8cfdd-e8e8-4595-b055-b7d481d54eee",
   "metadata": {},
   "outputs": [],
   "source": [
    "def train(model, n_epochs, train_dl, val_dl):\n",
    "    loss_hist_train = [0] * n_epochs\n",
    "    loss_hist_val = [0] * n_epochs\n",
    "    accuracy = [0] * n_epochs\n",
    "    for epoch in range(n_epochs):\n",
    "        model.train()\n",
    "        for x_batch, y_batch in train_dl:\n",
    "            pred = model(x_batch).squeeze(1)\n",
    "            loss = loss_fn(pred, y_batch.float())\n",
    "            loss.backward()\n",
    "            optimizer.step()\n",
    "            optimizer.zero_grad()\n",
    "            loss_hist_train[epoch] += loss.item() * y_batch.size(0)\n",
    "        loss_hist_train[epoch] = loss_hist_train[epoch] / len(train_dl.dataset)\n",
    "        model.eval()\n",
    "        with torch.no_grad():\n",
    "            for x_batch, y_batch in val_dl:\n",
    "                pred = model(x_batch).squeeze(1)\n",
    "                loss = loss_fn(pred, y_batch.float())\n",
    "                loss_hist_val[epoch] = loss.item() * y_batch.size(0)\n",
    "                accuracy[epoch] += (torch.round(pred) == y_batch).sum().float()\n",
    "        loss_hist_val[epoch] = loss_hist_val[epoch] / len(val_dl.dataset)\n",
    "        accuracy[epoch] /= len(val_dl.dataset)\n",
    "        if epoch % 10 == 0:\n",
    "                print(f\"Epoch: {epoch}, Training loss: {loss_hist_train[epoch]}, Validation Loss: {loss_hist_val[epoch]}, Accuracy: {accuracy[epoch]}\")\n",
    "    return loss_hist_train, loss_hist_val, accuracy            "
   ]
  },
  {
   "cell_type": "code",
   "execution_count": null,
   "id": "d1fc1a8e-422f-4613-8fc1-d077dceb4e59",
   "metadata": {},
   "outputs": [
    {
     "name": "stdout",
     "output_type": "stream",
     "text": [
      "Epoch: 0, Training loss: 0.5494605692009947, Validation Loss: 0.08089269410579576, Accuracy: 0.7064220309257507\n",
      "Epoch: 10, Training loss: 0.5348325426175714, Validation Loss: 0.07078765455735933, Accuracy: 0.7706422209739685\n"
     ]
    }
   ],
   "source": [
    "n_epochs = 100\n",
    "train(model, n_epochs, train_dl, val_dl)"
   ]
  },
  {
   "cell_type": "code",
   "execution_count": null,
   "id": "717d3937-c9cf-4895-ab21-9823c684e86b",
   "metadata": {},
   "outputs": [],
   "source": []
  }
 ],
 "metadata": {
  "kernelspec": {
   "display_name": "Python 3 (ipykernel)",
   "language": "python",
   "name": "python3"
  },
  "language_info": {
   "codemirror_mode": {
    "name": "ipython",
    "version": 3
   },
   "file_extension": ".py",
   "mimetype": "text/x-python",
   "name": "python",
   "nbconvert_exporter": "python",
   "pygments_lexer": "ipython3",
   "version": "3.9.19"
  }
 },
 "nbformat": 4,
 "nbformat_minor": 5
}
