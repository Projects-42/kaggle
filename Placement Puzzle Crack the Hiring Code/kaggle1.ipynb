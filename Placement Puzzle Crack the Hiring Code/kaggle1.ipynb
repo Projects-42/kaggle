{
 "cells": [
  {
   "cell_type": "code",
   "execution_count": 1,
   "id": "e11cc387-ba4a-4a1b-b54e-17dfaef75141",
   "metadata": {},
   "outputs": [],
   "source": [
    "import os\n",
    "import pandas as pd\n",
    "import matplotlib.pyplot as plt\n",
    "import seaborn as sns\n",
    "import numpy as np\n",
    "from sklearn.svm import SVR\n",
    "os.chdir(r\"C:\\Users\\User\\OneDrive\\Документы\\Kaggle\\Russian Car Plates Prices Prediction\")\n",
    "from supplemental_russian import REGION_CODES, GOVERNMENT_CODES\n"
   ]
  },
  {
   "cell_type": "code",
   "execution_count": 2,
   "id": "894d7837-4253-460b-9c4c-025ee65aa803",
   "metadata": {},
   "outputs": [],
   "source": [
    "def smape(estimator, X, y):\n",
    "    return 100 / len(y) * sum(abs(y - estimator.predict(X)) / (abs(y) + abs(estimator.predict(X))) * 2)"
   ]
  },
  {
   "cell_type": "code",
   "execution_count": 3,
   "id": "cb63790a-d2a4-46cb-97e1-98b354ecaad9",
   "metadata": {},
   "outputs": [],
   "source": [
    "def convert_dates(data):\n",
    "    data[\"date\"] = pd.to_datetime(data[\"date\"])\n",
    "    data[\"year\"] = data[\"date\"].dt.year.astype(str)\n",
    "    data[\"month\"] = data[\"date\"].dt.month.map(\n",
    "        {\n",
    "            1: \"january\",\n",
    "            2: \"february\",\n",
    "            3: \"march\",\n",
    "            4: \"april\",\n",
    "            5: \"may\",\n",
    "            6: \"june\",\n",
    "            7: \"july\",\n",
    "            8: \"august\",\n",
    "            9: \"september\",\n",
    "            10: \"october\",\n",
    "            11: \"november\",\n",
    "            12: \"december\"\n",
    "        }\n",
    "    )\n",
    "    data[\"day_week\"] = data[\"date\"].dt.dayofweek.map(\n",
    "        {\n",
    "            0: \"monday\",\n",
    "            1: \"tuesday\",\n",
    "            2: \"wednesday\",\n",
    "            3: \"thursday\",\n",
    "            4: \"friday\",\n",
    "            5: \"saturday\",\n",
    "            6: \"sunday\"\n",
    "        }\n",
    "    )\n",
    "    return data\n",
    "    "
   ]
  },
  {
   "cell_type": "code",
   "execution_count": 4,
   "id": "1405c6ee-eb11-4965-b6a7-eb30600cc025",
   "metadata": {},
   "outputs": [],
   "source": [
    "def reverse_codes(REGION_CODES):\n",
    "    dict = {}\n",
    "    for v, k in REGION_CODES.items():\n",
    "        for key in k:\n",
    "            dict[key] = v\n",
    "    return dict\n",
    "regions = reverse_codes(REGION_CODES)"
   ]
  },
  {
   "cell_type": "code",
   "execution_count": 5,
   "id": "aa6b4993-23f5-4cc8-b39a-856101cc634a",
   "metadata": {},
   "outputs": [],
   "source": [
    "def extract_government_info(row):\n",
    "    for ident, info in GOVERNMENT_CODES.items():\n",
    "        if (row[\"letters\"] == ident[0]) and (ident[1][0] <= int(row[\"numbers\"]) <= ident[1][1]) and (row[\"region\"] == ident[2]):\n",
    "            return info[0], info[1], info[2], info[3]\n",
    "        \n",
    "    return \"not governmental\", 0, 0, 0"
   ]
  },
  {
   "cell_type": "code",
   "execution_count": 6,
   "id": "a49f1d42-68b6-4b47-86f5-de0fb0de13a0",
   "metadata": {},
   "outputs": [],
   "source": [
    "def extract_plate_info(data):\n",
    "    data[[\"dept_name\", \"forb_buy\", \"adv_road\", \"significance\"]] = data[[\"letters\", \"numbers\", \"region\"]].apply(extract_government_info, axis=1, result_type=\"expand\")\n",
    "    data[\"region\"] = data[\"region\"].map(regions)\n",
    "    return data"
   ]
  },
  {
   "cell_type": "code",
   "execution_count": 7,
   "id": "51738e33-f1f1-4217-8ca0-9a88ae56a0a4",
   "metadata": {},
   "outputs": [],
   "source": [
    "def wrangle(path):\n",
    "    data = pd.read_csv(path)\n",
    "    convert_dates(data)\n",
    "    extract_plate(data)\n",
    "    extract_plate_info(data)\n",
    "    return data"
   ]
  },
  {
   "cell_type": "code",
   "execution_count": 8,
   "id": "eeb99e4d-118c-4acb-8f2b-ac4e8d4d54cd",
   "metadata": {},
   "outputs": [],
   "source": [
    "def extract_plate(data):\n",
    "    data[\"letters\"] = data[\"plate\"].str[0] + data[\"plate\"].str[4: 6]\n",
    "    data[\"numbers\"] = data[\"plate\"].str[1: 4]\n",
    "    data[\"region\"] = data[\"plate\"].str[6:]\n",
    "    return data"
   ]
  },
  {
   "cell_type": "code",
   "execution_count": 9,
   "id": "be91e5e7-64d8-46bc-a467-f469124324fe",
   "metadata": {},
   "outputs": [],
   "source": [
    "import pickle\n",
    "def dump(estimator, name):\n",
    "    with open(f\"{name}.pkl\", \"wb\") as f:\n",
    "        pickle.dump(estimator, f)"
   ]
  },
  {
   "cell_type": "code",
   "execution_count": 10,
   "id": "7b0ad6dd-d494-47db-8aeb-b54e12cf4f82",
   "metadata": {},
   "outputs": [],
   "source": [
    "def load(name):\n",
    "    with open(f\"{name}.pkl\", \"rb\") as f:\n",
    "        return pickle.load(f)"
   ]
  },
  {
   "cell_type": "code",
   "execution_count": 11,
   "id": "89f4ab67-78dd-4cda-98e1-5e4a4598ebf8",
   "metadata": {},
   "outputs": [
    {
     "data": {
      "text/html": [
       "<div>\n",
       "<style scoped>\n",
       "    .dataframe tbody tr th:only-of-type {\n",
       "        vertical-align: middle;\n",
       "    }\n",
       "\n",
       "    .dataframe tbody tr th {\n",
       "        vertical-align: top;\n",
       "    }\n",
       "\n",
       "    .dataframe thead th {\n",
       "        text-align: right;\n",
       "    }\n",
       "</style>\n",
       "<table border=\"1\" class=\"dataframe\">\n",
       "  <thead>\n",
       "    <tr style=\"text-align: right;\">\n",
       "      <th></th>\n",
       "      <th>id</th>\n",
       "      <th>plate</th>\n",
       "      <th>date</th>\n",
       "      <th>price</th>\n",
       "      <th>year</th>\n",
       "      <th>month</th>\n",
       "      <th>day_week</th>\n",
       "      <th>letters</th>\n",
       "      <th>numbers</th>\n",
       "      <th>region</th>\n",
       "      <th>dept_name</th>\n",
       "      <th>forb_buy</th>\n",
       "      <th>adv_road</th>\n",
       "      <th>significance</th>\n",
       "    </tr>\n",
       "  </thead>\n",
       "  <tbody>\n",
       "    <tr>\n",
       "      <th>0</th>\n",
       "      <td>1</td>\n",
       "      <td>X059CP797</td>\n",
       "      <td>2024-12-26 00:00:00</td>\n",
       "      <td>65000</td>\n",
       "      <td>2024</td>\n",
       "      <td>december</td>\n",
       "      <td>thursday</td>\n",
       "      <td>XCP</td>\n",
       "      <td>059</td>\n",
       "      <td>Москва</td>\n",
       "      <td>not governmental</td>\n",
       "      <td>0</td>\n",
       "      <td>0</td>\n",
       "      <td>0</td>\n",
       "    </tr>\n",
       "    <tr>\n",
       "      <th>1</th>\n",
       "      <td>2</td>\n",
       "      <td>Y800MH790</td>\n",
       "      <td>2024-07-12 21:31:37</td>\n",
       "      <td>100000</td>\n",
       "      <td>2024</td>\n",
       "      <td>july</td>\n",
       "      <td>friday</td>\n",
       "      <td>YMH</td>\n",
       "      <td>800</td>\n",
       "      <td>Московская область</td>\n",
       "      <td>not governmental</td>\n",
       "      <td>0</td>\n",
       "      <td>0</td>\n",
       "      <td>0</td>\n",
       "    </tr>\n",
       "    <tr>\n",
       "      <th>2</th>\n",
       "      <td>3</td>\n",
       "      <td>A212TX77</td>\n",
       "      <td>2024-04-18 00:00:00</td>\n",
       "      <td>290000</td>\n",
       "      <td>2024</td>\n",
       "      <td>april</td>\n",
       "      <td>thursday</td>\n",
       "      <td>ATX</td>\n",
       "      <td>212</td>\n",
       "      <td>Москва</td>\n",
       "      <td>not governmental</td>\n",
       "      <td>0</td>\n",
       "      <td>0</td>\n",
       "      <td>0</td>\n",
       "    </tr>\n",
       "    <tr>\n",
       "      <th>3</th>\n",
       "      <td>4</td>\n",
       "      <td>P001AY199</td>\n",
       "      <td>2025-01-03 00:27:15</td>\n",
       "      <td>680000</td>\n",
       "      <td>2025</td>\n",
       "      <td>january</td>\n",
       "      <td>friday</td>\n",
       "      <td>PAY</td>\n",
       "      <td>001</td>\n",
       "      <td>Москва</td>\n",
       "      <td>not governmental</td>\n",
       "      <td>0</td>\n",
       "      <td>0</td>\n",
       "      <td>0</td>\n",
       "    </tr>\n",
       "    <tr>\n",
       "      <th>4</th>\n",
       "      <td>5</td>\n",
       "      <td>P001AY199</td>\n",
       "      <td>2025-01-10 09:32:41</td>\n",
       "      <td>750000</td>\n",
       "      <td>2025</td>\n",
       "      <td>january</td>\n",
       "      <td>friday</td>\n",
       "      <td>PAY</td>\n",
       "      <td>001</td>\n",
       "      <td>Москва</td>\n",
       "      <td>not governmental</td>\n",
       "      <td>0</td>\n",
       "      <td>0</td>\n",
       "      <td>0</td>\n",
       "    </tr>\n",
       "    <tr>\n",
       "      <th>...</th>\n",
       "      <td>...</td>\n",
       "      <td>...</td>\n",
       "      <td>...</td>\n",
       "      <td>...</td>\n",
       "      <td>...</td>\n",
       "      <td>...</td>\n",
       "      <td>...</td>\n",
       "      <td>...</td>\n",
       "      <td>...</td>\n",
       "      <td>...</td>\n",
       "      <td>...</td>\n",
       "      <td>...</td>\n",
       "      <td>...</td>\n",
       "      <td>...</td>\n",
       "    </tr>\n",
       "    <tr>\n",
       "      <th>51630</th>\n",
       "      <td>51631</td>\n",
       "      <td>X023PP797</td>\n",
       "      <td>2025-01-29 00:00:00</td>\n",
       "      <td>70000</td>\n",
       "      <td>2025</td>\n",
       "      <td>january</td>\n",
       "      <td>wednesday</td>\n",
       "      <td>XPP</td>\n",
       "      <td>023</td>\n",
       "      <td>Москва</td>\n",
       "      <td>not governmental</td>\n",
       "      <td>0</td>\n",
       "      <td>0</td>\n",
       "      <td>0</td>\n",
       "    </tr>\n",
       "    <tr>\n",
       "      <th>51631</th>\n",
       "      <td>51632</td>\n",
       "      <td>M004KA161</td>\n",
       "      <td>2025-01-31 00:00:00</td>\n",
       "      <td>1600000</td>\n",
       "      <td>2025</td>\n",
       "      <td>january</td>\n",
       "      <td>friday</td>\n",
       "      <td>MKA</td>\n",
       "      <td>004</td>\n",
       "      <td>Ростовская область</td>\n",
       "      <td>not governmental</td>\n",
       "      <td>0</td>\n",
       "      <td>0</td>\n",
       "      <td>0</td>\n",
       "    </tr>\n",
       "    <tr>\n",
       "      <th>51632</th>\n",
       "      <td>51633</td>\n",
       "      <td>E888EB199</td>\n",
       "      <td>2025-02-06 00:00:00</td>\n",
       "      <td>850000</td>\n",
       "      <td>2025</td>\n",
       "      <td>february</td>\n",
       "      <td>thursday</td>\n",
       "      <td>EEB</td>\n",
       "      <td>888</td>\n",
       "      <td>Москва</td>\n",
       "      <td>not governmental</td>\n",
       "      <td>0</td>\n",
       "      <td>0</td>\n",
       "      <td>0</td>\n",
       "    </tr>\n",
       "    <tr>\n",
       "      <th>51633</th>\n",
       "      <td>51634</td>\n",
       "      <td>X023XK77</td>\n",
       "      <td>2024-04-24 11:30:07</td>\n",
       "      <td>150000</td>\n",
       "      <td>2024</td>\n",
       "      <td>april</td>\n",
       "      <td>wednesday</td>\n",
       "      <td>XXK</td>\n",
       "      <td>023</td>\n",
       "      <td>Москва</td>\n",
       "      <td>not governmental</td>\n",
       "      <td>0</td>\n",
       "      <td>0</td>\n",
       "      <td>0</td>\n",
       "    </tr>\n",
       "    <tr>\n",
       "      <th>51634</th>\n",
       "      <td>51635</td>\n",
       "      <td>K450OC797</td>\n",
       "      <td>2023-10-06 00:00:00</td>\n",
       "      <td>25000</td>\n",
       "      <td>2023</td>\n",
       "      <td>october</td>\n",
       "      <td>friday</td>\n",
       "      <td>KOC</td>\n",
       "      <td>450</td>\n",
       "      <td>Москва</td>\n",
       "      <td>not governmental</td>\n",
       "      <td>0</td>\n",
       "      <td>0</td>\n",
       "      <td>0</td>\n",
       "    </tr>\n",
       "  </tbody>\n",
       "</table>\n",
       "<p>51635 rows × 14 columns</p>\n",
       "</div>"
      ],
      "text/plain": [
       "          id      plate                date    price  year     month  \\\n",
       "0          1  X059CP797 2024-12-26 00:00:00    65000  2024  december   \n",
       "1          2  Y800MH790 2024-07-12 21:31:37   100000  2024      july   \n",
       "2          3   A212TX77 2024-04-18 00:00:00   290000  2024     april   \n",
       "3          4  P001AY199 2025-01-03 00:27:15   680000  2025   january   \n",
       "4          5  P001AY199 2025-01-10 09:32:41   750000  2025   january   \n",
       "...      ...        ...                 ...      ...   ...       ...   \n",
       "51630  51631  X023PP797 2025-01-29 00:00:00    70000  2025   january   \n",
       "51631  51632  M004KA161 2025-01-31 00:00:00  1600000  2025   january   \n",
       "51632  51633  E888EB199 2025-02-06 00:00:00   850000  2025  february   \n",
       "51633  51634   X023XK77 2024-04-24 11:30:07   150000  2024     april   \n",
       "51634  51635  K450OC797 2023-10-06 00:00:00    25000  2023   october   \n",
       "\n",
       "        day_week letters numbers              region         dept_name  \\\n",
       "0       thursday     XCP     059              Москва  not governmental   \n",
       "1         friday     YMH     800  Московская область  not governmental   \n",
       "2       thursday     ATX     212              Москва  not governmental   \n",
       "3         friday     PAY     001              Москва  not governmental   \n",
       "4         friday     PAY     001              Москва  not governmental   \n",
       "...          ...     ...     ...                 ...               ...   \n",
       "51630  wednesday     XPP     023              Москва  not governmental   \n",
       "51631     friday     MKA     004  Ростовская область  not governmental   \n",
       "51632   thursday     EEB     888              Москва  not governmental   \n",
       "51633  wednesday     XXK     023              Москва  not governmental   \n",
       "51634     friday     KOC     450              Москва  not governmental   \n",
       "\n",
       "       forb_buy  adv_road  significance  \n",
       "0             0         0             0  \n",
       "1             0         0             0  \n",
       "2             0         0             0  \n",
       "3             0         0             0  \n",
       "4             0         0             0  \n",
       "...         ...       ...           ...  \n",
       "51630         0         0             0  \n",
       "51631         0         0             0  \n",
       "51632         0         0             0  \n",
       "51633         0         0             0  \n",
       "51634         0         0             0  \n",
       "\n",
       "[51635 rows x 14 columns]"
      ]
     },
     "execution_count": 11,
     "metadata": {},
     "output_type": "execute_result"
    }
   ],
   "source": [
    "df = wrangle(\"train.csv\")\n",
    "df"
   ]
  },
  {
   "cell_type": "code",
   "execution_count": 466,
   "id": "6937d398-e29c-4b2b-9290-fc638d03d066",
   "metadata": {},
   "outputs": [
    {
     "name": "stdout",
     "output_type": "stream",
     "text": [
      "<class 'pandas.core.frame.DataFrame'>\n",
      "RangeIndex: 51635 entries, 0 to 51634\n",
      "Data columns (total 14 columns):\n",
      " #   Column        Non-Null Count  Dtype         \n",
      "---  ------        --------------  -----         \n",
      " 0   id            51635 non-null  int64         \n",
      " 1   plate         51635 non-null  object        \n",
      " 2   date          51635 non-null  datetime64[ns]\n",
      " 3   price         51635 non-null  int64         \n",
      " 4   year          51635 non-null  object        \n",
      " 5   month         51635 non-null  object        \n",
      " 6   day_week      51635 non-null  object        \n",
      " 7   letters       51635 non-null  object        \n",
      " 8   numbers       51635 non-null  object        \n",
      " 9   region        51635 non-null  object        \n",
      " 10  dept_name     51635 non-null  object        \n",
      " 11  forb_buy      51635 non-null  int64         \n",
      " 12  adv_road      51635 non-null  int64         \n",
      " 13  significance  51635 non-null  int64         \n",
      "dtypes: datetime64[ns](1), int64(5), object(8)\n",
      "memory usage: 5.5+ MB\n"
     ]
    }
   ],
   "source": [
    "df.info()"
   ]
  },
  {
   "cell_type": "code",
   "execution_count": 566,
   "id": "c3203d9e-4256-4b29-8500-5bcb6cfb7b37",
   "metadata": {},
   "outputs": [
    {
     "data": {
      "text/plain": [
       "array(['2024', '2025', '2022', '2021', '2023'], dtype=object)"
      ]
     },
     "execution_count": 566,
     "metadata": {},
     "output_type": "execute_result"
    }
   ],
   "source": [
    "df[\"year\"].unique()"
   ]
  },
  {
   "cell_type": "code",
   "execution_count": 18,
   "id": "4b27ca5d-abe2-4213-8f87-70c9cd18d5f5",
   "metadata": {},
   "outputs": [
    {
     "data": {
      "image/png": "[encoded data removed]",
      "text/plain": [
       "<Figure size 432x288 with 1 Axes>"
      ]
     },
     "metadata": {
      "needs_background": "light"
     },
     "output_type": "display_data"
    }
   ],
   "source": [
    "sns.histplot(df[\"day_week\"])\n",
    "plt.tight_layout()"
   ]
  },
  {
   "cell_type": "code",
   "execution_count": 19,
   "id": "c42f3a4a-36ab-446a-8940-7f5221d42ff3",
   "metadata": {},
   "outputs": [
    {
     "data": {
      "text/plain": [
       "<AxesSubplot:xlabel='year'>"
      ]
     },
     "execution_count": 19,
     "metadata": {},
     "output_type": "execute_result"
    },
    {
     "data": {
      "image/png": "[encoded data removed]",
      "text/plain": [
       "<Figure size 432x288 with 1 Axes>"
      ]
     },
     "metadata": {
      "needs_background": "light"
     },
     "output_type": "display_data"
    }
   ],
   "source": [
    "df.groupby(\"year\").agg({\"price\": \"sum\"}).plot()"
   ]
  },
  {
   "cell_type": "code",
   "execution_count": 20,
   "id": "870156cb-f2e6-4c1d-826a-7eb3164dcbd2",
   "metadata": {},
   "outputs": [
    {
     "data": {
      "text/plain": [
       "Text(0.5, 1.0, 'Total value sold by month')"
      ]
     },
     "execution_count": 20,
     "metadata": {},
     "output_type": "execute_result"
    },
    {
     "data": {
      "image/png": "[encoded data removed]",
      "text/plain": [
       "<Figure size 720x360 with 1 Axes>"
      ]
     },
     "metadata": {
      "needs_background": "light"
     },
     "output_type": "display_data"
    }
   ],
   "source": [
    "sorted_month = df.groupby(\"month\").agg({\"price\": \"sum\"}).reset_index().sort_values(\"price\", ascending=True)\n",
    "fig, ax = plt.subplots(figsize=(10, 5))\n",
    "plt.barh(width=sorted_month[\"price\"], y=sorted_month[\"month\"])\n",
    "plt.title(\"Total value sold by month\")"
   ]
  },
  {
   "cell_type": "code",
   "execution_count": 101,
   "id": "77e0a877-51d4-46ee-b7ad-760d9358f9b0",
   "metadata": {},
   "outputs": [
    {
     "data": {
      "text/html": [
       "<div>\n",
       "<style scoped>\n",
       "    .dataframe tbody tr th:only-of-type {\n",
       "        vertical-align: middle;\n",
       "    }\n",
       "\n",
       "    .dataframe tbody tr th {\n",
       "        vertical-align: top;\n",
       "    }\n",
       "\n",
       "    .dataframe thead th {\n",
       "        text-align: right;\n",
       "    }\n",
       "</style>\n",
       "<table border=\"1\" class=\"dataframe\">\n",
       "  <thead>\n",
       "    <tr style=\"text-align: right;\">\n",
       "      <th></th>\n",
       "      <th>id</th>\n",
       "      <th>plate</th>\n",
       "      <th>date</th>\n",
       "      <th>price</th>\n",
       "      <th>year</th>\n",
       "      <th>month</th>\n",
       "      <th>day_week</th>\n",
       "    </tr>\n",
       "  </thead>\n",
       "  <tbody>\n",
       "    <tr>\n",
       "      <th>3</th>\n",
       "      <td>4</td>\n",
       "      <td>P001AY199</td>\n",
       "      <td>2025-01-03 00:27:15</td>\n",
       "      <td>680000</td>\n",
       "      <td>2025</td>\n",
       "      <td>january</td>\n",
       "      <td>friday</td>\n",
       "    </tr>\n",
       "    <tr>\n",
       "      <th>4</th>\n",
       "      <td>5</td>\n",
       "      <td>P001AY199</td>\n",
       "      <td>2025-01-10 09:32:41</td>\n",
       "      <td>750000</td>\n",
       "      <td>2025</td>\n",
       "      <td>january</td>\n",
       "      <td>friday</td>\n",
       "    </tr>\n",
       "    <tr>\n",
       "      <th>20</th>\n",
       "      <td>21</td>\n",
       "      <td>K063KK190</td>\n",
       "      <td>2023-07-30 12:07:31</td>\n",
       "      <td>530000</td>\n",
       "      <td>2023</td>\n",
       "      <td>july</td>\n",
       "      <td>sunday</td>\n",
       "    </tr>\n",
       "    <tr>\n",
       "      <th>21</th>\n",
       "      <td>22</td>\n",
       "      <td>K063KK190</td>\n",
       "      <td>2024-10-01 00:00:00</td>\n",
       "      <td>450000</td>\n",
       "      <td>2024</td>\n",
       "      <td>october</td>\n",
       "      <td>tuesday</td>\n",
       "    </tr>\n",
       "    <tr>\n",
       "      <th>32</th>\n",
       "      <td>33</td>\n",
       "      <td>M313MM99</td>\n",
       "      <td>2024-06-30 00:00:00</td>\n",
       "      <td>3250000</td>\n",
       "      <td>2024</td>\n",
       "      <td>june</td>\n",
       "      <td>sunday</td>\n",
       "    </tr>\n",
       "    <tr>\n",
       "      <th>...</th>\n",
       "      <td>...</td>\n",
       "      <td>...</td>\n",
       "      <td>...</td>\n",
       "      <td>...</td>\n",
       "      <td>...</td>\n",
       "      <td>...</td>\n",
       "      <td>...</td>\n",
       "    </tr>\n",
       "    <tr>\n",
       "      <th>51594</th>\n",
       "      <td>51595</td>\n",
       "      <td>C300KA977</td>\n",
       "      <td>2024-10-05 23:58:47</td>\n",
       "      <td>160000</td>\n",
       "      <td>2024</td>\n",
       "      <td>october</td>\n",
       "      <td>saturday</td>\n",
       "    </tr>\n",
       "    <tr>\n",
       "      <th>51595</th>\n",
       "      <td>51596</td>\n",
       "      <td>C300KA977</td>\n",
       "      <td>2024-11-17 12:40:59</td>\n",
       "      <td>150000</td>\n",
       "      <td>2024</td>\n",
       "      <td>november</td>\n",
       "      <td>sunday</td>\n",
       "    </tr>\n",
       "    <tr>\n",
       "      <th>51596</th>\n",
       "      <td>51597</td>\n",
       "      <td>C300KA977</td>\n",
       "      <td>2025-01-04 11:39:20</td>\n",
       "      <td>100000</td>\n",
       "      <td>2025</td>\n",
       "      <td>january</td>\n",
       "      <td>saturday</td>\n",
       "    </tr>\n",
       "    <tr>\n",
       "      <th>51629</th>\n",
       "      <td>51630</td>\n",
       "      <td>X023PP797</td>\n",
       "      <td>2024-03-25 10:38:34</td>\n",
       "      <td>155000</td>\n",
       "      <td>2024</td>\n",
       "      <td>march</td>\n",
       "      <td>monday</td>\n",
       "    </tr>\n",
       "    <tr>\n",
       "      <th>51630</th>\n",
       "      <td>51631</td>\n",
       "      <td>X023PP797</td>\n",
       "      <td>2025-01-29 00:00:00</td>\n",
       "      <td>70000</td>\n",
       "      <td>2025</td>\n",
       "      <td>january</td>\n",
       "      <td>wednesday</td>\n",
       "    </tr>\n",
       "  </tbody>\n",
       "</table>\n",
       "<p>11987 rows × 7 columns</p>\n",
       "</div>"
      ],
      "text/plain": [
       "          id      plate                date    price  year     month  \\\n",
       "3          4  P001AY199 2025-01-03 00:27:15   680000  2025   january   \n",
       "4          5  P001AY199 2025-01-10 09:32:41   750000  2025   january   \n",
       "20        21  K063KK190 2023-07-30 12:07:31   530000  2023      july   \n",
       "21        22  K063KK190 2024-10-01 00:00:00   450000  2024   october   \n",
       "32        33   M313MM99 2024-06-30 00:00:00  3250000  2024      june   \n",
       "...      ...        ...                 ...      ...   ...       ...   \n",
       "51594  51595  C300KA977 2024-10-05 23:58:47   160000  2024   october   \n",
       "51595  51596  C300KA977 2024-11-17 12:40:59   150000  2024  november   \n",
       "51596  51597  C300KA977 2025-01-04 11:39:20   100000  2025   january   \n",
       "51629  51630  X023PP797 2024-03-25 10:38:34   155000  2024     march   \n",
       "51630  51631  X023PP797 2025-01-29 00:00:00    70000  2025   january   \n",
       "\n",
       "        day_week  \n",
       "3         friday  \n",
       "4         friday  \n",
       "20        sunday  \n",
       "21       tuesday  \n",
       "32        sunday  \n",
       "...          ...  \n",
       "51594   saturday  \n",
       "51595     sunday  \n",
       "51596   saturday  \n",
       "51629     monday  \n",
       "51630  wednesday  \n",
       "\n",
       "[11987 rows x 7 columns]"
      ]
     },
     "execution_count": 101,
     "metadata": {},
     "output_type": "execute_result"
    }
   ],
   "source": [
    "duplicated_plates = df[df[\"plate\"].duplicated(keep=False)]\n",
    "duplicated_plates"
   ]
  },
  {
   "cell_type": "code",
   "execution_count": 21,
   "id": "9a19bd2d-70dc-4aa4-b627-403f47638c6b",
   "metadata": {},
   "outputs": [
    {
     "data": {
      "text/plain": [
       "<AxesSubplot:>"
      ]
     },
     "execution_count": 21,
     "metadata": {},
     "output_type": "execute_result"
    },
    {
     "data": {
      "image/png": "[encoded data removed]",
      "text/plain": [
       "<Figure size 432x288 with 1 Axes>"
      ]
     },
     "metadata": {
      "needs_background": "light"
     },
     "output_type": "display_data"
    }
   ],
   "source": [
    "df[\"region\"].value_counts().tail(20).plot(kind=\"bar\")"
   ]
  },
  {
   "cell_type": "code",
   "execution_count": 22,
   "id": "22b76fbc-1e57-4ce1-b975-220d94e2b0ff",
   "metadata": {},
   "outputs": [
    {
     "data": {
      "text/plain": [
       "<AxesSubplot:>"
      ]
     },
     "execution_count": 22,
     "metadata": {},
     "output_type": "execute_result"
    },
    {
     "data": {
      "image/png": "[encoded data removed]",
      "text/plain": [
       "<Figure size 432x288 with 1 Axes>"
      ]
     },
     "metadata": {
      "needs_background": "light"
     },
     "output_type": "display_data"
    }
   ],
   "source": [
    "df[\"region\"].value_counts().head(10).plot(kind=\"bar\")"
   ]
  },
  {
   "cell_type": "code",
   "execution_count": 23,
   "id": "f064bd90-9f73-45ff-9b40-5cdeda32064e",
   "metadata": {},
   "outputs": [
    {
     "name": "stderr",
     "output_type": "stream",
     "text": [
      "C:\\Users\\User\\AppData\\Local\\Temp\\ipykernel_8976\\3772020368.py:1: UserWarning: Boolean Series key will be reindexed to match DataFrame index.\n",
      "  sns.histplot(df[df[\"region\"] == \"Москва\"][df[\"price\"] < df[\"price\"].quantile(q=0.9)][\"price\"]);\n"
     ]
    },
    {
     "data": {
      "image/png": "[encoded data removed]",
      "text/plain": [
       "<Figure size 432x288 with 1 Axes>"
      ]
     },
     "metadata": {
      "needs_background": "light"
     },
     "output_type": "display_data"
    }
   ],
   "source": [
    "sns.histplot(df[df[\"region\"] == \"Москва\"][df[\"price\"] < df[\"price\"].quantile(q=0.9)][\"price\"]);"
   ]
  },
  {
   "cell_type": "code",
   "execution_count": 24,
   "id": "65cc05ad-dbbb-488a-ba4e-a273be1760eb",
   "metadata": {},
   "outputs": [
    {
     "name": "stderr",
     "output_type": "stream",
     "text": [
      "C:\\Users\\User\\AppData\\Local\\Temp\\ipykernel_8976\\3278779272.py:1: UserWarning: Boolean Series key will be reindexed to match DataFrame index.\n",
      "  sns.histplot(df[df[\"region\"] == \"Владимирская область\"][df[\"price\"] < df[\"price\"].quantile(q=0.9)][\"price\"]);\n"
     ]
    },
    {
     "data": {
      "image/png": "[encoded data removed]",
      "text/plain": [
       "<Figure size 432x288 with 1 Axes>"
      ]
     },
     "metadata": {
      "needs_background": "light"
     },
     "output_type": "display_data"
    }
   ],
   "source": [
    "sns.histplot(df[df[\"region\"] == \"Владимирская область\"][df[\"price\"] < df[\"price\"].quantile(q=0.9)][\"price\"]);"
   ]
  },
  {
   "cell_type": "code",
   "execution_count": 438,
   "id": "d596835c-ca8f-43c2-b186-b8b3bcab8669",
   "metadata": {},
   "outputs": [
    {
     "data": {
      "text/plain": [
       "60"
      ]
     },
     "execution_count": 438,
     "metadata": {},
     "output_type": "execute_result"
    }
   ],
   "source": [
    "df[\"dept_name\"].nunique()"
   ]
  },
  {
   "cell_type": "code",
   "execution_count": 25,
   "id": "f130ca41-f538-4ff0-8735-c6dc69e45925",
   "metadata": {},
   "outputs": [
    {
     "data": {
      "text/html": [
       "<div>\n",
       "<style scoped>\n",
       "    .dataframe tbody tr th:only-of-type {\n",
       "        vertical-align: middle;\n",
       "    }\n",
       "\n",
       "    .dataframe tbody tr th {\n",
       "        vertical-align: top;\n",
       "    }\n",
       "\n",
       "    .dataframe thead th {\n",
       "        text-align: right;\n",
       "    }\n",
       "</style>\n",
       "<table border=\"1\" class=\"dataframe\">\n",
       "  <thead>\n",
       "    <tr style=\"text-align: right;\">\n",
       "      <th></th>\n",
       "      <th>id</th>\n",
       "      <th>plate</th>\n",
       "      <th>date</th>\n",
       "      <th>price</th>\n",
       "      <th>year</th>\n",
       "      <th>month</th>\n",
       "      <th>day_week</th>\n",
       "      <th>letters</th>\n",
       "      <th>numbers</th>\n",
       "      <th>region</th>\n",
       "      <th>dept_name</th>\n",
       "      <th>forb_buy</th>\n",
       "      <th>adv_road</th>\n",
       "      <th>significance</th>\n",
       "    </tr>\n",
       "  </thead>\n",
       "  <tbody>\n",
       "    <tr>\n",
       "      <th>15708</th>\n",
       "      <td>15709</td>\n",
       "      <td>T113TT04</td>\n",
       "      <td>2023-12-14</td>\n",
       "      <td>500000</td>\n",
       "      <td>2023</td>\n",
       "      <td>december</td>\n",
       "      <td>thursday</td>\n",
       "      <td>TTT</td>\n",
       "      <td>113</td>\n",
       "      <td>Республика Алтай</td>\n",
       "      <td>Редкие блатные номера</td>\n",
       "      <td>0</td>\n",
       "      <td>0</td>\n",
       "      <td>2</td>\n",
       "    </tr>\n",
       "  </tbody>\n",
       "</table>\n",
       "</div>"
      ],
      "text/plain": [
       "          id     plate       date   price  year     month  day_week letters  \\\n",
       "15708  15709  T113TT04 2023-12-14  500000  2023  december  thursday     TTT   \n",
       "\n",
       "      numbers            region              dept_name  forb_buy  adv_road  \\\n",
       "15708     113  Республика Алтай  Редкие блатные номера         0         0   \n",
       "\n",
       "       significance  \n",
       "15708             2  "
      ]
     },
     "execution_count": 25,
     "metadata": {},
     "output_type": "execute_result"
    }
   ],
   "source": [
    "df[df[\"dept_name\"] == \"Редкие блатные номера\"]"
   ]
  },
  {
   "cell_type": "code",
   "execution_count": 26,
   "id": "ee6d9fdc-6aef-47ae-a775-db00231aad7d",
   "metadata": {},
   "outputs": [
    {
     "data": {
      "text/plain": [
       "<AxesSubplot:>"
      ]
     },
     "execution_count": 26,
     "metadata": {},
     "output_type": "execute_result"
    },
    {
     "data": {
      "image/png": "[encoded data removed]",
      "text/plain": [
       "<Figure size 360x1440 with 1 Axes>"
      ]
     },
     "metadata": {
      "needs_background": "light"
     },
     "output_type": "display_data"
    }
   ],
   "source": [
    "fig, ax = plt.subplots(figsize=(5, 20))\n",
    "df[\"dept_name\"].value_counts(sort=True, ascending=True).drop(\"not governmental\").plot(kind=\"barh\")"
   ]
  },
  {
   "cell_type": "code",
   "execution_count": 484,
   "id": "385257bc-9646-45f5-babb-6edb90921a62",
   "metadata": {},
   "outputs": [],
   "source": [
    "df[\"numbers_contribution\"] = df.groupby(\"numbers\")[\"price\"].transform(\"mean\")"
   ]
  },
  {
   "cell_type": "code",
   "execution_count": 485,
   "id": "4c477bbf-df3c-4a55-bd15-a8f735aca119",
   "metadata": {},
   "outputs": [],
   "source": [
    "df[\"letters_contribution\"] = df.groupby(\"letters\")[\"price\"].transform(\"mean\")"
   ]
  },
  {
   "cell_type": "code",
   "execution_count": 486,
   "id": "65d0b4ed-9197-460e-bd0b-b1748e1bb957",
   "metadata": {},
   "outputs": [
    {
     "data": {
      "text/html": [
       "<div>\n",
       "<style scoped>\n",
       "    .dataframe tbody tr th:only-of-type {\n",
       "        vertical-align: middle;\n",
       "    }\n",
       "\n",
       "    .dataframe tbody tr th {\n",
       "        vertical-align: top;\n",
       "    }\n",
       "\n",
       "    .dataframe thead th {\n",
       "        text-align: right;\n",
       "    }\n",
       "</style>\n",
       "<table border=\"1\" class=\"dataframe\">\n",
       "  <thead>\n",
       "    <tr style=\"text-align: right;\">\n",
       "      <th></th>\n",
       "      <th>id</th>\n",
       "      <th>plate</th>\n",
       "      <th>date</th>\n",
       "      <th>price</th>\n",
       "      <th>year</th>\n",
       "      <th>month</th>\n",
       "      <th>day_week</th>\n",
       "      <th>letters</th>\n",
       "      <th>numbers</th>\n",
       "      <th>region</th>\n",
       "      <th>dept_name</th>\n",
       "      <th>forb_buy</th>\n",
       "      <th>adv_road</th>\n",
       "      <th>significance</th>\n",
       "      <th>letters_contribution</th>\n",
       "      <th>numbers_contribution</th>\n",
       "    </tr>\n",
       "  </thead>\n",
       "  <tbody>\n",
       "    <tr>\n",
       "      <th>35000</th>\n",
       "      <td>35001</td>\n",
       "      <td>O293OO77</td>\n",
       "      <td>2023-06-01</td>\n",
       "      <td>760000</td>\n",
       "      <td>2023</td>\n",
       "      <td>june</td>\n",
       "      <td>thursday</td>\n",
       "      <td>OOO</td>\n",
       "      <td>293</td>\n",
       "      <td>Москва</td>\n",
       "      <td>Первоначально предназначалась для ФСБ</td>\n",
       "      <td>0</td>\n",
       "      <td>0</td>\n",
       "      <td>1</td>\n",
       "      <td>1.446238e+06</td>\n",
       "      <td>6.042083e+06</td>\n",
       "    </tr>\n",
       "    <tr>\n",
       "      <th>2479</th>\n",
       "      <td>2480</td>\n",
       "      <td>O293OO161</td>\n",
       "      <td>2024-11-17</td>\n",
       "      <td>400000</td>\n",
       "      <td>2024</td>\n",
       "      <td>november</td>\n",
       "      <td>sunday</td>\n",
       "      <td>OOO</td>\n",
       "      <td>293</td>\n",
       "      <td>Ростовская область</td>\n",
       "      <td>not governmental</td>\n",
       "      <td>0</td>\n",
       "      <td>0</td>\n",
       "      <td>0</td>\n",
       "      <td>1.446238e+06</td>\n",
       "      <td>6.042083e+06</td>\n",
       "    </tr>\n",
       "    <tr>\n",
       "      <th>15790</th>\n",
       "      <td>15791</td>\n",
       "      <td>K293TO797</td>\n",
       "      <td>2024-11-27</td>\n",
       "      <td>70000</td>\n",
       "      <td>2024</td>\n",
       "      <td>november</td>\n",
       "      <td>wednesday</td>\n",
       "      <td>KTO</td>\n",
       "      <td>293</td>\n",
       "      <td>Москва</td>\n",
       "      <td>not governmental</td>\n",
       "      <td>0</td>\n",
       "      <td>0</td>\n",
       "      <td>0</td>\n",
       "      <td>2.010526e+05</td>\n",
       "      <td>6.042083e+06</td>\n",
       "    </tr>\n",
       "    <tr>\n",
       "      <th>26853</th>\n",
       "      <td>26854</td>\n",
       "      <td>M293MK07</td>\n",
       "      <td>2024-10-23</td>\n",
       "      <td>50000</td>\n",
       "      <td>2024</td>\n",
       "      <td>october</td>\n",
       "      <td>wednesday</td>\n",
       "      <td>MMK</td>\n",
       "      <td>293</td>\n",
       "      <td>Кабардино-Балкарская Республика</td>\n",
       "      <td>not governmental</td>\n",
       "      <td>0</td>\n",
       "      <td>0</td>\n",
       "      <td>0</td>\n",
       "      <td>2.080000e+05</td>\n",
       "      <td>6.042083e+06</td>\n",
       "    </tr>\n",
       "    <tr>\n",
       "      <th>39534</th>\n",
       "      <td>39535</td>\n",
       "      <td>X293AM797</td>\n",
       "      <td>2023-01-19</td>\n",
       "      <td>300000</td>\n",
       "      <td>2023</td>\n",
       "      <td>january</td>\n",
       "      <td>thursday</td>\n",
       "      <td>XAM</td>\n",
       "      <td>293</td>\n",
       "      <td>Москва</td>\n",
       "      <td>not governmental</td>\n",
       "      <td>0</td>\n",
       "      <td>0</td>\n",
       "      <td>0</td>\n",
       "      <td>6.816381e+05</td>\n",
       "      <td>6.042083e+06</td>\n",
       "    </tr>\n",
       "    <tr>\n",
       "      <th>6982</th>\n",
       "      <td>6983</td>\n",
       "      <td>X293XX50</td>\n",
       "      <td>2025-01-13</td>\n",
       "      <td>600000</td>\n",
       "      <td>2025</td>\n",
       "      <td>january</td>\n",
       "      <td>monday</td>\n",
       "      <td>XXX</td>\n",
       "      <td>293</td>\n",
       "      <td>Московская область</td>\n",
       "      <td>not governmental</td>\n",
       "      <td>0</td>\n",
       "      <td>0</td>\n",
       "      <td>0</td>\n",
       "      <td>1.199558e+06</td>\n",
       "      <td>6.042083e+06</td>\n",
       "    </tr>\n",
       "    <tr>\n",
       "      <th>47086</th>\n",
       "      <td>47087</td>\n",
       "      <td>Y293TY193</td>\n",
       "      <td>2024-02-10</td>\n",
       "      <td>70000000</td>\n",
       "      <td>2024</td>\n",
       "      <td>february</td>\n",
       "      <td>saturday</td>\n",
       "      <td>YTY</td>\n",
       "      <td>293</td>\n",
       "      <td>Краснодарский край</td>\n",
       "      <td>not governmental</td>\n",
       "      <td>0</td>\n",
       "      <td>0</td>\n",
       "      <td>0</td>\n",
       "      <td>2.109737e+06</td>\n",
       "      <td>6.042083e+06</td>\n",
       "    </tr>\n",
       "    <tr>\n",
       "      <th>43496</th>\n",
       "      <td>43497</td>\n",
       "      <td>M293AA550</td>\n",
       "      <td>2024-12-16</td>\n",
       "      <td>30000</td>\n",
       "      <td>2024</td>\n",
       "      <td>december</td>\n",
       "      <td>monday</td>\n",
       "      <td>MAA</td>\n",
       "      <td>293</td>\n",
       "      <td>Московская область</td>\n",
       "      <td>not governmental</td>\n",
       "      <td>0</td>\n",
       "      <td>0</td>\n",
       "      <td>0</td>\n",
       "      <td>4.048554e+05</td>\n",
       "      <td>6.042083e+06</td>\n",
       "    </tr>\n",
       "    <tr>\n",
       "      <th>14712</th>\n",
       "      <td>14713</td>\n",
       "      <td>M293AX550</td>\n",
       "      <td>2024-09-11</td>\n",
       "      <td>50000</td>\n",
       "      <td>2024</td>\n",
       "      <td>september</td>\n",
       "      <td>wednesday</td>\n",
       "      <td>MAX</td>\n",
       "      <td>293</td>\n",
       "      <td>Московская область</td>\n",
       "      <td>not governmental</td>\n",
       "      <td>0</td>\n",
       "      <td>0</td>\n",
       "      <td>0</td>\n",
       "      <td>2.202483e+05</td>\n",
       "      <td>6.042083e+06</td>\n",
       "    </tr>\n",
       "    <tr>\n",
       "      <th>27981</th>\n",
       "      <td>27982</td>\n",
       "      <td>E293EE178</td>\n",
       "      <td>2024-04-06</td>\n",
       "      <td>100000</td>\n",
       "      <td>2024</td>\n",
       "      <td>april</td>\n",
       "      <td>saturday</td>\n",
       "      <td>EEE</td>\n",
       "      <td>293</td>\n",
       "      <td>Санкт-Петербург</td>\n",
       "      <td>not governmental</td>\n",
       "      <td>0</td>\n",
       "      <td>0</td>\n",
       "      <td>0</td>\n",
       "      <td>1.217008e+06</td>\n",
       "      <td>6.042083e+06</td>\n",
       "    </tr>\n",
       "  </tbody>\n",
       "</table>\n",
       "</div>"
      ],
      "text/plain": [
       "          id      plate       date     price  year      month   day_week  \\\n",
       "35000  35001   O293OO77 2023-06-01    760000  2023       june   thursday   \n",
       "2479    2480  O293OO161 2024-11-17    400000  2024   november     sunday   \n",
       "15790  15791  K293TO797 2024-11-27     70000  2024   november  wednesday   \n",
       "26853  26854   M293MK07 2024-10-23     50000  2024    october  wednesday   \n",
       "39534  39535  X293AM797 2023-01-19    300000  2023    january   thursday   \n",
       "6982    6983   X293XX50 2025-01-13    600000  2025    january     monday   \n",
       "47086  47087  Y293TY193 2024-02-10  70000000  2024   february   saturday   \n",
       "43496  43497  M293AA550 2024-12-16     30000  2024   december     monday   \n",
       "14712  14713  M293AX550 2024-09-11     50000  2024  september  wednesday   \n",
       "27981  27982  E293EE178 2024-04-06    100000  2024      april   saturday   \n",
       "\n",
       "      letters numbers                           region  \\\n",
       "35000     OOO     293                           Москва   \n",
       "2479      OOO     293               Ростовская область   \n",
       "15790     KTO     293                           Москва   \n",
       "26853     MMK     293  Кабардино-Балкарская Республика   \n",
       "39534     XAM     293                           Москва   \n",
       "6982      XXX     293               Московская область   \n",
       "47086     YTY     293               Краснодарский край   \n",
       "43496     MAA     293               Московская область   \n",
       "14712     MAX     293               Московская область   \n",
       "27981     EEE     293                  Санкт-Петербург   \n",
       "\n",
       "                                   dept_name  forb_buy  adv_road  \\\n",
       "35000  Первоначально предназначалась для ФСБ         0         0   \n",
       "2479                        not governmental         0         0   \n",
       "15790                       not governmental         0         0   \n",
       "26853                       not governmental         0         0   \n",
       "39534                       not governmental         0         0   \n",
       "6982                        not governmental         0         0   \n",
       "47086                       not governmental         0         0   \n",
       "43496                       not governmental         0         0   \n",
       "14712                       not governmental         0         0   \n",
       "27981                       not governmental         0         0   \n",
       "\n",
       "       significance  letters_contribution  numbers_contribution  \n",
       "35000             1          1.446238e+06          6.042083e+06  \n",
       "2479              0          1.446238e+06          6.042083e+06  \n",
       "15790             0          2.010526e+05          6.042083e+06  \n",
       "26853             0          2.080000e+05          6.042083e+06  \n",
       "39534             0          6.816381e+05          6.042083e+06  \n",
       "6982              0          1.199558e+06          6.042083e+06  \n",
       "47086             0          2.109737e+06          6.042083e+06  \n",
       "43496             0          4.048554e+05          6.042083e+06  \n",
       "14712             0          2.202483e+05          6.042083e+06  \n",
       "27981             0          1.217008e+06          6.042083e+06  "
      ]
     },
     "execution_count": 486,
     "metadata": {},
     "output_type": "execute_result"
    }
   ],
   "source": [
    "df.sort_values(\"numbers_contribution\", ascending=False).head(10)"
   ]
  },
  {
   "cell_type": "code",
   "execution_count": 487,
   "id": "619f40fc-db12-4358-a7b8-fcdd63ce4afb",
   "metadata": {},
   "outputs": [
    {
     "data": {
      "text/html": [
       "<div>\n",
       "<style scoped>\n",
       "    .dataframe tbody tr th:only-of-type {\n",
       "        vertical-align: middle;\n",
       "    }\n",
       "\n",
       "    .dataframe tbody tr th {\n",
       "        vertical-align: top;\n",
       "    }\n",
       "\n",
       "    .dataframe thead th {\n",
       "        text-align: right;\n",
       "    }\n",
       "</style>\n",
       "<table border=\"1\" class=\"dataframe\">\n",
       "  <thead>\n",
       "    <tr style=\"text-align: right;\">\n",
       "      <th></th>\n",
       "      <th>id</th>\n",
       "      <th>plate</th>\n",
       "      <th>date</th>\n",
       "      <th>price</th>\n",
       "      <th>year</th>\n",
       "      <th>month</th>\n",
       "      <th>day_week</th>\n",
       "      <th>letters</th>\n",
       "      <th>numbers</th>\n",
       "      <th>region</th>\n",
       "      <th>dept_name</th>\n",
       "      <th>forb_buy</th>\n",
       "      <th>adv_road</th>\n",
       "      <th>significance</th>\n",
       "      <th>letters_contribution</th>\n",
       "      <th>numbers_contribution</th>\n",
       "    </tr>\n",
       "  </thead>\n",
       "  <tbody>\n",
       "    <tr>\n",
       "      <th>15135</th>\n",
       "      <td>15136</td>\n",
       "      <td>A505YX70</td>\n",
       "      <td>2024-02-19 00:00:00</td>\n",
       "      <td>70000</td>\n",
       "      <td>2024</td>\n",
       "      <td>february</td>\n",
       "      <td>monday</td>\n",
       "      <td>AYX</td>\n",
       "      <td>505</td>\n",
       "      <td>Томская область</td>\n",
       "      <td>not governmental</td>\n",
       "      <td>0</td>\n",
       "      <td>0</td>\n",
       "      <td>0</td>\n",
       "      <td>4781250.0</td>\n",
       "      <td>2.128128e+05</td>\n",
       "    </tr>\n",
       "    <tr>\n",
       "      <th>15416</th>\n",
       "      <td>15417</td>\n",
       "      <td>A097YX197</td>\n",
       "      <td>2023-08-29 00:00:00</td>\n",
       "      <td>100000</td>\n",
       "      <td>2023</td>\n",
       "      <td>august</td>\n",
       "      <td>tuesday</td>\n",
       "      <td>AYX</td>\n",
       "      <td>097</td>\n",
       "      <td>Москва</td>\n",
       "      <td>not governmental</td>\n",
       "      <td>0</td>\n",
       "      <td>0</td>\n",
       "      <td>0</td>\n",
       "      <td>4781250.0</td>\n",
       "      <td>3.581879e+05</td>\n",
       "    </tr>\n",
       "    <tr>\n",
       "      <th>16926</th>\n",
       "      <td>16927</td>\n",
       "      <td>A123YX199</td>\n",
       "      <td>2024-02-04 14:05:09</td>\n",
       "      <td>55000</td>\n",
       "      <td>2024</td>\n",
       "      <td>february</td>\n",
       "      <td>sunday</td>\n",
       "      <td>AYX</td>\n",
       "      <td>123</td>\n",
       "      <td>Москва</td>\n",
       "      <td>not governmental</td>\n",
       "      <td>0</td>\n",
       "      <td>0</td>\n",
       "      <td>0</td>\n",
       "      <td>4781250.0</td>\n",
       "      <td>2.365257e+05</td>\n",
       "    </tr>\n",
       "    <tr>\n",
       "      <th>14336</th>\n",
       "      <td>14337</td>\n",
       "      <td>A777YX77</td>\n",
       "      <td>2024-10-06 22:06:08</td>\n",
       "      <td>4900000</td>\n",
       "      <td>2024</td>\n",
       "      <td>october</td>\n",
       "      <td>sunday</td>\n",
       "      <td>AYX</td>\n",
       "      <td>777</td>\n",
       "      <td>Москва</td>\n",
       "      <td>not governmental</td>\n",
       "      <td>0</td>\n",
       "      <td>0</td>\n",
       "      <td>0</td>\n",
       "      <td>4781250.0</td>\n",
       "      <td>1.983003e+06</td>\n",
       "    </tr>\n",
       "    <tr>\n",
       "      <th>19828</th>\n",
       "      <td>19829</td>\n",
       "      <td>A303YX124</td>\n",
       "      <td>2024-06-06 00:00:00</td>\n",
       "      <td>90000</td>\n",
       "      <td>2024</td>\n",
       "      <td>june</td>\n",
       "      <td>thursday</td>\n",
       "      <td>AYX</td>\n",
       "      <td>303</td>\n",
       "      <td>Красноярский край</td>\n",
       "      <td>not governmental</td>\n",
       "      <td>0</td>\n",
       "      <td>0</td>\n",
       "      <td>0</td>\n",
       "      <td>4781250.0</td>\n",
       "      <td>2.203468e+05</td>\n",
       "    </tr>\n",
       "    <tr>\n",
       "      <th>14337</th>\n",
       "      <td>14338</td>\n",
       "      <td>A777YX77</td>\n",
       "      <td>2024-10-11 18:59:39</td>\n",
       "      <td>5000000</td>\n",
       "      <td>2024</td>\n",
       "      <td>october</td>\n",
       "      <td>friday</td>\n",
       "      <td>AYX</td>\n",
       "      <td>777</td>\n",
       "      <td>Москва</td>\n",
       "      <td>not governmental</td>\n",
       "      <td>0</td>\n",
       "      <td>0</td>\n",
       "      <td>0</td>\n",
       "      <td>4781250.0</td>\n",
       "      <td>1.983003e+06</td>\n",
       "    </tr>\n",
       "    <tr>\n",
       "      <th>21436</th>\n",
       "      <td>21437</td>\n",
       "      <td>A061YX797</td>\n",
       "      <td>2025-02-04 00:00:00</td>\n",
       "      <td>125000</td>\n",
       "      <td>2025</td>\n",
       "      <td>february</td>\n",
       "      <td>tuesday</td>\n",
       "      <td>AYX</td>\n",
       "      <td>061</td>\n",
       "      <td>Москва</td>\n",
       "      <td>not governmental</td>\n",
       "      <td>0</td>\n",
       "      <td>0</td>\n",
       "      <td>0</td>\n",
       "      <td>4781250.0</td>\n",
       "      <td>2.223889e+05</td>\n",
       "    </tr>\n",
       "    <tr>\n",
       "      <th>37276</th>\n",
       "      <td>37277</td>\n",
       "      <td>A878YX22</td>\n",
       "      <td>2024-07-01 00:00:00</td>\n",
       "      <td>50000</td>\n",
       "      <td>2024</td>\n",
       "      <td>july</td>\n",
       "      <td>monday</td>\n",
       "      <td>AYX</td>\n",
       "      <td>878</td>\n",
       "      <td>Алтайский край</td>\n",
       "      <td>not governmental</td>\n",
       "      <td>0</td>\n",
       "      <td>0</td>\n",
       "      <td>0</td>\n",
       "      <td>4781250.0</td>\n",
       "      <td>2.434587e+05</td>\n",
       "    </tr>\n",
       "    <tr>\n",
       "      <th>37679</th>\n",
       "      <td>37680</td>\n",
       "      <td>A136YX797</td>\n",
       "      <td>2025-01-02 00:00:00</td>\n",
       "      <td>60000</td>\n",
       "      <td>2025</td>\n",
       "      <td>january</td>\n",
       "      <td>thursday</td>\n",
       "      <td>AYX</td>\n",
       "      <td>136</td>\n",
       "      <td>Москва</td>\n",
       "      <td>not governmental</td>\n",
       "      <td>0</td>\n",
       "      <td>0</td>\n",
       "      <td>0</td>\n",
       "      <td>4781250.0</td>\n",
       "      <td>1.000000e+05</td>\n",
       "    </tr>\n",
       "    <tr>\n",
       "      <th>14334</th>\n",
       "      <td>14335</td>\n",
       "      <td>A777YX77</td>\n",
       "      <td>2024-06-12 13:30:08</td>\n",
       "      <td>55000000</td>\n",
       "      <td>2024</td>\n",
       "      <td>june</td>\n",
       "      <td>wednesday</td>\n",
       "      <td>AYX</td>\n",
       "      <td>777</td>\n",
       "      <td>Москва</td>\n",
       "      <td>not governmental</td>\n",
       "      <td>0</td>\n",
       "      <td>0</td>\n",
       "      <td>0</td>\n",
       "      <td>4781250.0</td>\n",
       "      <td>1.983003e+06</td>\n",
       "    </tr>\n",
       "  </tbody>\n",
       "</table>\n",
       "</div>"
      ],
      "text/plain": [
       "          id      plate                date     price  year     month  \\\n",
       "15135  15136   A505YX70 2024-02-19 00:00:00     70000  2024  february   \n",
       "15416  15417  A097YX197 2023-08-29 00:00:00    100000  2023    august   \n",
       "16926  16927  A123YX199 2024-02-04 14:05:09     55000  2024  february   \n",
       "14336  14337   A777YX77 2024-10-06 22:06:08   4900000  2024   october   \n",
       "19828  19829  A303YX124 2024-06-06 00:00:00     90000  2024      june   \n",
       "14337  14338   A777YX77 2024-10-11 18:59:39   5000000  2024   october   \n",
       "21436  21437  A061YX797 2025-02-04 00:00:00    125000  2025  february   \n",
       "37276  37277   A878YX22 2024-07-01 00:00:00     50000  2024      july   \n",
       "37679  37680  A136YX797 2025-01-02 00:00:00     60000  2025   january   \n",
       "14334  14335   A777YX77 2024-06-12 13:30:08  55000000  2024      june   \n",
       "\n",
       "        day_week letters numbers             region         dept_name  \\\n",
       "15135     monday     AYX     505    Томская область  not governmental   \n",
       "15416    tuesday     AYX     097             Москва  not governmental   \n",
       "16926     sunday     AYX     123             Москва  not governmental   \n",
       "14336     sunday     AYX     777             Москва  not governmental   \n",
       "19828   thursday     AYX     303  Красноярский край  not governmental   \n",
       "14337     friday     AYX     777             Москва  not governmental   \n",
       "21436    tuesday     AYX     061             Москва  not governmental   \n",
       "37276     monday     AYX     878     Алтайский край  not governmental   \n",
       "37679   thursday     AYX     136             Москва  not governmental   \n",
       "14334  wednesday     AYX     777             Москва  not governmental   \n",
       "\n",
       "       forb_buy  adv_road  significance  letters_contribution  \\\n",
       "15135         0         0             0             4781250.0   \n",
       "15416         0         0             0             4781250.0   \n",
       "16926         0         0             0             4781250.0   \n",
       "14336         0         0             0             4781250.0   \n",
       "19828         0         0             0             4781250.0   \n",
       "14337         0         0             0             4781250.0   \n",
       "21436         0         0             0             4781250.0   \n",
       "37276         0         0             0             4781250.0   \n",
       "37679         0         0             0             4781250.0   \n",
       "14334         0         0             0             4781250.0   \n",
       "\n",
       "       numbers_contribution  \n",
       "15135          2.128128e+05  \n",
       "15416          3.581879e+05  \n",
       "16926          2.365257e+05  \n",
       "14336          1.983003e+06  \n",
       "19828          2.203468e+05  \n",
       "14337          1.983003e+06  \n",
       "21436          2.223889e+05  \n",
       "37276          2.434587e+05  \n",
       "37679          1.000000e+05  \n",
       "14334          1.983003e+06  "
      ]
     },
     "execution_count": 487,
     "metadata": {},
     "output_type": "execute_result"
    }
   ],
   "source": [
    "df.sort_values(\"letters_contribution\", ascending=False).head(10)"
   ]
  },
  {
   "cell_type": "code",
   "execution_count": 27,
   "id": "4a34d40b-1d3f-42fe-b25a-75f5c812bb7e",
   "metadata": {},
   "outputs": [
    {
     "data": {
      "text/plain": [
       "88"
      ]
     },
     "execution_count": 27,
     "metadata": {},
     "output_type": "execute_result"
    }
   ],
   "source": [
    "df[\"region\"].nunique()"
   ]
  },
  {
   "cell_type": "code",
   "execution_count": 488,
   "id": "ce5e0b13-e8d5-4789-b3b8-d61399e1790e",
   "metadata": {},
   "outputs": [
    {
     "data": {
      "text/html": [
       "<div>\n",
       "<style scoped>\n",
       "    .dataframe tbody tr th:only-of-type {\n",
       "        vertical-align: middle;\n",
       "    }\n",
       "\n",
       "    .dataframe tbody tr th {\n",
       "        vertical-align: top;\n",
       "    }\n",
       "\n",
       "    .dataframe thead th {\n",
       "        text-align: right;\n",
       "    }\n",
       "</style>\n",
       "<table border=\"1\" class=\"dataframe\">\n",
       "  <thead>\n",
       "    <tr style=\"text-align: right;\">\n",
       "      <th></th>\n",
       "      <th>id</th>\n",
       "      <th>plate</th>\n",
       "      <th>date</th>\n",
       "      <th>price</th>\n",
       "      <th>year</th>\n",
       "      <th>month</th>\n",
       "      <th>day_week</th>\n",
       "      <th>letters</th>\n",
       "      <th>numbers</th>\n",
       "      <th>region</th>\n",
       "      <th>dept_name</th>\n",
       "      <th>forb_buy</th>\n",
       "      <th>adv_road</th>\n",
       "      <th>significance</th>\n",
       "      <th>letters_contribution</th>\n",
       "      <th>numbers_contribution</th>\n",
       "    </tr>\n",
       "  </thead>\n",
       "  <tbody>\n",
       "    <tr>\n",
       "      <th>0</th>\n",
       "      <td>1</td>\n",
       "      <td>X059CP797</td>\n",
       "      <td>2024-12-26 00:00:00</td>\n",
       "      <td>65000</td>\n",
       "      <td>2024</td>\n",
       "      <td>december</td>\n",
       "      <td>thursday</td>\n",
       "      <td>XCP</td>\n",
       "      <td>059</td>\n",
       "      <td>Москва</td>\n",
       "      <td>not governmental</td>\n",
       "      <td>0</td>\n",
       "      <td>0</td>\n",
       "      <td>0</td>\n",
       "      <td>100862.068966</td>\n",
       "      <td>2.011282e+05</td>\n",
       "    </tr>\n",
       "    <tr>\n",
       "      <th>1</th>\n",
       "      <td>2</td>\n",
       "      <td>Y800MH790</td>\n",
       "      <td>2024-07-12 21:31:37</td>\n",
       "      <td>100000</td>\n",
       "      <td>2024</td>\n",
       "      <td>july</td>\n",
       "      <td>friday</td>\n",
       "      <td>YMH</td>\n",
       "      <td>800</td>\n",
       "      <td>Московская область</td>\n",
       "      <td>not governmental</td>\n",
       "      <td>0</td>\n",
       "      <td>0</td>\n",
       "      <td>0</td>\n",
       "      <td>215833.333333</td>\n",
       "      <td>2.758224e+05</td>\n",
       "    </tr>\n",
       "    <tr>\n",
       "      <th>2</th>\n",
       "      <td>3</td>\n",
       "      <td>A212TX77</td>\n",
       "      <td>2024-04-18 00:00:00</td>\n",
       "      <td>290000</td>\n",
       "      <td>2024</td>\n",
       "      <td>april</td>\n",
       "      <td>thursday</td>\n",
       "      <td>ATX</td>\n",
       "      <td>212</td>\n",
       "      <td>Москва</td>\n",
       "      <td>not governmental</td>\n",
       "      <td>0</td>\n",
       "      <td>0</td>\n",
       "      <td>0</td>\n",
       "      <td>153750.000000</td>\n",
       "      <td>1.656038e+05</td>\n",
       "    </tr>\n",
       "    <tr>\n",
       "      <th>3</th>\n",
       "      <td>4</td>\n",
       "      <td>P001AY199</td>\n",
       "      <td>2025-01-03 00:27:15</td>\n",
       "      <td>680000</td>\n",
       "      <td>2025</td>\n",
       "      <td>january</td>\n",
       "      <td>friday</td>\n",
       "      <td>PAY</td>\n",
       "      <td>001</td>\n",
       "      <td>Москва</td>\n",
       "      <td>not governmental</td>\n",
       "      <td>0</td>\n",
       "      <td>0</td>\n",
       "      <td>0</td>\n",
       "      <td>216315.789474</td>\n",
       "      <td>1.402181e+06</td>\n",
       "    </tr>\n",
       "    <tr>\n",
       "      <th>4</th>\n",
       "      <td>5</td>\n",
       "      <td>P001AY199</td>\n",
       "      <td>2025-01-10 09:32:41</td>\n",
       "      <td>750000</td>\n",
       "      <td>2025</td>\n",
       "      <td>january</td>\n",
       "      <td>friday</td>\n",
       "      <td>PAY</td>\n",
       "      <td>001</td>\n",
       "      <td>Москва</td>\n",
       "      <td>not governmental</td>\n",
       "      <td>0</td>\n",
       "      <td>0</td>\n",
       "      <td>0</td>\n",
       "      <td>216315.789474</td>\n",
       "      <td>1.402181e+06</td>\n",
       "    </tr>\n",
       "    <tr>\n",
       "      <th>...</th>\n",
       "      <td>...</td>\n",
       "      <td>...</td>\n",
       "      <td>...</td>\n",
       "      <td>...</td>\n",
       "      <td>...</td>\n",
       "      <td>...</td>\n",
       "      <td>...</td>\n",
       "      <td>...</td>\n",
       "      <td>...</td>\n",
       "      <td>...</td>\n",
       "      <td>...</td>\n",
       "      <td>...</td>\n",
       "      <td>...</td>\n",
       "      <td>...</td>\n",
       "      <td>...</td>\n",
       "      <td>...</td>\n",
       "    </tr>\n",
       "    <tr>\n",
       "      <th>51630</th>\n",
       "      <td>51631</td>\n",
       "      <td>X023PP797</td>\n",
       "      <td>2025-01-29 00:00:00</td>\n",
       "      <td>70000</td>\n",
       "      <td>2025</td>\n",
       "      <td>january</td>\n",
       "      <td>wednesday</td>\n",
       "      <td>XPP</td>\n",
       "      <td>023</td>\n",
       "      <td>Москва</td>\n",
       "      <td>not governmental</td>\n",
       "      <td>0</td>\n",
       "      <td>0</td>\n",
       "      <td>0</td>\n",
       "      <td>362437.468750</td>\n",
       "      <td>2.550563e+05</td>\n",
       "    </tr>\n",
       "    <tr>\n",
       "      <th>51631</th>\n",
       "      <td>51632</td>\n",
       "      <td>M004KA161</td>\n",
       "      <td>2025-01-31 00:00:00</td>\n",
       "      <td>1600000</td>\n",
       "      <td>2025</td>\n",
       "      <td>january</td>\n",
       "      <td>friday</td>\n",
       "      <td>MKA</td>\n",
       "      <td>004</td>\n",
       "      <td>Ростовская область</td>\n",
       "      <td>not governmental</td>\n",
       "      <td>0</td>\n",
       "      <td>0</td>\n",
       "      <td>0</td>\n",
       "      <td>471516.119816</td>\n",
       "      <td>4.330423e+05</td>\n",
       "    </tr>\n",
       "    <tr>\n",
       "      <th>51632</th>\n",
       "      <td>51633</td>\n",
       "      <td>E888EB199</td>\n",
       "      <td>2025-02-06 00:00:00</td>\n",
       "      <td>850000</td>\n",
       "      <td>2025</td>\n",
       "      <td>february</td>\n",
       "      <td>thursday</td>\n",
       "      <td>EEB</td>\n",
       "      <td>888</td>\n",
       "      <td>Москва</td>\n",
       "      <td>not governmental</td>\n",
       "      <td>0</td>\n",
       "      <td>0</td>\n",
       "      <td>0</td>\n",
       "      <td>187575.454545</td>\n",
       "      <td>9.947875e+05</td>\n",
       "    </tr>\n",
       "    <tr>\n",
       "      <th>51633</th>\n",
       "      <td>51634</td>\n",
       "      <td>X023XK77</td>\n",
       "      <td>2024-04-24 11:30:07</td>\n",
       "      <td>150000</td>\n",
       "      <td>2024</td>\n",
       "      <td>april</td>\n",
       "      <td>wednesday</td>\n",
       "      <td>XXK</td>\n",
       "      <td>023</td>\n",
       "      <td>Москва</td>\n",
       "      <td>not governmental</td>\n",
       "      <td>0</td>\n",
       "      <td>0</td>\n",
       "      <td>0</td>\n",
       "      <td>839615.384615</td>\n",
       "      <td>2.550563e+05</td>\n",
       "    </tr>\n",
       "    <tr>\n",
       "      <th>51634</th>\n",
       "      <td>51635</td>\n",
       "      <td>K450OC797</td>\n",
       "      <td>2023-10-06 00:00:00</td>\n",
       "      <td>25000</td>\n",
       "      <td>2023</td>\n",
       "      <td>october</td>\n",
       "      <td>friday</td>\n",
       "      <td>KOC</td>\n",
       "      <td>450</td>\n",
       "      <td>Москва</td>\n",
       "      <td>not governmental</td>\n",
       "      <td>0</td>\n",
       "      <td>0</td>\n",
       "      <td>0</td>\n",
       "      <td>316666.629630</td>\n",
       "      <td>1.648846e+05</td>\n",
       "    </tr>\n",
       "  </tbody>\n",
       "</table>\n",
       "<p>51635 rows × 16 columns</p>\n",
       "</div>"
      ],
      "text/plain": [
       "          id      plate                date    price  year     month  \\\n",
       "0          1  X059CP797 2024-12-26 00:00:00    65000  2024  december   \n",
       "1          2  Y800MH790 2024-07-12 21:31:37   100000  2024      july   \n",
       "2          3   A212TX77 2024-04-18 00:00:00   290000  2024     april   \n",
       "3          4  P001AY199 2025-01-03 00:27:15   680000  2025   january   \n",
       "4          5  P001AY199 2025-01-10 09:32:41   750000  2025   january   \n",
       "...      ...        ...                 ...      ...   ...       ...   \n",
       "51630  51631  X023PP797 2025-01-29 00:00:00    70000  2025   january   \n",
       "51631  51632  M004KA161 2025-01-31 00:00:00  1600000  2025   january   \n",
       "51632  51633  E888EB199 2025-02-06 00:00:00   850000  2025  february   \n",
       "51633  51634   X023XK77 2024-04-24 11:30:07   150000  2024     april   \n",
       "51634  51635  K450OC797 2023-10-06 00:00:00    25000  2023   october   \n",
       "\n",
       "        day_week letters numbers              region         dept_name  \\\n",
       "0       thursday     XCP     059              Москва  not governmental   \n",
       "1         friday     YMH     800  Московская область  not governmental   \n",
       "2       thursday     ATX     212              Москва  not governmental   \n",
       "3         friday     PAY     001              Москва  not governmental   \n",
       "4         friday     PAY     001              Москва  not governmental   \n",
       "...          ...     ...     ...                 ...               ...   \n",
       "51630  wednesday     XPP     023              Москва  not governmental   \n",
       "51631     friday     MKA     004  Ростовская область  not governmental   \n",
       "51632   thursday     EEB     888              Москва  not governmental   \n",
       "51633  wednesday     XXK     023              Москва  not governmental   \n",
       "51634     friday     KOC     450              Москва  not governmental   \n",
       "\n",
       "       forb_buy  adv_road  significance  letters_contribution  \\\n",
       "0             0         0             0         100862.068966   \n",
       "1             0         0             0         215833.333333   \n",
       "2             0         0             0         153750.000000   \n",
       "3             0         0             0         216315.789474   \n",
       "4             0         0             0         216315.789474   \n",
       "...         ...       ...           ...                   ...   \n",
       "51630         0         0             0         362437.468750   \n",
       "51631         0         0             0         471516.119816   \n",
       "51632         0         0             0         187575.454545   \n",
       "51633         0         0             0         839615.384615   \n",
       "51634         0         0             0         316666.629630   \n",
       "\n",
       "       numbers_contribution  \n",
       "0              2.011282e+05  \n",
       "1              2.758224e+05  \n",
       "2              1.656038e+05  \n",
       "3              1.402181e+06  \n",
       "4              1.402181e+06  \n",
       "...                     ...  \n",
       "51630          2.550563e+05  \n",
       "51631          4.330423e+05  \n",
       "51632          9.947875e+05  \n",
       "51633          2.550563e+05  \n",
       "51634          1.648846e+05  \n",
       "\n",
       "[51635 rows x 16 columns]"
      ]
     },
     "execution_count": 488,
     "metadata": {},
     "output_type": "execute_result"
    }
   ],
   "source": [
    "df"
   ]
  },
  {
   "cell_type": "code",
   "execution_count": 17,
   "id": "83b87a02-9efe-46ca-9d95-e1c7fdc7dc2c",
   "metadata": {},
   "outputs": [],
   "source": [
    "target_enc = [\"letters\", \"numbers\", \"region\"]\n",
    "ohe = [\"year\", \"month\", \"day_week\"]"
   ]
  },
  {
   "cell_type": "code",
   "execution_count": 18,
   "id": "40891311-32bd-4cc4-806a-dfd48b06350b",
   "metadata": {},
   "outputs": [
    {
     "data": {
      "text/html": [
       "<div>\n",
       "<style scoped>\n",
       "    .dataframe tbody tr th:only-of-type {\n",
       "        vertical-align: middle;\n",
       "    }\n",
       "\n",
       "    .dataframe tbody tr th {\n",
       "        vertical-align: top;\n",
       "    }\n",
       "\n",
       "    .dataframe thead th {\n",
       "        text-align: right;\n",
       "    }\n",
       "</style>\n",
       "<table border=\"1\" class=\"dataframe\">\n",
       "  <thead>\n",
       "    <tr style=\"text-align: right;\">\n",
       "      <th></th>\n",
       "      <th>year</th>\n",
       "      <th>month</th>\n",
       "      <th>day_week</th>\n",
       "      <th>letters</th>\n",
       "      <th>numbers</th>\n",
       "      <th>region</th>\n",
       "      <th>forb_buy</th>\n",
       "      <th>adv_road</th>\n",
       "      <th>significance</th>\n",
       "    </tr>\n",
       "  </thead>\n",
       "  <tbody>\n",
       "    <tr>\n",
       "      <th>0</th>\n",
       "      <td>2024</td>\n",
       "      <td>december</td>\n",
       "      <td>thursday</td>\n",
       "      <td>XCP</td>\n",
       "      <td>059</td>\n",
       "      <td>Москва</td>\n",
       "      <td>0</td>\n",
       "      <td>0</td>\n",
       "      <td>0</td>\n",
       "    </tr>\n",
       "    <tr>\n",
       "      <th>1</th>\n",
       "      <td>2024</td>\n",
       "      <td>july</td>\n",
       "      <td>friday</td>\n",
       "      <td>YMH</td>\n",
       "      <td>800</td>\n",
       "      <td>Московская область</td>\n",
       "      <td>0</td>\n",
       "      <td>0</td>\n",
       "      <td>0</td>\n",
       "    </tr>\n",
       "    <tr>\n",
       "      <th>2</th>\n",
       "      <td>2024</td>\n",
       "      <td>april</td>\n",
       "      <td>thursday</td>\n",
       "      <td>ATX</td>\n",
       "      <td>212</td>\n",
       "      <td>Москва</td>\n",
       "      <td>0</td>\n",
       "      <td>0</td>\n",
       "      <td>0</td>\n",
       "    </tr>\n",
       "    <tr>\n",
       "      <th>3</th>\n",
       "      <td>2025</td>\n",
       "      <td>january</td>\n",
       "      <td>friday</td>\n",
       "      <td>PAY</td>\n",
       "      <td>001</td>\n",
       "      <td>Москва</td>\n",
       "      <td>0</td>\n",
       "      <td>0</td>\n",
       "      <td>0</td>\n",
       "    </tr>\n",
       "    <tr>\n",
       "      <th>4</th>\n",
       "      <td>2025</td>\n",
       "      <td>january</td>\n",
       "      <td>friday</td>\n",
       "      <td>PAY</td>\n",
       "      <td>001</td>\n",
       "      <td>Москва</td>\n",
       "      <td>0</td>\n",
       "      <td>0</td>\n",
       "      <td>0</td>\n",
       "    </tr>\n",
       "    <tr>\n",
       "      <th>...</th>\n",
       "      <td>...</td>\n",
       "      <td>...</td>\n",
       "      <td>...</td>\n",
       "      <td>...</td>\n",
       "      <td>...</td>\n",
       "      <td>...</td>\n",
       "      <td>...</td>\n",
       "      <td>...</td>\n",
       "      <td>...</td>\n",
       "    </tr>\n",
       "    <tr>\n",
       "      <th>51630</th>\n",
       "      <td>2025</td>\n",
       "      <td>january</td>\n",
       "      <td>wednesday</td>\n",
       "      <td>XPP</td>\n",
       "      <td>023</td>\n",
       "      <td>Москва</td>\n",
       "      <td>0</td>\n",
       "      <td>0</td>\n",
       "      <td>0</td>\n",
       "    </tr>\n",
       "    <tr>\n",
       "      <th>51631</th>\n",
       "      <td>2025</td>\n",
       "      <td>january</td>\n",
       "      <td>friday</td>\n",
       "      <td>MKA</td>\n",
       "      <td>004</td>\n",
       "      <td>Ростовская область</td>\n",
       "      <td>0</td>\n",
       "      <td>0</td>\n",
       "      <td>0</td>\n",
       "    </tr>\n",
       "    <tr>\n",
       "      <th>51632</th>\n",
       "      <td>2025</td>\n",
       "      <td>february</td>\n",
       "      <td>thursday</td>\n",
       "      <td>EEB</td>\n",
       "      <td>888</td>\n",
       "      <td>Москва</td>\n",
       "      <td>0</td>\n",
       "      <td>0</td>\n",
       "      <td>0</td>\n",
       "    </tr>\n",
       "    <tr>\n",
       "      <th>51633</th>\n",
       "      <td>2024</td>\n",
       "      <td>april</td>\n",
       "      <td>wednesday</td>\n",
       "      <td>XXK</td>\n",
       "      <td>023</td>\n",
       "      <td>Москва</td>\n",
       "      <td>0</td>\n",
       "      <td>0</td>\n",
       "      <td>0</td>\n",
       "    </tr>\n",
       "    <tr>\n",
       "      <th>51634</th>\n",
       "      <td>2023</td>\n",
       "      <td>october</td>\n",
       "      <td>friday</td>\n",
       "      <td>KOC</td>\n",
       "      <td>450</td>\n",
       "      <td>Москва</td>\n",
       "      <td>0</td>\n",
       "      <td>0</td>\n",
       "      <td>0</td>\n",
       "    </tr>\n",
       "  </tbody>\n",
       "</table>\n",
       "<p>51635 rows × 9 columns</p>\n",
       "</div>"
      ],
      "text/plain": [
       "       year     month   day_week letters numbers              region  \\\n",
       "0      2024  december   thursday     XCP     059              Москва   \n",
       "1      2024      july     friday     YMH     800  Московская область   \n",
       "2      2024     april   thursday     ATX     212              Москва   \n",
       "3      2025   january     friday     PAY     001              Москва   \n",
       "4      2025   january     friday     PAY     001              Москва   \n",
       "...     ...       ...        ...     ...     ...                 ...   \n",
       "51630  2025   january  wednesday     XPP     023              Москва   \n",
       "51631  2025   january     friday     MKA     004  Ростовская область   \n",
       "51632  2025  february   thursday     EEB     888              Москва   \n",
       "51633  2024     april  wednesday     XXK     023              Москва   \n",
       "51634  2023   october     friday     KOC     450              Москва   \n",
       "\n",
       "       forb_buy  adv_road  significance  \n",
       "0             0         0             0  \n",
       "1             0         0             0  \n",
       "2             0         0             0  \n",
       "3             0         0             0  \n",
       "4             0         0             0  \n",
       "...         ...       ...           ...  \n",
       "51630         0         0             0  \n",
       "51631         0         0             0  \n",
       "51632         0         0             0  \n",
       "51633         0         0             0  \n",
       "51634         0         0             0  \n",
       "\n",
       "[51635 rows x 9 columns]"
      ]
     },
     "execution_count": 18,
     "metadata": {},
     "output_type": "execute_result"
    }
   ],
   "source": [
    "X = df.drop([\"id\", \"plate\", \"date\", \"dept_name\", \"price\"], axis=1)\n",
    "X"
   ]
  },
  {
   "cell_type": "code",
   "execution_count": 20,
   "id": "5bf8abf8-349c-41f3-9628-cc23a54acbf2",
   "metadata": {},
   "outputs": [
    {
     "data": {
      "text/plain": [
       "0          65000\n",
       "1         100000\n",
       "2         290000\n",
       "3         680000\n",
       "4         750000\n",
       "          ...   \n",
       "51630      70000\n",
       "51631    1600000\n",
       "51632     850000\n",
       "51633     150000\n",
       "51634      25000\n",
       "Name: price, Length: 51635, dtype: int64"
      ]
     },
     "execution_count": 20,
     "metadata": {},
     "output_type": "execute_result"
    }
   ],
   "source": [
    "y = df[\"price\"]\n",
    "y"
   ]
  },
  {
   "cell_type": "code",
   "execution_count": 12,
   "id": "e282c1ad-5ca7-4c1f-8cdd-d8abbd4e28ec",
   "metadata": {},
   "outputs": [],
   "source": [
    "from sklearn.preprocessing import StandardScaler, OneHotEncoder\n",
    "from sklearn.base import clone\n",
    "from sklearn.model_selection import GridSearchCV, RandomizedSearchCV, cross_val_score\n",
    "from sklearn.pipeline import Pipeline\n",
    "from sklearn.linear_model import LinearRegression, Ridge\n",
    "from category_encoders import TargetEncoder\n",
    "from sklearn.compose import ColumnTransformer\n",
    "from sklearn.metrics import mean_absolute_percentage_error, mean_absolute_error\n",
    "from sklearn.tree import DecisionTreeRegressor\n",
    "from sklearn.ensemble import RandomForestRegressor, VotingRegressor\n",
    "from catboost import CatBoostRegressor\n",
    "import time"
   ]
  },
  {
   "cell_type": "code",
   "execution_count": 21,
   "id": "2c7a9364-d613-47af-9a90-2d8af692e92b",
   "metadata": {},
   "outputs": [],
   "source": [
    "ct = ColumnTransformer(transformers=\n",
    "    [\n",
    "        (\"tar_en\", TargetEncoder(), target_enc),\n",
    "        (\"ohe\", OneHotEncoder(), ohe)\n",
    "    ],\n",
    "    remainder='passthrough'\n",
    ")\n",
    "X_targeted = ct.fit_transform(X, y=y)\n",
    "X_targeted = pd.DataFrame(X_targeted)"
   ]
  },
  {
   "cell_type": "code",
   "execution_count": 22,
   "id": "928c448b-7de1-4af4-a2b6-0d487ca381ba",
   "metadata": {},
   "outputs": [
    {
     "data": {
      "text/plain": [
       "array(['x0_2021', 'x0_2022', 'x0_2023', 'x0_2024', 'x0_2025', 'x1_april',\n",
       "       'x1_august', 'x1_december', 'x1_february', 'x1_january', 'x1_july',\n",
       "       'x1_june', 'x1_march', 'x1_may', 'x1_november', 'x1_october',\n",
       "       'x1_september', 'x2_friday', 'x2_monday', 'x2_saturday',\n",
       "       'x2_sunday', 'x2_thursday', 'x2_tuesday', 'x2_wednesday'],\n",
       "      dtype=object)"
      ]
     },
     "execution_count": 22,
     "metadata": {},
     "output_type": "execute_result"
    }
   ],
   "source": [
    "ohed = ct.named_transformers_[\"ohe\"].get_feature_names()\n",
    "ohed"
   ]
  },
  {
   "cell_type": "code",
   "execution_count": 23,
   "id": "f5870a1d-f13c-4ff4-9d8e-c7f8f41ccfc8",
   "metadata": {},
   "outputs": [],
   "source": [
    "columns = target_enc + list(ohed) + [\"forb_buy\", \"adv_road\", \"significance\"]\n",
    "X_targeted.columns = columns"
   ]
  },
  {
   "cell_type": "code",
   "execution_count": 16,
   "id": "9eae4446-7cb2-40d3-852e-65e4ffd31faa",
   "metadata": {},
   "outputs": [
    {
     "data": {
      "text/plain": [
       "<AxesSubplot:>"
      ]
     },
     "execution_count": 16,
     "metadata": {},
     "output_type": "execute_result"
    },
    {
     "data": {
      "image/png": "[encoded data removed]",
      "text/plain": [
       "<Figure size 1440x720 with 2 Axes>"
      ]
     },
     "metadata": {
      "needs_background": "light"
     },
     "output_type": "display_data"
    }
   ],
   "source": [
    "fig, ax = plt.subplots(figsize=(20, 10))\n",
    "sns.heatmap(X_targeted.corr(), ax=ax)"
   ]
  },
  {
   "cell_type": "code",
   "execution_count": 36,
   "id": "006fe9ae-45eb-4d59-abfe-4bc2329f5668",
   "metadata": {},
   "outputs": [],
   "source": [
    "linear_regression = Pipeline([\n",
    "    (\"ct\", ct),\n",
    "    (\"ss\", StandardScaler()),\n",
    "    (\"lr\", LinearRegression())\n",
    "])\n"
   ]
  },
  {
   "cell_type": "code",
   "execution_count": 37,
   "id": "5df4dab0-d0c8-4773-9887-81e837075236",
   "metadata": {},
   "outputs": [
    {
     "data": {
      "text/plain": [
       "Pipeline(steps=[('ct',\n",
       "                 ColumnTransformer(remainder='passthrough',\n",
       "                                   transformers=[('tar_en', TargetEncoder(),\n",
       "                                                  ['letters', 'numbers',\n",
       "                                                   'region']),\n",
       "                                                 ('ohe', OneHotEncoder(),\n",
       "                                                  ['year', 'month',\n",
       "                                                   'day_week'])])),\n",
       "                ('ss', StandardScaler()), ('lr', LinearRegression())])"
      ]
     },
     "execution_count": 37,
     "metadata": {},
     "output_type": "execute_result"
    }
   ],
   "source": [
    "linear_regression.fit(X, y)"
   ]
  },
  {
   "cell_type": "code",
   "execution_count": 40,
   "id": "8730a7b3-a4b7-496f-b492-6f5ab29ed61c",
   "metadata": {},
   "outputs": [
    {
     "data": {
      "text/plain": [
       "106.07776030103403"
      ]
     },
     "execution_count": 40,
     "metadata": {},
     "output_type": "execute_result"
    }
   ],
   "source": [
    "smape(linear_regression, X, y)"
   ]
  },
  {
   "cell_type": "code",
   "execution_count": 41,
   "id": "4c7fa519-d95b-4cd9-af59-eebedfe98487",
   "metadata": {},
   "outputs": [],
   "source": [
    "ridge = Pipeline([\n",
    "    (\"ct\", ct),\n",
    "    (\"ss\", StandardScaler()),\n",
    "    (\"ridge\", Ridge(random_state=42))\n",
    "])"
   ]
  },
  {
   "cell_type": "code",
   "execution_count": 42,
   "id": "b3e4a65b-5e66-4f86-8c03-e989fca9fe29",
   "metadata": {},
   "outputs": [],
   "source": [
    "params_ridge = {\n",
    "    \"ridge__alpha\": np.arange(0.001, 0.01, 0.001)\n",
    "}"
   ]
  },
  {
   "cell_type": "code",
   "execution_count": 43,
   "id": "d9b1e6fb-ef84-4988-8457-8eea70c8c6c9",
   "metadata": {},
   "outputs": [
    {
     "name": "stdout",
     "output_type": "stream",
     "text": [
      "Fitting 5 folds for each of 9 candidates, totalling 45 fits\n"
     ]
    },
    {
     "data": {
      "text/plain": [
       "GridSearchCV(cv=5, error_score='raise',\n",
       "             estimator=Pipeline(steps=[('ct',\n",
       "                                        ColumnTransformer(remainder='passthrough',\n",
       "                                                          transformers=[('tar_en',\n",
       "                                                                         TargetEncoder(),\n",
       "                                                                         ['letters',\n",
       "                                                                          'numbers',\n",
       "                                                                          'region']),\n",
       "                                                                        ('ohe',\n",
       "                                                                         OneHotEncoder(),\n",
       "                                                                         ['year',\n",
       "                                                                          'month',\n",
       "                                                                          'day_week'])])),\n",
       "                                       ('ss', StandardScaler()),\n",
       "                                       ('ridge', Ridge(random_state=42))]),\n",
       "             n_jobs=-1,\n",
       "             param_grid={'ridge__alpha': array([0.001, 0.002, 0.003, 0.004, 0.005, 0.006, 0.007, 0.008, 0.009])},\n",
       "             return_train_score=True,\n",
       "             scoring=<function smape at 0x000001C600A308B0>, verbose=1)"
      ]
     },
     "execution_count": 43,
     "metadata": {},
     "output_type": "execute_result"
    }
   ],
   "source": [
    "ridge_grid = GridSearchCV(ridge, param_grid=params_ridge, scoring=smape, cv=5, verbose=1, error_score=\"raise\", return_train_score=True, n_jobs=-1)\n",
    "ridge_grid.fit(X, y)"
   ]
  },
  {
   "cell_type": "code",
   "execution_count": 46,
   "id": "55272a7e-1b5f-4e76-89cc-1ef51154d828",
   "metadata": {},
   "outputs": [
    {
     "data": {
      "text/plain": [
       "106.08364037573223"
      ]
     },
     "execution_count": 46,
     "metadata": {},
     "output_type": "execute_result"
    }
   ],
   "source": [
    "smape(ridge_grid, X, y)"
   ]
  },
  {
   "cell_type": "code",
   "execution_count": 39,
   "id": "b90980d2-3464-42d7-810d-6b55913d0c09",
   "metadata": {},
   "outputs": [],
   "source": [
    "svr_linear = Pipeline([\n",
    "    (\"ct\", ct),\n",
    "    (\"ss\", StandardScaler()),\n",
    "    (\"svr\", SVR(kernel=\"linear\", verbose=True))\n",
    "])\n"
   ]
  },
  {
   "cell_type": "code",
   "execution_count": 199,
   "id": "6a25fd64-e1e8-4981-9aa4-721a1cb4719b",
   "metadata": {},
   "outputs": [
    {
     "name": "stdout",
     "output_type": "stream",
     "text": [
      "[LibSVM]"
     ]
    },
    {
     "data": {
      "text/plain": [
       "Pipeline(steps=[('ct',\n",
       "                 ColumnTransformer(remainder='passthrough',\n",
       "                                   transformers=[('tar_en', TargetEncoder(),\n",
       "                                                  ['letters', 'numbers',\n",
       "                                                   'region']),\n",
       "                                                 ('ohe', OneHotEncoder(),\n",
       "                                                  ['year', 'month',\n",
       "                                                   'day_week'])])),\n",
       "                ('ss', StandardScaler()),\n",
       "                ('svr', SVR(kernel='linear', verbose=True))])"
      ]
     },
     "execution_count": 199,
     "metadata": {},
     "output_type": "execute_result"
    }
   ],
   "source": [
    "svr_linear.fit(X, y)"
   ]
  },
  {
   "cell_type": "code",
   "execution_count": 200,
   "id": "dc43da71-4ff9-4098-bf07-bdef8f8eb0da",
   "metadata": {},
   "outputs": [
    {
     "data": {
      "text/plain": [
       "73.73832206281368"
      ]
     },
     "execution_count": 200,
     "metadata": {},
     "output_type": "execute_result"
    }
   ],
   "source": [
    "smape(svr_linear, X, y)"
   ]
  },
  {
   "cell_type": "code",
   "execution_count": 201,
   "id": "bba43fc4-1dfa-4579-9321-eae04ec58642",
   "metadata": {},
   "outputs": [],
   "source": [
    "dump(svr_linear, \"svr_linear\")"
   ]
  },
  {
   "cell_type": "code",
   "execution_count": 193,
   "id": "608a3c7e-0c5c-4be4-bb8c-42eb9bd1e5e6",
   "metadata": {},
   "outputs": [],
   "source": [
    "svr = Pipeline([\n",
    "    (\"ct\", ct),\n",
    "    (\"ss\", StandardScaler()),\n",
    "    (\"svr\", SVR(verbose=True))\n",
    "])\n"
   ]
  },
  {
   "cell_type": "code",
   "execution_count": 194,
   "id": "2d084c1c-039d-42dd-99ed-9ce34aab084c",
   "metadata": {},
   "outputs": [
    {
     "name": "stdout",
     "output_type": "stream",
     "text": [
      "[LibSVM]"
     ]
    },
    {
     "data": {
      "text/plain": [
       "Pipeline(steps=[('ct',\n",
       "                 ColumnTransformer(remainder='passthrough',\n",
       "                                   transformers=[('tar_en', TargetEncoder(),\n",
       "                                                  ['letters', 'numbers',\n",
       "                                                   'region']),\n",
       "                                                 ('ohe', OneHotEncoder(),\n",
       "                                                  ['year', 'month',\n",
       "                                                   'day_week'])])),\n",
       "                ('ss', StandardScaler()), ('svr', SVR(verbose=True))])"
      ]
     },
     "execution_count": 194,
     "metadata": {},
     "output_type": "execute_result"
    }
   ],
   "source": [
    "svr.fit(X, y)"
   ]
  },
  {
   "cell_type": "code",
   "execution_count": 195,
   "id": "4c380fe1-4b99-4f5b-b39b-aeace2aef055",
   "metadata": {},
   "outputs": [
    {
     "data": {
      "text/plain": [
       "77.91668883800612"
      ]
     },
     "execution_count": 195,
     "metadata": {},
     "output_type": "execute_result"
    }
   ],
   "source": [
    "smape(svr, X, y)"
   ]
  },
  {
   "cell_type": "code",
   "execution_count": 202,
   "id": "7215d5bf-e730-40b5-8464-117add79651f",
   "metadata": {},
   "outputs": [],
   "source": [
    "dump(svr, \"svr\")"
   ]
  },
  {
   "cell_type": "code",
   "execution_count": 88,
   "id": "71feac8f-4863-43a0-a975-5391120faa66",
   "metadata": {},
   "outputs": [],
   "source": [
    "params_svr = {\n",
    "    \"svr__kernel\": [\"linear\", \"poly\", \"rbf\"],\n",
    "    \"svr__C\": np.arange(0.1, 10.1, 0.1),\n",
    "    \"svr__epsilon\": np.arange(0.01, 1.01, 0.01)\n",
    "}"
   ]
  },
  {
   "cell_type": "code",
   "execution_count": 90,
   "id": "6db48aa3-c55a-4feb-a172-ca8d0700beae",
   "metadata": {},
   "outputs": [
    {
     "name": "stdout",
     "output_type": "stream",
     "text": [
      "Fitting 3 folds for each of 60 candidates, totalling 180 fits\n",
      "[LibSVM]"
     ]
    },
    {
     "data": {
      "text/plain": [
       "RandomizedSearchCV(cv=3, error_score='raise',\n",
       "                   estimator=Pipeline(steps=[('ct',\n",
       "                                              ColumnTransformer(remainder='passthrough',\n",
       "                                                                transformers=[('tar_en',\n",
       "                                                                               TargetEncoder(),\n",
       "                                                                               ['letters',\n",
       "                                                                                'numbers',\n",
       "                                                                                'region']),\n",
       "                                                                              ('ohe',\n",
       "                                                                               OneHotEncoder(),\n",
       "                                                                               ['year',\n",
       "                                                                                'month',\n",
       "                                                                                'day_week'])])),\n",
       "                                             ('ss', StandardScaler()),\n",
       "                                             ('svr', SVR(verbose=True))]),\n",
       "                   n_iter=60, n_jobs=-1,\n",
       "                   param_distributions={'svr__C': arr...\n",
       "       0.45, 0.46, 0.47, 0.48, 0.49, 0.5 , 0.51, 0.52, 0.53, 0.54, 0.55,\n",
       "       0.56, 0.57, 0.58, 0.59, 0.6 , 0.61, 0.62, 0.63, 0.64, 0.65, 0.66,\n",
       "       0.67, 0.68, 0.69, 0.7 , 0.71, 0.72, 0.73, 0.74, 0.75, 0.76, 0.77,\n",
       "       0.78, 0.79, 0.8 , 0.81, 0.82, 0.83, 0.84, 0.85, 0.86, 0.87, 0.88,\n",
       "       0.89, 0.9 , 0.91, 0.92, 0.93, 0.94, 0.95, 0.96, 0.97, 0.98, 0.99,\n",
       "       1.  ]),\n",
       "                                        'svr__kernel': ['linear', 'poly',\n",
       "                                                        'rbf']},\n",
       "                   random_state=42,\n",
       "                   scoring=<function smape at 0x000002532906D8B0>, verbose=1)"
      ]
     },
     "execution_count": 90,
     "metadata": {},
     "output_type": "execute_result"
    }
   ],
   "source": [
    "svr_grid = RandomizedSearchCV(svr, param_distributions=params_svr, n_iter=60, cv=3, n_jobs=-1, random_state=42, verbose=1, error_score=\"raise\", scoring=smape)\n",
    "svr_grid.fit(X, y)"
   ]
  },
  {
   "cell_type": "code",
   "execution_count": 91,
   "id": "789f40af-3147-4b71-864a-549e9f5b6dde",
   "metadata": {},
   "outputs": [
    {
     "data": {
      "text/plain": [
       "{'svr__kernel': 'rbf', 'svr__epsilon': 0.87, 'svr__C': 0.30000000000000004}"
      ]
     },
     "execution_count": 91,
     "metadata": {},
     "output_type": "execute_result"
    }
   ],
   "source": [
    "svr_grid.best_params_"
   ]
  },
  {
   "cell_type": "code",
   "execution_count": 92,
   "id": "22b609dc-ffd9-4414-86ae-08b5ffcc80cc",
   "metadata": {},
   "outputs": [
    {
     "data": {
      "text/plain": [
       "78.07041625781821"
      ]
     },
     "execution_count": 92,
     "metadata": {},
     "output_type": "execute_result"
    }
   ],
   "source": [
    "svr_grid.best_score_"
   ]
  },
  {
   "cell_type": "code",
   "execution_count": 170,
   "id": "a0c7cdb5-a76c-41f6-871a-0d5fe426aea9",
   "metadata": {},
   "outputs": [],
   "source": [
    "dc_tree = Pipeline([\n",
    "    (\"ct\", ct),\n",
    "    (\"decision_tree\", DecisionTreeRegressor(random_state=42))\n",
    "])\n"
   ]
  },
  {
   "cell_type": "code",
   "execution_count": 171,
   "id": "3645e128-7352-4eea-90f8-808602420491",
   "metadata": {},
   "outputs": [
    {
     "data": {
      "text/plain": [
       "Pipeline(steps=[('ct',\n",
       "                 ColumnTransformer(remainder='passthrough',\n",
       "                                   transformers=[('tar_en', TargetEncoder(),\n",
       "                                                  ['letters', 'numbers',\n",
       "                                                   'region']),\n",
       "                                                 ('ohe', OneHotEncoder(),\n",
       "                                                  ['year', 'month',\n",
       "                                                   'day_week'])])),\n",
       "                ('decision_tree',\n",
       "                 DecisionTreeRegressor(max_depth=4, random_state=42))])"
      ]
     },
     "execution_count": 171,
     "metadata": {},
     "output_type": "execute_result"
    }
   ],
   "source": [
    "dc_tree.fit(X, y)"
   ]
  },
  {
   "cell_type": "code",
   "execution_count": 172,
   "id": "d802910a-fd96-4d71-9b2d-a5f5421e1f28",
   "metadata": {},
   "outputs": [
    {
     "data": {
      "text/plain": [
       "72.39319435755324"
      ]
     },
     "execution_count": 172,
     "metadata": {},
     "output_type": "execute_result"
    }
   ],
   "source": [
    "smape(decision_tree, X, y)"
   ]
  },
  {
   "cell_type": "code",
   "execution_count": 202,
   "id": "4d6b47f0-16d1-4d9f-a619-979131ba5ab0",
   "metadata": {},
   "outputs": [],
   "source": [
    "params_tree = {\n",
    "    \"decision_tree__max_depth\": range(4, 31),\n",
    "    \"decision_tree__min_samples_split\": range(2, 10)\n",
    "}"
   ]
  },
  {
   "cell_type": "code",
   "execution_count": 44,
   "id": "bb28da99-5407-4215-80fd-a4a9bb9c08ba",
   "metadata": {},
   "outputs": [
    {
     "name": "stdout",
     "output_type": "stream",
     "text": [
      "Fitting 5 folds for each of 216 candidates, totalling 1080 fits\n"
     ]
    },
    {
     "data": {
      "text/plain": [
       "GridSearchCV(cv=5, error_score='raise',\n",
       "             estimator=Pipeline(steps=[('ct',\n",
       "                                        ColumnTransformer(remainder='passthrough',\n",
       "                                                          transformers=[('tar_en',\n",
       "                                                                         TargetEncoder(),\n",
       "                                                                         ['letters',\n",
       "                                                                          'numbers',\n",
       "                                                                          'region']),\n",
       "                                                                        ('ohe',\n",
       "                                                                         OneHotEncoder(),\n",
       "                                                                         ['year',\n",
       "                                                                          'month',\n",
       "                                                                          'day_week'])])),\n",
       "                                       ('decision_tree',\n",
       "                                        DecisionTreeRegressor(random_state=42))]),\n",
       "             n_jobs=-1,\n",
       "             param_grid={'decision_tree__max_depth': range(4, 31),\n",
       "                         'decision_tree__min_samples_split': range(2, 10)},\n",
       "             scoring=<function smape at 0x0000014022AB6A60>, verbose=1)"
      ]
     },
     "execution_count": 44,
     "metadata": {},
     "output_type": "execute_result"
    }
   ],
   "source": [
    "decision_tree_grid = GridSearchCV(decision_tree, param_grid=params_tree, cv=5, n_jobs=-1, scoring=smape, error_score=\"raise\", verbose=1)\n",
    "decision_tree_grid.fit(X, y)"
   ]
  },
  {
   "cell_type": "code",
   "execution_count": 45,
   "id": "47da5234-cbc7-4b15-b12b-877a1a739346",
   "metadata": {},
   "outputs": [
    {
     "data": {
      "text/plain": [
       "{'decision_tree__max_depth': 4, 'decision_tree__min_samples_split': 2}"
      ]
     },
     "execution_count": 45,
     "metadata": {},
     "output_type": "execute_result"
    }
   ],
   "source": [
    "decision_tree_grid.best_params_"
   ]
  },
  {
   "cell_type": "code",
   "execution_count": 46,
   "id": "aaf38d9f-f4f8-4c70-87c0-c15475df023c",
   "metadata": {},
   "outputs": [
    {
     "data": {
      "text/plain": [
       "73.10897014936721"
      ]
     },
     "execution_count": 46,
     "metadata": {},
     "output_type": "execute_result"
    }
   ],
   "source": [
    "decision_tree_grid.best_score_"
   ]
  },
  {
   "cell_type": "code",
   "execution_count": 48,
   "id": "a1641104-e805-492f-aa11-5554d5ceaf58",
   "metadata": {},
   "outputs": [],
   "source": [
    "decision_tree = decision_tree_grid.best_estimator_"
   ]
  },
  {
   "cell_type": "code",
   "execution_count": 69,
   "id": "72bd1d9c-09ca-400c-a2d1-90079ba08983",
   "metadata": {},
   "outputs": [],
   "source": [
    "dec_imp = decision_tree_best.named_steps[\"decision_tree\"].feature_importances_"
   ]
  },
  {
   "cell_type": "code",
   "execution_count": 85,
   "id": "528104e4-e992-4064-acc5-ca25fe90733d",
   "metadata": {},
   "outputs": [],
   "source": [
    "dec_imp_sorted = sorted(np.stack((dec_imp, columns), axis=1), key=lambda x: x[0])\n",
    "dec_imp_sorted = pd.DataFrame(dec_imp_sorted)"
   ]
  },
  {
   "cell_type": "code",
   "execution_count": 93,
   "id": "552c6d34-f3ff-4775-a0b8-769c1e29ce25",
   "metadata": {},
   "outputs": [
    {
     "data": {
      "text/plain": [
       "<BarContainer object of 30 artists>"
      ]
     },
     "execution_count": 93,
     "metadata": {},
     "output_type": "execute_result"
    },
    {
     "data": {
      "image/png": "[encoded data removed]",
      "text/plain": [
       "<Figure size 720x360 with 1 Axes>"
      ]
     },
     "metadata": {
      "needs_background": "light"
     },
     "output_type": "display_data"
    }
   ],
   "source": [
    "fig, ax = plt.subplots(figsize=(10, 5))\n",
    "plt.barh(y=dec_imp_sorted[1], width=dec_imp_sorted[0])"
   ]
  },
  {
   "cell_type": "code",
   "execution_count": 184,
   "id": "9f3304ec-0c9a-47b2-b547-34b2689ed12f",
   "metadata": {},
   "outputs": [],
   "source": [
    "import pickle\n",
    "def dump(estimator, name):\n",
    "    with open(f\"{name}.pkl\", \"wb\") as f:\n",
    "        pickle.dump(estimator, f)"
   ]
  },
  {
   "cell_type": "code",
   "execution_count": 186,
   "id": "e8415928-6788-4dad-9859-cacf4c2cf705",
   "metadata": {},
   "outputs": [],
   "source": [
    "def load(name):\n",
    "    with open(f\"{name}.pkl\", \"rb\") as f:\n",
    "        return pickle.load(f)"
   ]
  },
  {
   "cell_type": "code",
   "execution_count": 185,
   "id": "11e7cf75-7bea-4a19-9f13-03eaf903915d",
   "metadata": {},
   "outputs": [],
   "source": [
    "dump(decision_tree, \"decision_tree\")"
   ]
  },
  {
   "cell_type": "code",
   "execution_count": 187,
   "id": "9aa03d0a-e2d3-4b9f-aacc-53529b950ee3",
   "metadata": {},
   "outputs": [],
   "source": [
    "decision_tree = load(\"decision_tree\")"
   ]
  },
  {
   "cell_type": "code",
   "execution_count": 188,
   "id": "c1a72198-5b9d-43af-9fe0-f74b3d045090",
   "metadata": {},
   "outputs": [
    {
     "data": {
      "text/plain": [
       "72.39319435755324"
      ]
     },
     "execution_count": 188,
     "metadata": {},
     "output_type": "execute_result"
    }
   ],
   "source": [
    "smape(decision_tree, X, y)"
   ]
  },
  {
   "cell_type": "code",
   "execution_count": 209,
   "id": "0c9c2b6a-e7e5-45e1-a40b-90ab51c32ef7",
   "metadata": {},
   "outputs": [],
   "source": [
    "rfr = Pipeline([\n",
    "    (\"ct\", ct),\n",
    "    (\"random_forest\", RandomForestRegressor(random_state=42, n_estimators=20))\n",
    "])\n"
   ]
  },
  {
   "cell_type": "code",
   "execution_count": 210,
   "id": "c0f22afa-10e3-40a0-9268-4c125894ac81",
   "metadata": {},
   "outputs": [],
   "source": [
    "params_forest = {\n",
    "    \"random_forest__n_estimators\": range(300, 501, 10),\n",
    "    \"random_forest__max_depth\": [2]\n",
    "}"
   ]
  },
  {
   "cell_type": "code",
   "execution_count": 142,
   "id": "bbedb290-6a7b-4192-830b-c796933e6348",
   "metadata": {},
   "outputs": [
    {
     "data": {
      "text/plain": [
       "26.61905463071348"
      ]
     },
     "execution_count": 142,
     "metadata": {},
     "output_type": "execute_result"
    }
   ],
   "source": [
    "smape(rfr, X, y)"
   ]
  },
  {
   "cell_type": "code",
   "execution_count": 161,
   "id": "aa52c0d6-50ef-44bd-abac-3e52ccfd3c24",
   "metadata": {},
   "outputs": [
    {
     "name": "stdout",
     "output_type": "stream",
     "text": [
      "Fitting 5 folds for each of 21 candidates, totalling 105 fits\n"
     ]
    },
    {
     "data": {
      "text/plain": [
       "GridSearchCV(cv=5, error_score='raise',\n",
       "             estimator=Pipeline(steps=[('ct',\n",
       "                                        ColumnTransformer(remainder='passthrough',\n",
       "                                                          transformers=[('tar_en',\n",
       "                                                                         TargetEncoder(),\n",
       "                                                                         ['letters',\n",
       "                                                                          'numbers',\n",
       "                                                                          'region']),\n",
       "                                                                        ('ohe',\n",
       "                                                                         OneHotEncoder(),\n",
       "                                                                         ['year',\n",
       "                                                                          'month',\n",
       "                                                                          'day_week'])])),\n",
       "                                       ('random_forest',\n",
       "                                        RandomForestRegressor(n_estimators=20,\n",
       "                                                              random_state=42))]),\n",
       "             n_jobs=-1,\n",
       "             param_grid={'random_forest__max_depth': [2],\n",
       "                         'random_forest__n_estimators': range(300, 501, 10)},\n",
       "             scoring=<function smape at 0x0000014022AB6A60>, verbose=2)"
      ]
     },
     "execution_count": 161,
     "metadata": {},
     "output_type": "execute_result"
    }
   ],
   "source": [
    "rfr_grid = GridSearchCV(rfr, param_grid=params_forest, cv=5, n_jobs=-1, scoring=smape, error_score=\"raise\", verbose=2)\n",
    "rfr_grid.fit(X, y)"
   ]
  },
  {
   "cell_type": "code",
   "execution_count": 162,
   "id": "6216fd7b-3e0f-46ab-be9f-b605eff4d45e",
   "metadata": {},
   "outputs": [
    {
     "name": "stdout",
     "output_type": "stream",
     "text": [
      "best params: {'random_forest__max_depth': 2, 'random_forest__n_estimators': 350}\n",
      "best score: 83.57798031792177\n"
     ]
    }
   ],
   "source": [
    "print(f\"best params: {rfr_grid.best_params_}\")\n",
    "print(f\"best score: {rfr_grid.best_score_}\")"
   ]
  },
  {
   "cell_type": "code",
   "execution_count": 139,
   "id": "8db706ff-4fbe-42be-aa0a-b1b6720511f2",
   "metadata": {},
   "outputs": [],
   "source": [
    "random_forest = rfr_grid.best_estimator_"
   ]
  },
  {
   "cell_type": "code",
   "execution_count": 164,
   "id": "5d9adeac-ceb0-4954-ab6a-c791a3601ffd",
   "metadata": {},
   "outputs": [
    {
     "name": "stdout",
     "output_type": "stream",
     "text": [
      "random forest score: 82.74527101822547\n"
     ]
    }
   ],
   "source": [
    "print(f\"random forest score: {smape(random_forest, X, y)}\")"
   ]
  },
  {
   "cell_type": "code",
   "execution_count": 166,
   "id": "ef9902d0-3edd-4230-9897-16d42723a85d",
   "metadata": {},
   "outputs": [],
   "source": [
    "r_imp = random_forest.named_steps[\"random_forest\"].feature_importances_"
   ]
  },
  {
   "cell_type": "code",
   "execution_count": 167,
   "id": "782a03e9-35fd-4348-8317-bcae7f3bfb1f",
   "metadata": {},
   "outputs": [],
   "source": [
    "r_imp_sorted = sorted(np.stack((r_imp, columns), axis=1), key=lambda x: x[0])\n",
    "r_imp_sorted = pd.DataFrame(r_imp_sorted)"
   ]
  },
  {
   "cell_type": "code",
   "execution_count": 168,
   "id": "8ed905d7-0f83-479e-93f1-78796fdc06fd",
   "metadata": {},
   "outputs": [
    {
     "data": {
      "text/plain": [
       "<BarContainer object of 30 artists>"
      ]
     },
     "execution_count": 168,
     "metadata": {},
     "output_type": "execute_result"
    },
    {
     "data": {
      "image/png": "[encoded data removed]",
      "text/plain": [
       "<Figure size 720x360 with 1 Axes>"
      ]
     },
     "metadata": {
      "needs_background": "light"
     },
     "output_type": "display_data"
    }
   ],
   "source": [
    "fig, ax = plt.subplots(figsize=(10, 5))\n",
    "plt.barh(y=r_imp_sorted[1], width=r_imp_sorted[0])"
   ]
  },
  {
   "cell_type": "code",
   "execution_count": 154,
   "id": "d07a6e35-48d8-438c-806b-98e0f987dbc3",
   "metadata": {},
   "outputs": [],
   "source": [
    "dump(random_forest, \"random_forest\")"
   ]
  },
  {
   "cell_type": "code",
   "execution_count": 191,
   "id": "1f3a8a78-0a2d-49b5-9c51-c0cb8be1a400",
   "metadata": {},
   "outputs": [],
   "source": [
    "cbr = Pipeline([\n",
    "    (\"ct\", ct),\n",
    "    (\"cb\", CatBoostRegressor(random_state=42))\n",
    "])"
   ]
  },
  {
   "cell_type": "code",
   "execution_count": 192,
   "id": "d1f757f7-9abc-4316-822f-07a3133b746a",
   "metadata": {},
   "outputs": [],
   "source": [
    "params_cbr = {\n",
    "    \"cb__iterations\": range(100, 1001, 100),\n",
    "    \"cb__learning_rate\": np.arange(0.01, 0.51, 0.01),\n",
    "    \"cb__depth\": range(4, 15),\n",
    "    \"cb__l2_leaf_reg\": range(10)\n",
    "}"
   ]
  },
  {
   "cell_type": "code",
   "execution_count": null,
   "id": "c710fd60-00dd-4811-acd9-4a10af063272",
   "metadata": {},
   "outputs": [],
   "source": [
    "cbr_grid = RandomizedSearchCV(cbr, param_distributions=params_cbr, n_iter=100, cv=4, n_jobs=-1, random_state=42, verbose=1, error_score=\"raise\", scoring=smape)\n",
    "cbr_grid.fit(X, y)"
   ]
  },
  {
   "cell_type": "code",
   "execution_count": 33,
   "id": "4a076874-23cd-4a01-8813-a3e94a8a60e0",
   "metadata": {},
   "outputs": [
    {
     "data": {
      "text/plain": [
       "{'cb__learning_rate': 0.5,\n",
       " 'cb__l2_leaf_reg': 1,\n",
       " 'cb__iterations': 900,\n",
       " 'cb__depth': 11}"
      ]
     },
     "execution_count": 33,
     "metadata": {},
     "output_type": "execute_result"
    }
   ],
   "source": [
    "cbr_grid.best_params_"
   ]
  },
  {
   "cell_type": "markdown",
   "id": "31c5ea85-b961-4aba-8a9c-8cbd70c5d5f2",
   "metadata": {},
   "source": [
    "learning_rate=0.5, l2_leaf_reg=1, iterations=900, depth=11"
   ]
  },
  {
   "cell_type": "code",
   "execution_count": null,
   "id": "28540998-cb87-4c19-bc62-d8c8721effa1",
   "metadata": {},
   "outputs": [],
   "source": [
    "cbr.fit(X, y)"
   ]
  },
  {
   "cell_type": "code",
   "execution_count": 32,
   "id": "b6ddf333-9ee3-4bdf-898b-6a6c1b2f43ee",
   "metadata": {},
   "outputs": [
    {
     "data": {
      "text/plain": [
       "74.34553338443679"
      ]
     },
     "execution_count": 32,
     "metadata": {},
     "output_type": "execute_result"
    }
   ],
   "source": [
    "cbr_grid.best_score_"
   ]
  },
  {
   "cell_type": "code",
   "execution_count": 42,
   "id": "1d35f85a-c84d-4507-a402-84c9e6d50669",
   "metadata": {},
   "outputs": [],
   "source": [
    "dump(cbr, \"cbr\")"
   ]
  },
  {
   "cell_type": "code",
   "execution_count": 31,
   "id": "a18e66f0-c45a-4671-9e22-71497090a0d4",
   "metadata": {},
   "outputs": [
    {
     "data": {
      "text/plain": [
       "36.92447567378538"
      ]
     },
     "execution_count": 31,
     "metadata": {},
     "output_type": "execute_result"
    }
   ],
   "source": [
    "smape(cbr_grid, X, y)"
   ]
  },
  {
   "cell_type": "code",
   "execution_count": 36,
   "id": "ef2527bf-8eb6-4048-bce5-ecb01091bdba",
   "metadata": {},
   "outputs": [],
   "source": [
    "params_cbr_no_preprocessing = {\n",
    "    \"iterations\": range(100, 1001, 100),\n",
    "    \"learning_rate\": np.arange(0.01, 0.51, 0.01),\n",
    "    \"depth\": range(4, 15),\n",
    "    \"l2_leaf_reg\": range(10)\n",
    "}"
   ]
  },
  {
   "cell_type": "code",
   "execution_count": null,
   "id": "ae250681-bbbc-41fb-b3ef-eee6368e309f",
   "metadata": {},
   "outputs": [],
   "source": [
    "cbr_no_preprocessing = CatBoostRegressor(random_state=42, cat_features=target_enc + ohe)\n",
    "cbr_no_preprocessing_grid = RandomizedSearchCV(cbr_no_preprocessing, param_distributions=params_cbr_no_preprocessing, n_iter=100, cv=4, n_jobs=-1, random_state=42, verbose=1, error_score=\"raise\", scoring=smape)\n",
    "cbr_no_preprocessing_grid.fit(X, y)"
   ]
  },
  {
   "cell_type": "code",
   "execution_count": 41,
   "id": "d6e82ad4-b446-4e47-9244-e890bd776ff8",
   "metadata": {},
   "outputs": [],
   "source": [
    "dump(cbr_no_preprocessing_grid, \"cbr_no_preprocessing\")"
   ]
  },
  {
   "cell_type": "code",
   "execution_count": 41,
   "id": "10bc4443-557f-4845-ba36-6433b6f3aef2",
   "metadata": {},
   "outputs": [],
   "source": [
    "svr = load(\"svr\")\n",
    "svr_linear = load(\"svr_linear\")\n",
    "decision_tree = load(\"decision_tree\")\n",
    "random_forest = load(\"random_forest\")\n",
    "cbr_no_preprocessing = load(\"cbr_no_preprocessing\")\n",
    "cbr = load(\"cbr\")"
   ]
  },
  {
   "cell_type": "code",
   "execution_count": 46,
   "id": "697bf311-55ad-4172-aede-40b1d5dd2d7b",
   "metadata": {},
   "outputs": [
    {
     "data": {
      "text/html": [
       "<div>\n",
       "<style scoped>\n",
       "    .dataframe tbody tr th:only-of-type {\n",
       "        vertical-align: middle;\n",
       "    }\n",
       "\n",
       "    .dataframe tbody tr th {\n",
       "        vertical-align: top;\n",
       "    }\n",
       "\n",
       "    .dataframe thead th {\n",
       "        text-align: right;\n",
       "    }\n",
       "</style>\n",
       "<table border=\"1\" class=\"dataframe\">\n",
       "  <thead>\n",
       "    <tr style=\"text-align: right;\">\n",
       "      <th></th>\n",
       "      <th>id</th>\n",
       "      <th>plate</th>\n",
       "      <th>date</th>\n",
       "      <th>price</th>\n",
       "      <th>year</th>\n",
       "      <th>month</th>\n",
       "      <th>day_week</th>\n",
       "      <th>letters</th>\n",
       "      <th>numbers</th>\n",
       "      <th>region</th>\n",
       "      <th>dept_name</th>\n",
       "      <th>forb_buy</th>\n",
       "      <th>adv_road</th>\n",
       "      <th>significance</th>\n",
       "    </tr>\n",
       "  </thead>\n",
       "  <tbody>\n",
       "    <tr>\n",
       "      <th>0</th>\n",
       "      <td>51636</td>\n",
       "      <td>P700TT790</td>\n",
       "      <td>2025-01-27 00:00:00</td>\n",
       "      <td>NaN</td>\n",
       "      <td>2025</td>\n",
       "      <td>january</td>\n",
       "      <td>monday</td>\n",
       "      <td>PTT</td>\n",
       "      <td>700</td>\n",
       "      <td>Московская область</td>\n",
       "      <td>not governmental</td>\n",
       "      <td>0</td>\n",
       "      <td>0</td>\n",
       "      <td>0</td>\n",
       "    </tr>\n",
       "    <tr>\n",
       "      <th>1</th>\n",
       "      <td>51637</td>\n",
       "      <td>M081TX797</td>\n",
       "      <td>2025-02-10 00:00:00</td>\n",
       "      <td>NaN</td>\n",
       "      <td>2025</td>\n",
       "      <td>february</td>\n",
       "      <td>monday</td>\n",
       "      <td>MTX</td>\n",
       "      <td>081</td>\n",
       "      <td>Москва</td>\n",
       "      <td>not governmental</td>\n",
       "      <td>0</td>\n",
       "      <td>0</td>\n",
       "      <td>0</td>\n",
       "    </tr>\n",
       "    <tr>\n",
       "      <th>2</th>\n",
       "      <td>51638</td>\n",
       "      <td>T333HX777</td>\n",
       "      <td>2025-02-11 00:00:00</td>\n",
       "      <td>NaN</td>\n",
       "      <td>2025</td>\n",
       "      <td>february</td>\n",
       "      <td>tuesday</td>\n",
       "      <td>THX</td>\n",
       "      <td>333</td>\n",
       "      <td>Москва</td>\n",
       "      <td>not governmental</td>\n",
       "      <td>0</td>\n",
       "      <td>0</td>\n",
       "      <td>0</td>\n",
       "    </tr>\n",
       "    <tr>\n",
       "      <th>3</th>\n",
       "      <td>51639</td>\n",
       "      <td>H744BH977</td>\n",
       "      <td>2025-02-03 00:00:00</td>\n",
       "      <td>NaN</td>\n",
       "      <td>2025</td>\n",
       "      <td>february</td>\n",
       "      <td>monday</td>\n",
       "      <td>HBH</td>\n",
       "      <td>744</td>\n",
       "      <td>Москва</td>\n",
       "      <td>not governmental</td>\n",
       "      <td>0</td>\n",
       "      <td>0</td>\n",
       "      <td>0</td>\n",
       "    </tr>\n",
       "    <tr>\n",
       "      <th>4</th>\n",
       "      <td>51640</td>\n",
       "      <td>X066EM777</td>\n",
       "      <td>2025-02-12 00:00:00</td>\n",
       "      <td>NaN</td>\n",
       "      <td>2025</td>\n",
       "      <td>february</td>\n",
       "      <td>wednesday</td>\n",
       "      <td>XEM</td>\n",
       "      <td>066</td>\n",
       "      <td>Москва</td>\n",
       "      <td>not governmental</td>\n",
       "      <td>0</td>\n",
       "      <td>0</td>\n",
       "      <td>0</td>\n",
       "    </tr>\n",
       "    <tr>\n",
       "      <th>...</th>\n",
       "      <td>...</td>\n",
       "      <td>...</td>\n",
       "      <td>...</td>\n",
       "      <td>...</td>\n",
       "      <td>...</td>\n",
       "      <td>...</td>\n",
       "      <td>...</td>\n",
       "      <td>...</td>\n",
       "      <td>...</td>\n",
       "      <td>...</td>\n",
       "      <td>...</td>\n",
       "      <td>...</td>\n",
       "      <td>...</td>\n",
       "      <td>...</td>\n",
       "    </tr>\n",
       "    <tr>\n",
       "      <th>7690</th>\n",
       "      <td>59326</td>\n",
       "      <td>X799CC799</td>\n",
       "      <td>2023-03-13 00:00:00</td>\n",
       "      <td>NaN</td>\n",
       "      <td>2023</td>\n",
       "      <td>march</td>\n",
       "      <td>monday</td>\n",
       "      <td>XCC</td>\n",
       "      <td>799</td>\n",
       "      <td>Москва</td>\n",
       "      <td>not governmental</td>\n",
       "      <td>0</td>\n",
       "      <td>0</td>\n",
       "      <td>0</td>\n",
       "    </tr>\n",
       "    <tr>\n",
       "      <th>7691</th>\n",
       "      <td>59327</td>\n",
       "      <td>K077YT777</td>\n",
       "      <td>2022-10-19 00:00:00</td>\n",
       "      <td>NaN</td>\n",
       "      <td>2022</td>\n",
       "      <td>october</td>\n",
       "      <td>wednesday</td>\n",
       "      <td>KYT</td>\n",
       "      <td>077</td>\n",
       "      <td>Москва</td>\n",
       "      <td>not governmental</td>\n",
       "      <td>0</td>\n",
       "      <td>0</td>\n",
       "      <td>0</td>\n",
       "    </tr>\n",
       "    <tr>\n",
       "      <th>7692</th>\n",
       "      <td>59328</td>\n",
       "      <td>O200PA777</td>\n",
       "      <td>2023-10-02 19:19:30</td>\n",
       "      <td>NaN</td>\n",
       "      <td>2023</td>\n",
       "      <td>october</td>\n",
       "      <td>monday</td>\n",
       "      <td>OPA</td>\n",
       "      <td>200</td>\n",
       "      <td>Москва</td>\n",
       "      <td>not governmental</td>\n",
       "      <td>0</td>\n",
       "      <td>0</td>\n",
       "      <td>0</td>\n",
       "    </tr>\n",
       "    <tr>\n",
       "      <th>7693</th>\n",
       "      <td>59329</td>\n",
       "      <td>O073OO97</td>\n",
       "      <td>2025-01-12 00:00:00</td>\n",
       "      <td>NaN</td>\n",
       "      <td>2025</td>\n",
       "      <td>january</td>\n",
       "      <td>sunday</td>\n",
       "      <td>OOO</td>\n",
       "      <td>073</td>\n",
       "      <td>Москва</td>\n",
       "      <td>not governmental</td>\n",
       "      <td>0</td>\n",
       "      <td>0</td>\n",
       "      <td>0</td>\n",
       "    </tr>\n",
       "    <tr>\n",
       "      <th>7694</th>\n",
       "      <td>59330</td>\n",
       "      <td>A666YE790</td>\n",
       "      <td>2025-01-13 00:00:00</td>\n",
       "      <td>NaN</td>\n",
       "      <td>2025</td>\n",
       "      <td>january</td>\n",
       "      <td>monday</td>\n",
       "      <td>AYE</td>\n",
       "      <td>666</td>\n",
       "      <td>Московская область</td>\n",
       "      <td>not governmental</td>\n",
       "      <td>0</td>\n",
       "      <td>0</td>\n",
       "      <td>0</td>\n",
       "    </tr>\n",
       "  </tbody>\n",
       "</table>\n",
       "<p>7695 rows × 14 columns</p>\n",
       "</div>"
      ],
      "text/plain": [
       "         id      plate                date  price  year     month   day_week  \\\n",
       "0     51636  P700TT790 2025-01-27 00:00:00    NaN  2025   january     monday   \n",
       "1     51637  M081TX797 2025-02-10 00:00:00    NaN  2025  february     monday   \n",
       "2     51638  T333HX777 2025-02-11 00:00:00    NaN  2025  february    tuesday   \n",
       "3     51639  H744BH977 2025-02-03 00:00:00    NaN  2025  february     monday   \n",
       "4     51640  X066EM777 2025-02-12 00:00:00    NaN  2025  february  wednesday   \n",
       "...     ...        ...                 ...    ...   ...       ...        ...   \n",
       "7690  59326  X799CC799 2023-03-13 00:00:00    NaN  2023     march     monday   \n",
       "7691  59327  K077YT777 2022-10-19 00:00:00    NaN  2022   october  wednesday   \n",
       "7692  59328  O200PA777 2023-10-02 19:19:30    NaN  2023   october     monday   \n",
       "7693  59329   O073OO97 2025-01-12 00:00:00    NaN  2025   january     sunday   \n",
       "7694  59330  A666YE790 2025-01-13 00:00:00    NaN  2025   january     monday   \n",
       "\n",
       "     letters numbers              region         dept_name  forb_buy  \\\n",
       "0        PTT     700  Московская область  not governmental         0   \n",
       "1        MTX     081              Москва  not governmental         0   \n",
       "2        THX     333              Москва  not governmental         0   \n",
       "3        HBH     744              Москва  not governmental         0   \n",
       "4        XEM     066              Москва  not governmental         0   \n",
       "...      ...     ...                 ...               ...       ...   \n",
       "7690     XCC     799              Москва  not governmental         0   \n",
       "7691     KYT     077              Москва  not governmental         0   \n",
       "7692     OPA     200              Москва  not governmental         0   \n",
       "7693     OOO     073              Москва  not governmental         0   \n",
       "7694     AYE     666  Московская область  not governmental         0   \n",
       "\n",
       "      adv_road  significance  \n",
       "0            0             0  \n",
       "1            0             0  \n",
       "2            0             0  \n",
       "3            0             0  \n",
       "4            0             0  \n",
       "...        ...           ...  \n",
       "7690         0             0  \n",
       "7691         0             0  \n",
       "7692         0             0  \n",
       "7693         0             0  \n",
       "7694         0             0  \n",
       "\n",
       "[7695 rows x 14 columns]"
      ]
     },
     "execution_count": 46,
     "metadata": {},
     "output_type": "execute_result"
    }
   ],
   "source": [
    "test = wrangle(\"test.csv\")\n",
    "test"
   ]
  },
  {
   "cell_type": "code",
   "execution_count": 47,
   "id": "203f3f6b-17b7-4557-9ea0-7dc7e3f34976",
   "metadata": {},
   "outputs": [
    {
     "data": {
      "text/html": [
       "<div>\n",
       "<style scoped>\n",
       "    .dataframe tbody tr th:only-of-type {\n",
       "        vertical-align: middle;\n",
       "    }\n",
       "\n",
       "    .dataframe tbody tr th {\n",
       "        vertical-align: top;\n",
       "    }\n",
       "\n",
       "    .dataframe thead th {\n",
       "        text-align: right;\n",
       "    }\n",
       "</style>\n",
       "<table border=\"1\" class=\"dataframe\">\n",
       "  <thead>\n",
       "    <tr style=\"text-align: right;\">\n",
       "      <th></th>\n",
       "      <th>year</th>\n",
       "      <th>month</th>\n",
       "      <th>day_week</th>\n",
       "      <th>letters</th>\n",
       "      <th>numbers</th>\n",
       "      <th>region</th>\n",
       "      <th>forb_buy</th>\n",
       "      <th>adv_road</th>\n",
       "      <th>significance</th>\n",
       "    </tr>\n",
       "  </thead>\n",
       "  <tbody>\n",
       "    <tr>\n",
       "      <th>0</th>\n",
       "      <td>2025</td>\n",
       "      <td>january</td>\n",
       "      <td>monday</td>\n",
       "      <td>PTT</td>\n",
       "      <td>700</td>\n",
       "      <td>Московская область</td>\n",
       "      <td>0</td>\n",
       "      <td>0</td>\n",
       "      <td>0</td>\n",
       "    </tr>\n",
       "    <tr>\n",
       "      <th>1</th>\n",
       "      <td>2025</td>\n",
       "      <td>february</td>\n",
       "      <td>monday</td>\n",
       "      <td>MTX</td>\n",
       "      <td>081</td>\n",
       "      <td>Москва</td>\n",
       "      <td>0</td>\n",
       "      <td>0</td>\n",
       "      <td>0</td>\n",
       "    </tr>\n",
       "    <tr>\n",
       "      <th>2</th>\n",
       "      <td>2025</td>\n",
       "      <td>february</td>\n",
       "      <td>tuesday</td>\n",
       "      <td>THX</td>\n",
       "      <td>333</td>\n",
       "      <td>Москва</td>\n",
       "      <td>0</td>\n",
       "      <td>0</td>\n",
       "      <td>0</td>\n",
       "    </tr>\n",
       "    <tr>\n",
       "      <th>3</th>\n",
       "      <td>2025</td>\n",
       "      <td>february</td>\n",
       "      <td>monday</td>\n",
       "      <td>HBH</td>\n",
       "      <td>744</td>\n",
       "      <td>Москва</td>\n",
       "      <td>0</td>\n",
       "      <td>0</td>\n",
       "      <td>0</td>\n",
       "    </tr>\n",
       "    <tr>\n",
       "      <th>4</th>\n",
       "      <td>2025</td>\n",
       "      <td>february</td>\n",
       "      <td>wednesday</td>\n",
       "      <td>XEM</td>\n",
       "      <td>066</td>\n",
       "      <td>Москва</td>\n",
       "      <td>0</td>\n",
       "      <td>0</td>\n",
       "      <td>0</td>\n",
       "    </tr>\n",
       "    <tr>\n",
       "      <th>...</th>\n",
       "      <td>...</td>\n",
       "      <td>...</td>\n",
       "      <td>...</td>\n",
       "      <td>...</td>\n",
       "      <td>...</td>\n",
       "      <td>...</td>\n",
       "      <td>...</td>\n",
       "      <td>...</td>\n",
       "      <td>...</td>\n",
       "    </tr>\n",
       "    <tr>\n",
       "      <th>7690</th>\n",
       "      <td>2023</td>\n",
       "      <td>march</td>\n",
       "      <td>monday</td>\n",
       "      <td>XCC</td>\n",
       "      <td>799</td>\n",
       "      <td>Москва</td>\n",
       "      <td>0</td>\n",
       "      <td>0</td>\n",
       "      <td>0</td>\n",
       "    </tr>\n",
       "    <tr>\n",
       "      <th>7691</th>\n",
       "      <td>2022</td>\n",
       "      <td>october</td>\n",
       "      <td>wednesday</td>\n",
       "      <td>KYT</td>\n",
       "      <td>077</td>\n",
       "      <td>Москва</td>\n",
       "      <td>0</td>\n",
       "      <td>0</td>\n",
       "      <td>0</td>\n",
       "    </tr>\n",
       "    <tr>\n",
       "      <th>7692</th>\n",
       "      <td>2023</td>\n",
       "      <td>october</td>\n",
       "      <td>monday</td>\n",
       "      <td>OPA</td>\n",
       "      <td>200</td>\n",
       "      <td>Москва</td>\n",
       "      <td>0</td>\n",
       "      <td>0</td>\n",
       "      <td>0</td>\n",
       "    </tr>\n",
       "    <tr>\n",
       "      <th>7693</th>\n",
       "      <td>2025</td>\n",
       "      <td>january</td>\n",
       "      <td>sunday</td>\n",
       "      <td>OOO</td>\n",
       "      <td>073</td>\n",
       "      <td>Москва</td>\n",
       "      <td>0</td>\n",
       "      <td>0</td>\n",
       "      <td>0</td>\n",
       "    </tr>\n",
       "    <tr>\n",
       "      <th>7694</th>\n",
       "      <td>2025</td>\n",
       "      <td>january</td>\n",
       "      <td>monday</td>\n",
       "      <td>AYE</td>\n",
       "      <td>666</td>\n",
       "      <td>Московская область</td>\n",
       "      <td>0</td>\n",
       "      <td>0</td>\n",
       "      <td>0</td>\n",
       "    </tr>\n",
       "  </tbody>\n",
       "</table>\n",
       "<p>7695 rows × 9 columns</p>\n",
       "</div>"
      ],
      "text/plain": [
       "      year     month   day_week letters numbers              region  forb_buy  \\\n",
       "0     2025   january     monday     PTT     700  Московская область         0   \n",
       "1     2025  february     monday     MTX     081              Москва         0   \n",
       "2     2025  february    tuesday     THX     333              Москва         0   \n",
       "3     2025  february     monday     HBH     744              Москва         0   \n",
       "4     2025  february  wednesday     XEM     066              Москва         0   \n",
       "...    ...       ...        ...     ...     ...                 ...       ...   \n",
       "7690  2023     march     monday     XCC     799              Москва         0   \n",
       "7691  2022   october  wednesday     KYT     077              Москва         0   \n",
       "7692  2023   october     monday     OPA     200              Москва         0   \n",
       "7693  2025   january     sunday     OOO     073              Москва         0   \n",
       "7694  2025   january     monday     AYE     666  Московская область         0   \n",
       "\n",
       "      adv_road  significance  \n",
       "0            0             0  \n",
       "1            0             0  \n",
       "2            0             0  \n",
       "3            0             0  \n",
       "4            0             0  \n",
       "...        ...           ...  \n",
       "7690         0             0  \n",
       "7691         0             0  \n",
       "7692         0             0  \n",
       "7693         0             0  \n",
       "7694         0             0  \n",
       "\n",
       "[7695 rows x 9 columns]"
      ]
     },
     "execution_count": 47,
     "metadata": {},
     "output_type": "execute_result"
    }
   ],
   "source": [
    "X_test = test.drop([\"id\", \"plate\", \"date\", \"price\", \"dept_name\"], axis=1)\n",
    "X_test"
   ]
  },
  {
   "cell_type": "code",
   "execution_count": 80,
   "id": "f70fc67a-9bc3-414b-a449-ac42e82ba5e9",
   "metadata": {},
   "outputs": [
    {
     "data": {
      "image/png": "[encoded data removed]",
      "text/plain": [
       "<Figure size 720x360 with 1 Axes>"
      ]
     },
     "metadata": {
      "needs_background": "light"
     },
     "output_type": "display_data"
    }
   ],
   "source": [
    "fig, ax = plt.subplots(figsize=(10, 5))\n",
    "predict = decision_tree.predict(X_test)\n",
    "predict = np.where(predict < np.quantile(predict, 0.9), predict, np.nan)\n",
    "ax.hist(predict, label=\"decision\", alpha=0.5)\n",
    "predict = random_forest.predict(X_test)\n",
    "predict = np.where(predict < np.quantile(predict, 0.9), predict, np.nan)\n",
    "ax.hist(predict, label=\"random\", alpha=0.5)\n",
    "ax.legend()\n",
    "plt.show()"
   ]
  },
  {
   "cell_type": "code",
   "execution_count": 82,
   "id": "4c7ffcaf-d36c-4db9-befb-1892f4d3b6dc",
   "metadata": {},
   "outputs": [
    {
     "name": "stderr",
     "output_type": "stream",
     "text": [
      "[Parallel(n_jobs=-1)]: Using backend LokyBackend with 6 concurrent workers.\n",
      "[Parallel(n_jobs=-1)]: Done   5 out of   5 | elapsed:  4.1min finished\n"
     ]
    },
    {
     "name": "stdout",
     "output_type": "stream",
     "text": [
      "Model:svr, Cross validation score:[77.94064121 78.51911364 78.31874933 77.77767869 77.40713812]\n"
     ]
    },
    {
     "name": "stderr",
     "output_type": "stream",
     "text": [
      "[Parallel(n_jobs=-1)]: Using backend LokyBackend with 6 concurrent workers.\n",
      "[Parallel(n_jobs=-1)]: Done   5 out of   5 | elapsed:  3.2min finished\n"
     ]
    },
    {
     "name": "stdout",
     "output_type": "stream",
     "text": [
      "Model:svr_linear, Cross validation score:[74.58667607 75.28578054 74.96692762 74.38799607 74.10797584]\n"
     ]
    },
    {
     "name": "stderr",
     "output_type": "stream",
     "text": [
      "[Parallel(n_jobs=-1)]: Using backend LokyBackend with 6 concurrent workers.\n",
      "[Parallel(n_jobs=-1)]: Done   5 out of   5 | elapsed:    0.6s finished\n",
      "[Parallel(n_jobs=-1)]: Using backend LokyBackend with 6 concurrent workers.\n"
     ]
    },
    {
     "name": "stdout",
     "output_type": "stream",
     "text": [
      "Model:decision_tree, Cross validation score:[73.19732421 72.44120144 73.69266995 74.65953084 71.5541243 ]\n"
     ]
    },
    {
     "name": "stderr",
     "output_type": "stream",
     "text": [
      "[Parallel(n_jobs=-1)]: Done   5 out of   5 | elapsed:   17.9s finished\n",
      "[Parallel(n_jobs=-1)]: Using backend LokyBackend with 6 concurrent workers.\n"
     ]
    },
    {
     "name": "stdout",
     "output_type": "stream",
     "text": [
      "Model:random_forest, Cross validation score:[83.10579582 81.97892737 86.30821134 82.60470837 83.55844943]\n"
     ]
    },
    {
     "name": "stderr",
     "output_type": "stream",
     "text": [
      "[Parallel(n_jobs=-1)]: Done   5 out of   5 | elapsed:   56.8s finished\n"
     ]
    },
    {
     "name": "stdout",
     "output_type": "stream",
     "text": [
      "Model:cbr, Cross validation score:[74.21903133 74.73601087 74.85040199 74.50675237 73.50204461]\n"
     ]
    },
    {
     "data": {
      "image/png": "[encoded data removed]",
      "text/plain": [
       "<Figure size 720x360 with 1 Axes>"
      ]
     },
     "metadata": {
      "needs_background": "light"
     },
     "output_type": "display_data"
    }
   ],
   "source": [
    "fig, ax = plt.subplots(figsize=(10, 5))\n",
    "for name, estimator in zip((\"svr\", \"svr_linear\", \"decision_tree\", \"random_forest\", \"cbr\"), (svr, svr_linear, decision_tree, random_forest, cbr)):\n",
    "    score = cross_val_score(estimator, cv=5, X=X, y=y, scoring=smape, verbose=1, n_jobs=-1, error_score=\"raise\")\n",
    "    print(f\"Model:{name}, Cross validation score:{score}\")\n",
    "    prediction = estimator.predict(X_test)\n",
    "    prediction = np.where(prediction < np.quantile(prediction, 0.9), prediction, np.nan)\n",
    "    ax.hist(prediction, label=name, alpha=0.5)\n",
    "ax.legend()\n",
    "plt.show()"
   ]
  },
  {
   "cell_type": "code",
   "execution_count": 95,
   "id": "0b2657de-992d-47f6-ba9c-b7c2d195187a",
   "metadata": {},
   "outputs": [],
   "source": [
    "vr = VotingRegressor([\n",
    "    ('svr_linear', svr_linear),\n",
    "    ('decision_tree', decision_tree),\n",
    "    ('random_forest', random_forest),\n",
    "    ('cbr', cbr)\n",
    "])"
   ]
  },
  {
   "cell_type": "code",
   "execution_count": 96,
   "id": "a59e4c49-e7d2-47ea-aa53-840ff2a4418e",
   "metadata": {},
   "outputs": [
    {
     "name": "stderr",
     "output_type": "stream",
     "text": [
      "[Parallel(n_jobs=-1)]: Using backend LokyBackend with 6 concurrent workers.\n"
     ]
    },
    {
     "name": "stdout",
     "output_type": "stream",
     "text": [
      "Model: Voting Regressor, Cross validation score:[68.4854011  68.57906519 70.34952544 68.75201603 68.02852944]\n"
     ]
    },
    {
     "name": "stderr",
     "output_type": "stream",
     "text": [
      "[Parallel(n_jobs=-1)]: Done   5 out of   5 | elapsed:  4.6min finished\n"
     ]
    }
   ],
   "source": [
    "score_vr = cross_val_score(vr, cv=5, X=X, y=y, scoring=smape, verbose=1, n_jobs=-1, error_score=\"raise\")\n",
    "print(f\"Model: Voting Regressor, Cross validation score:{score_vr}\")"
   ]
  },
  {
   "cell_type": "code",
   "execution_count": 42,
   "id": "877b5204-84e1-45e5-b643-37c899007833",
   "metadata": {},
   "outputs": [],
   "source": [
    "vr_no_rf = VotingRegressor([\n",
    "    ('svr_linear', svr_linear),\n",
    "    ('decision_tree', decision_tree),\n",
    "    ('cbr', cbr)\n",
    "])"
   ]
  },
  {
   "cell_type": "code",
   "execution_count": 98,
   "id": "6438b11f-a164-4a42-a60e-2b6c907eb0c6",
   "metadata": {},
   "outputs": [
    {
     "name": "stderr",
     "output_type": "stream",
     "text": [
      "[Parallel(n_jobs=-1)]: Using backend LokyBackend with 6 concurrent workers.\n"
     ]
    },
    {
     "name": "stdout",
     "output_type": "stream",
     "text": [
      "Model: Voting Regressor without Random Forest, Cross validation score:[63.71222402 64.05645085 64.71962913 63.76652444 62.78145437]\n"
     ]
    },
    {
     "name": "stderr",
     "output_type": "stream",
     "text": [
      "[Parallel(n_jobs=-1)]: Done   5 out of   5 | elapsed:  4.4min finished\n"
     ]
    }
   ],
   "source": [
    "score_vr_no_rf = cross_val_score(vr_no_rf, cv=5, X=X, y=y, scoring=smape, verbose=1, n_jobs=-1, error_score=\"raise\")\n",
    "print(f\"Model: Voting Regressor without Random Forest, Cross validation score:{score_vr_no_rf}\")"
   ]
  },
  {
   "cell_type": "code",
   "execution_count": null,
   "id": "c13f8bf2-7672-4996-9258-62ab3f84f810",
   "metadata": {},
   "outputs": [],
   "source": [
    "vr_no_rf.fit(X, y)"
   ]
  },
  {
   "cell_type": "code",
   "execution_count": 158,
   "id": "1bc221c5-7346-4f7a-a848-de70eeeca36e",
   "metadata": {},
   "outputs": [
    {
     "data": {
      "text/plain": [
       "[[2, 1, 1], [1, 2, 1], [1, 1, 2], [1, 2, 2], [2, 1, 2], [2, 2, 1]]"
      ]
     },
     "execution_count": 158,
     "metadata": {},
     "output_type": "execute_result"
    }
   ],
   "source": [
    "w = [[2, 1, 1]]\n",
    "for i in range(len(w[0])-1):\n",
    "    v = w[0].copy()\n",
    "    v[0] = 1\n",
    "    v[i + 1] = 2\n",
    "    w.append(v)\n",
    "t = [[1, 2, 2]]\n",
    "w.append(t[0])\n",
    "for i in range(len(t[0])-1):\n",
    "    v = t[0].copy()\n",
    "    v[0] = 2\n",
    "    v[i + 1] = 1\n",
    "    w.append(v)\n",
    "w"
   ]
  },
  {
   "cell_type": "code",
   "execution_count": 159,
   "id": "15196f72-cfa3-4a4f-9c34-93daedd5d460",
   "metadata": {},
   "outputs": [],
   "source": [
    "params_vr = {\n",
    "    \"weights\": w\n",
    "}"
   ]
  },
  {
   "cell_type": "code",
   "execution_count": null,
   "id": "13d102dd-c82b-4a67-9cc4-2bfc594ce098",
   "metadata": {},
   "outputs": [],
   "source": [
    "vr_grid = GridSearchCV(vr_no_rf, param_grid=params_vr, cv=5, scoring=smape, error_score=\"raise\", verbose=1, n_jobs=-1)\n",
    "vr_grid.fit(X, y)"
   ]
  },
  {
   "cell_type": "code",
   "execution_count": 162,
   "id": "9f93146c-1609-4355-89fb-62edf557a794",
   "metadata": {},
   "outputs": [
    {
     "name": "stdout",
     "output_type": "stream",
     "text": [
      "65.89242986300191\n",
      "{'weights': [1, 2, 1]}\n"
     ]
    }
   ],
   "source": [
    "print(vr_grid.best_score_)\n",
    "print(vr_grid.best_params_)"
   ]
  },
  {
   "cell_type": "code",
   "execution_count": 164,
   "id": "13c33f60-aaac-42d0-bea6-c4855d5ea8a1",
   "metadata": {},
   "outputs": [],
   "source": [
    "params_vr_est = {\n",
    "    \"estimators\": [[(\"svr_linear\", svr_linear), (\"decision_tree\", decision_tree)], [(\"decision_tree\", decision_tree), (\"cbr\", cbr)], [(\"svr_linear\", svr_linear), (\"cbr\", cbr)]]\n",
    "}"
   ]
  },
  {
   "cell_type": "code",
   "execution_count": 165,
   "id": "69010745-97f6-418e-a4a2-64f0f7a491b1",
   "metadata": {},
   "outputs": [
    {
     "name": "stdout",
     "output_type": "stream",
     "text": [
      "Fitting 5 folds for each of 3 candidates, totalling 15 fits\n",
      "[LibSVM]65.89242986300191\n",
      "{'weights': [1, 2, 1]}\n"
     ]
    }
   ],
   "source": [
    "vr_grid_est = GridSearchCV(vr_no_rf, param_grid=params_vr_est, cv=5, scoring=smape, error_score=\"raise\", verbose=1, n_jobs=-1)\n",
    "vr_grid_est.fit(X, y)\n"
   ]
  },
  {
   "cell_type": "code",
   "execution_count": 167,
   "id": "ae792f6d-c1e4-474d-b68e-4f73c99d05ad",
   "metadata": {},
   "outputs": [],
   "source": [
    "vr_no_rf_svr = VotingRegressor([\n",
    "    ('svr', svr),\n",
    "    ('decision_tree', decision_tree),\n",
    "    ('cbr', cbr)\n",
    "])"
   ]
  },
  {
   "cell_type": "code",
   "execution_count": 169,
   "id": "485cf264-47a7-4d69-abf4-d559d1d0ba92",
   "metadata": {},
   "outputs": [
    {
     "name": "stdout",
     "output_type": "stream",
     "text": [
      "Model: Voting Regressor without Random Forest and with SVR, Cross validation score:[63.9875735  64.09337634 64.99262861 63.78319908 62.86182164]\n"
     ]
    }
   ],
   "source": [
    "score_vr_no_rf_svr = cross_val_score(vr_no_rf_svr, cv=5, X=X, y=y, scoring=smape, verbose=1, n_jobs=-1, error_score=\"raise\")\n",
    "print(f\"Model: Voting Regressor without Random Forest and with SVR, Cross validation score:{score_vr_no_rf_svr}\")"
   ]
  },
  {
   "cell_type": "code",
   "execution_count": 174,
   "id": "3e5e4e91-d209-40b9-a8ee-0f0941c53fef",
   "metadata": {},
   "outputs": [],
   "source": [
    "voting_regressor = vr_no_rf"
   ]
  },
  {
   "cell_type": "code",
   "execution_count": 175,
   "id": "0dee25bf-7da0-48cd-8b03-631245d01062",
   "metadata": {},
   "outputs": [],
   "source": [
    "dump(voting_regressor, \"voting_regressor\")"
   ]
  },
  {
   "cell_type": "code",
   "execution_count": 176,
   "id": "9af0f7ab-ac49-4ee0-870d-6f0dd706ed58",
   "metadata": {},
   "outputs": [],
   "source": [
    "for estimator, name in zip((svr_linear, decision_tree, random_forest, cbr, voting_regressor), (\"svr_linear\", \"decision_tree\", \"random_forest\", \"cbr\", \"voting_regressor\")):\n",
    "    pd.DataFrame(\n",
    "        {\n",
    "            \"ID\": test[\"id\"],\n",
    "            \"price\": estimator.predict(X_test)\n",
    "        }\n",
    "    ).to_csv(f\"{name}.csv\", index=False)"
   ]
  },
  {
   "cell_type": "markdown",
   "id": "bd1066a4-94e1-4d6d-a50b-810ceb9c8ea5",
   "metadata": {},
   "source": [
    "Let's try to take log(price)"
   ]
  },
  {
   "cell_type": "code",
   "execution_count": 27,
   "id": "dbc3a87e-9f90-46f7-99cc-bdffed8d36d2",
   "metadata": {},
   "outputs": [
    {
     "data": {
      "text/plain": [
       "0        11.082143\n",
       "1        11.512925\n",
       "2        12.577636\n",
       "3        13.429848\n",
       "4        13.527828\n",
       "           ...    \n",
       "51630    11.156251\n",
       "51631    14.285514\n",
       "51632    13.652992\n",
       "51633    11.918391\n",
       "51634    10.126631\n",
       "Name: price, Length: 51635, dtype: float64"
      ]
     },
     "execution_count": 27,
     "metadata": {},
     "output_type": "execute_result"
    }
   ],
   "source": [
    "y_log = np.log(y)\n",
    "y_log"
   ]
  },
  {
   "cell_type": "code",
   "execution_count": 182,
   "id": "455b27d2-d32b-430b-8812-52dc41e17916",
   "metadata": {},
   "outputs": [
    {
     "name": "stdout",
     "output_type": "stream",
     "text": [
      "Model: Voting Regressor without Random Forest and with log(price), Cross validation score:[4.61287555 4.68036499 4.61420448 4.55152839 4.57943326]\n"
     ]
    }
   ],
   "source": [
    "score_vr_no_rf_log = cross_val_score(vr_no_rf, cv=5, X=X, y=y_log, scoring=smape, verbose=1, n_jobs=-1, error_score=\"raise\")\n",
    "print(f\"Model: Voting Regressor without Random Forest and with log(price), Cross validation score:{score_vr_no_rf_log}\")"
   ]
  },
  {
   "cell_type": "code",
   "execution_count": null,
   "id": "6a6f0ee1-255f-44cf-b5e5-4344f89b6ba7",
   "metadata": {},
   "outputs": [],
   "source": [
    "voting_regressor_log = clone(vr_no_rf)\n",
    "voting_regressor_log.fit(X, y_log)"
   ]
  },
  {
   "cell_type": "code",
   "execution_count": 188,
   "id": "cb0cc88f-5c73-4397-9600-019cf1a1d233",
   "metadata": {},
   "outputs": [],
   "source": [
    "pd.DataFrame(\n",
    "        {\n",
    "            \"ID\": test[\"id\"],\n",
    "            \"price\": np.exp(voting_regressor_log.predict(X_test))\n",
    "        }\n",
    "    ).to_csv(f\"voting_regressor_log.csv\", index=False)"
   ]
  },
  {
   "cell_type": "code",
   "execution_count": null,
   "id": "1ad00eae-1f0b-43c0-a634-a783b6b59913",
   "metadata": {},
   "outputs": [],
   "source": [
    "cbr_grid_log = RandomizedSearchCV(cbr, param_distributions=params_cbr, n_iter=100, cv=4, n_jobs=-1, random_state=42, verbose=1, error_score=\"raise\", scoring=smape)\n",
    "cbr_grid_log.fit(X, y_log)"
   ]
  },
  {
   "cell_type": "code",
   "execution_count": 195,
   "id": "811bf2ec-b988-46d8-9a15-9350e8b59c89",
   "metadata": {},
   "outputs": [
    {
     "data": {
      "text/plain": [
       "{'cb__learning_rate': 0.5,\n",
       " 'cb__l2_leaf_reg': 1,\n",
       " 'cb__iterations': 900,\n",
       " 'cb__depth': 11}"
      ]
     },
     "execution_count": 195,
     "metadata": {},
     "output_type": "execute_result"
    }
   ],
   "source": [
    "cbr_grid_log.best_params_"
   ]
  },
  {
   "cell_type": "code",
   "execution_count": 196,
   "id": "93deee9a-ff68-4377-99ad-a0000827d257",
   "metadata": {},
   "outputs": [
    {
     "data": {
      "text/plain": [
       "4.734355305133445"
      ]
     },
     "execution_count": 196,
     "metadata": {},
     "output_type": "execute_result"
    }
   ],
   "source": [
    "cbr_grid_log.best_score_"
   ]
  },
  {
   "cell_type": "code",
   "execution_count": 200,
   "id": "7f4f9f8a-d405-432e-aca6-6467087a9329",
   "metadata": {},
   "outputs": [],
   "source": [
    "cbr_log = cbr_grid_log.best_estimator_"
   ]
  },
  {
   "cell_type": "code",
   "execution_count": 203,
   "id": "31c3b6c0-67a3-4a3a-8d43-e180b0f68946",
   "metadata": {},
   "outputs": [
    {
     "name": "stdout",
     "output_type": "stream",
     "text": [
      "Fitting 5 folds for each of 216 candidates, totalling 1080 fits\n"
     ]
    },
    {
     "data": {
      "text/plain": [
       "GridSearchCV(cv=5, error_score='raise',\n",
       "             estimator=Pipeline(steps=[('ct',\n",
       "                                        ColumnTransformer(remainder='passthrough',\n",
       "                                                          transformers=[('tar_en',\n",
       "                                                                         TargetEncoder(),\n",
       "                                                                         ['letters',\n",
       "                                                                          'numbers',\n",
       "                                                                          'region']),\n",
       "                                                                        ('ohe',\n",
       "                                                                         OneHotEncoder(),\n",
       "                                                                         ['year',\n",
       "                                                                          'month',\n",
       "                                                                          'day_week'])])),\n",
       "                                       ('decision_tree',\n",
       "                                        DecisionTreeRegressor(max_depth=4,\n",
       "                                                              random_state=42))]),\n",
       "             n_jobs=-1,\n",
       "             param_grid={'decision_tree__max_depth': range(4, 31),\n",
       "                         'decision_tree__min_samples_split': range(2, 10)},\n",
       "             scoring=<function smape at 0x000002532906D8B0>, verbose=1)"
      ]
     },
     "execution_count": 203,
     "metadata": {},
     "output_type": "execute_result"
    }
   ],
   "source": [
    "decision_tree_grid_log = GridSearchCV(decision_tree, param_grid=params_tree, cv=5, n_jobs=-1, scoring=smape, error_score=\"raise\", verbose=1)\n",
    "decision_tree_grid_log.fit(X, y_log)"
   ]
  },
  {
   "cell_type": "code",
   "execution_count": 206,
   "id": "b316d7e1-6e9f-4f63-9fb8-ed524c0bb4bf",
   "metadata": {},
   "outputs": [
    {
     "name": "stdout",
     "output_type": "stream",
     "text": [
      "{'decision_tree__max_depth': 30, 'decision_tree__min_samples_split': 2}\n",
      "{'ccp_alpha': 0.0, 'criterion': 'mse', 'max_depth': 4, 'max_features': None, 'max_leaf_nodes': None, 'min_impurity_decrease': 0.0, 'min_impurity_split': None, 'min_samples_leaf': 1, 'min_samples_split': 2, 'min_weight_fraction_leaf': 0.0, 'random_state': 42, 'splitter': 'best'}\n"
     ]
    }
   ],
   "source": [
    "print(decision_tree_grid_log.best_params_)\n",
    "print(decision_tree.named_steps[\"decision_tree\"].get_params())"
   ]
  },
  {
   "cell_type": "code",
   "execution_count": 207,
   "id": "db507496-c1bc-4f67-8201-d17a64939e21",
   "metadata": {},
   "outputs": [
    {
     "data": {
      "text/plain": [
       "5.942431886492117"
      ]
     },
     "execution_count": 207,
     "metadata": {},
     "output_type": "execute_result"
    }
   ],
   "source": [
    "decision_tree_grid_log.best_score_"
   ]
  },
  {
   "cell_type": "code",
   "execution_count": 208,
   "id": "ac4ddfac-5fcf-452a-a787-8c3e696bc4ee",
   "metadata": {},
   "outputs": [],
   "source": [
    "decision_tree_log = decision_tree_grid_log.best_estimator_"
   ]
  },
  {
   "cell_type": "code",
   "execution_count": 212,
   "id": "8f22e733-519f-4f9e-9330-45f3c01226c3",
   "metadata": {},
   "outputs": [
    {
     "name": "stdout",
     "output_type": "stream",
     "text": [
      "Fitting 5 folds for each of 21 candidates, totalling 105 fits\n"
     ]
    },
    {
     "data": {
      "text/plain": [
       "GridSearchCV(cv=5, error_score='raise',\n",
       "             estimator=Pipeline(steps=[('ct',\n",
       "                                        ColumnTransformer(remainder='passthrough',\n",
       "                                                          transformers=[('tar_en',\n",
       "                                                                         TargetEncoder(),\n",
       "                                                                         ['letters',\n",
       "                                                                          'numbers',\n",
       "                                                                          'region']),\n",
       "                                                                        ('ohe',\n",
       "                                                                         OneHotEncoder(),\n",
       "                                                                         ['year',\n",
       "                                                                          'month',\n",
       "                                                                          'day_week'])])),\n",
       "                                       ('random_forest',\n",
       "                                        RandomForestRegressor(n_estimators=20,\n",
       "                                                              random_state=42))]),\n",
       "             n_jobs=-1,\n",
       "             param_grid={'random_forest__max_depth': [2],\n",
       "                         'random_forest__n_estimators': range(300, 501, 10)},\n",
       "             scoring=<function smape at 0x000002532906D8B0>, verbose=2)"
      ]
     },
     "execution_count": 212,
     "metadata": {},
     "output_type": "execute_result"
    }
   ],
   "source": [
    "random_forest_grid_log = GridSearchCV(rfr, param_grid=params_forest, cv=5, n_jobs=-1, scoring=smape, error_score=\"raise\", verbose=2)\n",
    "random_forest_grid_log.fit(X, y_log)"
   ]
  },
  {
   "cell_type": "code",
   "execution_count": 213,
   "id": "5bdf9396-7d1e-49d0-b474-0709dd9acd64",
   "metadata": {},
   "outputs": [
    {
     "name": "stdout",
     "output_type": "stream",
     "text": [
      "{'random_forest__max_depth': 2, 'random_forest__n_estimators': 490}\n",
      "{'bootstrap': True, 'ccp_alpha': 0.0, 'criterion': 'mse', 'max_depth': 2, 'max_features': 'auto', 'max_leaf_nodes': None, 'max_samples': None, 'min_impurity_decrease': 0.0, 'min_impurity_split': None, 'min_samples_leaf': 1, 'min_samples_split': 2, 'min_weight_fraction_leaf': 0.0, 'n_estimators': 400, 'n_jobs': None, 'oob_score': False, 'random_state': 42, 'verbose': 0, 'warm_start': False}\n"
     ]
    }
   ],
   "source": [
    "print(random_forest_grid_log.best_params_)\n",
    "print(random_forest.named_steps[\"random_forest\"].get_params())"
   ]
  },
  {
   "cell_type": "code",
   "execution_count": 214,
   "id": "ff26f7eb-9af1-4560-84e3-58a97f4c123b",
   "metadata": {},
   "outputs": [
    {
     "data": {
      "text/plain": [
       "5.593504533664853"
      ]
     },
     "execution_count": 214,
     "metadata": {},
     "output_type": "execute_result"
    }
   ],
   "source": [
    "random_forest_grid_log.best_score_"
   ]
  },
  {
   "cell_type": "code",
   "execution_count": 215,
   "id": "976fa60b-11ff-428b-b580-a51fb4d3a015",
   "metadata": {},
   "outputs": [
    {
     "name": "stdout",
     "output_type": "stream",
     "text": [
      "Fitting 3 folds for each of 60 candidates, totalling 180 fits\n",
      "[LibSVM]"
     ]
    },
    {
     "data": {
      "text/plain": [
       "RandomizedSearchCV(cv=3, error_score='raise',\n",
       "                   estimator=Pipeline(steps=[('ct',\n",
       "                                              ColumnTransformer(remainder='passthrough',\n",
       "                                                                transformers=[('tar_en',\n",
       "                                                                               TargetEncoder(),\n",
       "                                                                               ['letters',\n",
       "                                                                                'numbers',\n",
       "                                                                                'region']),\n",
       "                                                                              ('ohe',\n",
       "                                                                               OneHotEncoder(),\n",
       "                                                                               ['year',\n",
       "                                                                                'month',\n",
       "                                                                                'day_week'])])),\n",
       "                                             ('ss', StandardScaler()),\n",
       "                                             ('svr', SVR(verbose=True))]),\n",
       "                   n_iter=60, n_jobs=-1,\n",
       "                   param_distributions={'svr__C': arr...\n",
       "       0.45, 0.46, 0.47, 0.48, 0.49, 0.5 , 0.51, 0.52, 0.53, 0.54, 0.55,\n",
       "       0.56, 0.57, 0.58, 0.59, 0.6 , 0.61, 0.62, 0.63, 0.64, 0.65, 0.66,\n",
       "       0.67, 0.68, 0.69, 0.7 , 0.71, 0.72, 0.73, 0.74, 0.75, 0.76, 0.77,\n",
       "       0.78, 0.79, 0.8 , 0.81, 0.82, 0.83, 0.84, 0.85, 0.86, 0.87, 0.88,\n",
       "       0.89, 0.9 , 0.91, 0.92, 0.93, 0.94, 0.95, 0.96, 0.97, 0.98, 0.99,\n",
       "       1.  ]),\n",
       "                                        'svr__kernel': ['linear', 'poly',\n",
       "                                                        'rbf']},\n",
       "                   random_state=42,\n",
       "                   scoring=<function smape at 0x000002532906D8B0>, verbose=1)"
      ]
     },
     "execution_count": 215,
     "metadata": {},
     "output_type": "execute_result"
    }
   ],
   "source": [
    "svr_grid_log = RandomizedSearchCV(svr, param_distributions=params_svr, n_iter=60, cv=3, n_jobs=-1, random_state=42, verbose=1, error_score=\"raise\", scoring=smape)\n",
    "svr_grid.fit(X, y_log)"
   ]
  },
  {
   "cell_type": "code",
   "execution_count": 217,
   "id": "34dcbafa-901a-48d1-9b6e-a63d585c27c4",
   "metadata": {},
   "outputs": [
    {
     "data": {
      "text/plain": [
       "5.234141204448778"
      ]
     },
     "execution_count": 217,
     "metadata": {},
     "output_type": "execute_result"
    }
   ],
   "source": [
    "svr_grid.best_score_"
   ]
  },
  {
   "cell_type": "code",
   "execution_count": 216,
   "id": "34d974f8-b906-4350-8859-da234b4bba80",
   "metadata": {},
   "outputs": [
    {
     "ename": "AttributeError",
     "evalue": "'RandomizedSearchCV' object has no attribute 'best_params_'",
     "output_type": "error",
     "traceback": [
      "\u001b[1;31m---------------------------------------------------------------------------\u001b[0m",
      "\u001b[1;31mAttributeError\u001b[0m                            Traceback (most recent call last)",
      "\u001b[1;32m~\\AppData\\Local\\Temp\\ipykernel_2784\\1483655958.py\u001b[0m in \u001b[0;36m<module>\u001b[1;34m\u001b[0m\n\u001b[1;32m----> 1\u001b[1;33m \u001b[0mprint\u001b[0m\u001b[1;33m(\u001b[0m\u001b[0msvr_grid_log\u001b[0m\u001b[1;33m.\u001b[0m\u001b[0mbest_params_\u001b[0m\u001b[1;33m)\u001b[0m\u001b[1;33m\u001b[0m\u001b[1;33m\u001b[0m\u001b[0m\n\u001b[0m\u001b[0;32m      2\u001b[0m \u001b[0mprint\u001b[0m\u001b[1;33m(\u001b[0m\u001b[0msvr\u001b[0m\u001b[1;33m.\u001b[0m\u001b[0mnamed_steps\u001b[0m\u001b[1;33m[\u001b[0m\u001b[1;34m\"svr\"\u001b[0m\u001b[1;33m]\u001b[0m\u001b[1;33m.\u001b[0m\u001b[0mget_params\u001b[0m\u001b[1;33m(\u001b[0m\u001b[1;33m)\u001b[0m\u001b[1;33m)\u001b[0m\u001b[1;33m\u001b[0m\u001b[1;33m\u001b[0m\u001b[0m\n",
      "\u001b[1;31mAttributeError\u001b[0m: 'RandomizedSearchCV' object has no attribute 'best_params_'"
     ]
    }
   ],
   "source": [
    "print(svr_grid_log.best_params_)\n",
    "print(svr.named_steps[\"svr\"].get_params())"
   ]
  },
  {
   "cell_type": "code",
   "execution_count": 218,
   "id": "1d5c6395-3206-4707-9f05-ae7cb9bf8a1b",
   "metadata": {},
   "outputs": [],
   "source": [
    "dump(cbr_log, \"catboost_log\")\n",
    "dump(decision_tree_log, \"decision_tree_log\")\n",
    "dump(random_forest_grid_log.best_estimator_, \"random_forest_log\")\n",
    "dump(svr_grid.best_estimator_, \"svr_log_no_grid\")"
   ]
  },
  {
   "cell_type": "code",
   "execution_count": 24,
   "id": "1d0f451e-6733-429e-bd31-3a00e15fa82c",
   "metadata": {},
   "outputs": [],
   "source": [
    "cbr_log = load(\"catboost_log\")\n",
    "decision_tree_log = load(\"decision_tree_log\")\n",
    "random_forest_log = load(\"random_forest_log\")\n",
    "svr_log = load(\"svr_log_no_grid\")"
   ]
  },
  {
   "cell_type": "code",
   "execution_count": 25,
   "id": "d8667be7-53a3-46f5-9bbc-3d273b53d6d4",
   "metadata": {},
   "outputs": [
    {
     "data": {
      "text/plain": [
       "SVR(C=3.8000000000000003, epsilon=0.99, kernel='linear', verbose=True)"
      ]
     },
     "execution_count": 25,
     "metadata": {},
     "output_type": "execute_result"
    }
   ],
   "source": [
    "svr_log.named_steps[\"svr\"]"
   ]
  },
  {
   "cell_type": "code",
   "execution_count": 28,
   "id": "60babb14-2038-4b30-8692-ab2c0f7b06b0",
   "metadata": {},
   "outputs": [
    {
     "name": "stdout",
     "output_type": "stream",
     "text": [
      "[0.49444104 0.4831936  0.50002697 0.50660377 0.49184751]\n",
      "{'C': 3.8000000000000003, 'cache_size': 200, 'coef0': 0.0, 'degree': 3, 'epsilon': 0.99, 'gamma': 'scale', 'kernel': 'linear', 'max_iter': -1, 'shrinking': True, 'tol': 0.001, 'verbose': True}\n"
     ]
    }
   ],
   "source": [
    "print(cross_val_score(svr_log, cv=5, X=X, y=y_log, n_jobs=-1))\n",
    "print(svr_log.named_steps[\"svr\"].get_params())"
   ]
  },
  {
   "cell_type": "code",
   "execution_count": 30,
   "id": "c631a123-48fa-4fff-b6e3-1ab6fd131f25",
   "metadata": {},
   "outputs": [
    {
     "name": "stderr",
     "output_type": "stream",
     "text": [
      "[Parallel(n_jobs=-1)]: Using backend LokyBackend with 6 concurrent workers.\n",
      "[Parallel(n_jobs=-1)]: Done   5 out of   5 | elapsed:  4.0min finished\n",
      "[Parallel(n_jobs=-1)]: Using backend LokyBackend with 6 concurrent workers.\n"
     ]
    },
    {
     "name": "stdout",
     "output_type": "stream",
     "text": [
      "Model:svr, Cross validation score:5.205065626422683\n"
     ]
    },
    {
     "name": "stderr",
     "output_type": "stream",
     "text": [
      "[Parallel(n_jobs=-1)]: Done   5 out of   5 | elapsed:    2.8s finished\n",
      "[Parallel(n_jobs=-1)]: Using backend LokyBackend with 6 concurrent workers.\n"
     ]
    },
    {
     "name": "stdout",
     "output_type": "stream",
     "text": [
      "Model:decision_tree, Cross validation score:5.942431886492117\n"
     ]
    },
    {
     "name": "stderr",
     "output_type": "stream",
     "text": [
      "[Parallel(n_jobs=-1)]: Done   5 out of   5 | elapsed:   24.9s finished\n",
      "[Parallel(n_jobs=-1)]: Using backend LokyBackend with 6 concurrent workers.\n"
     ]
    },
    {
     "name": "stdout",
     "output_type": "stream",
     "text": [
      "Model:random_forest, Cross validation score:5.593504533664853\n",
      "Model:cbr, Cross validation score:4.678822452829896\n"
     ]
    },
    {
     "name": "stderr",
     "output_type": "stream",
     "text": [
      "[Parallel(n_jobs=-1)]: Done   5 out of   5 | elapsed:  1.2min finished\n"
     ]
    }
   ],
   "source": [
    "for name, estimator in zip((\"svr\", \"decision_tree\", \"random_forest\", \"cbr\"), (svr_log, decision_tree_log, random_forest_log, cbr_log)):\n",
    "    score = cross_val_score(estimator, cv=5, X=X, y=y_log, scoring=smape, verbose=1, n_jobs=-1, error_score=\"raise\")\n",
    "    print(f\"Model:{name}, Cross validation score:{sum(score) / 5}\")\n"
   ]
  },
  {
   "cell_type": "code",
   "execution_count": 32,
   "id": "6fb433aa-dcd7-4e62-812a-2df6c106a8ef",
   "metadata": {},
   "outputs": [],
   "source": [
    "vr_params_log = VotingRegressor(estimators=[(\"cbr\", cbr_log)])\n"
   ]
  },
  {
   "cell_type": "code",
   "execution_count": 33,
   "id": "7a43df2c-f1e2-4f87-938c-21a488a78922",
   "metadata": {},
   "outputs": [],
   "source": [
    "params_vr_log = {\n",
    "    \"estimators\": [[(\"cbr\", cbr_log), (\"svr\", svr_log)], [(\"cbr\", cbr_log), (\"svr\", svr_log), (\"random_forest\", random_forest_log), (\"decision_tree\", decision_tree_log)], [(\"cbr\", cbr_log), (\"svr\", svr_log), (\"random_forest\", random_forest_log)], [(\"cbr\", cbr_log), (\"svr\", svr_log), (\"decision_tree\", decision_tree_log)]]\n",
    "}"
   ]
  },
  {
   "cell_type": "code",
   "execution_count": null,
   "id": "3515ee7d-80c5-4af9-9449-379c67d6010f",
   "metadata": {},
   "outputs": [],
   "source": [
    "vr_params_log_grid = GridSearchCV(vr_params_log, param_grid=params_vr_log, cv=5, n_jobs=-1, scoring=smape, error_score=\"raise\", verbose=1)\n",
    "vr_params_log_grid.fit(X, y_log)"
   ]
  },
  {
   "cell_type": "code",
   "execution_count": 37,
   "id": "cc0ec374-8655-4c09-a716-6adb4fbd652d",
   "metadata": {},
   "outputs": [
    {
     "name": "stdout",
     "output_type": "stream",
     "text": [
      "{'estimators': [('cbr', Pipeline(steps=[('ct',\n",
      "                 ColumnTransformer(remainder='passthrough',\n",
      "                                   transformers=[('tar_en', TargetEncoder(),\n",
      "                                                  ['letters', 'numbers',\n",
      "                                                   'region']),\n",
      "                                                 ('ohe', OneHotEncoder(),\n",
      "                                                  ['year', 'month',\n",
      "                                                   'day_week'])])),\n",
      "                ('cb',\n",
      "                 <catboost.core.CatBoostRegressor object at 0x0000018F030D1730>)])), ('svr', Pipeline(steps=[('ct',\n",
      "                 ColumnTransformer(remainder='passthrough',\n",
      "                                   transformers=[('tar_en', TargetEncoder(),\n",
      "                                                  ['letters', 'numbers',\n",
      "                                                   'region']),\n",
      "                                                 ('ohe', OneHotEncoder(),\n",
      "                                                  ['year', 'month',\n",
      "                                                   'day_week'])])),\n",
      "                ('ss', StandardScaler()),\n",
      "                ('svr',\n",
      "                 SVR(C=3.8000000000000003, epsilon=0.99, kernel='linear',\n",
      "                     verbose=True))])), ('random_forest', Pipeline(steps=[('ct',\n",
      "                 ColumnTransformer(remainder='passthrough',\n",
      "                                   transformers=[('tar_en', TargetEncoder(),\n",
      "                                                  ['letters', 'numbers',\n",
      "                                                   'region']),\n",
      "                                                 ('ohe', OneHotEncoder(),\n",
      "                                                  ['year', 'month',\n",
      "                                                   'day_week'])])),\n",
      "                ('random_forest',\n",
      "                 RandomForestRegressor(max_depth=2, n_estimators=490,\n",
      "                                       random_state=42))]))]}\n",
      "4.712918551119296\n"
     ]
    }
   ],
   "source": [
    "print(vr_params_log_grid.best_params_)\n",
    "print(vr_params_log_grid.best_score_)"
   ]
  },
  {
   "cell_type": "code",
   "execution_count": 43,
   "id": "d93e3caf-9a0a-4d0e-8866-ac37f6a54c22",
   "metadata": {},
   "outputs": [
    {
     "name": "stderr",
     "output_type": "stream",
     "text": [
      "[Parallel(n_jobs=-1)]: Using backend LokyBackend with 6 concurrent workers.\n"
     ]
    },
    {
     "name": "stdout",
     "output_type": "stream",
     "text": [
      "Model: Voting Regressor without Random Forest and with log(price), Cross validation score:[4.68388408 4.72643931 4.67979033 4.60623346 4.61724876]\n"
     ]
    },
    {
     "name": "stderr",
     "output_type": "stream",
     "text": [
      "[Parallel(n_jobs=-1)]: Done   5 out of   5 | elapsed:  9.3min finished\n"
     ]
    }
   ],
   "source": [
    "score_vr_no_rf_log = cross_val_score(vr_no_rf, cv=5, X=X, y=y_log, scoring=smape, verbose=1, n_jobs=-1, error_score=\"raise\")\n",
    "print(f\"Model: Voting Regressor without Random Forest and with log(price), Cross validation score:{score_vr_no_rf_log}\")"
   ]
  },
  {
   "cell_type": "code",
   "execution_count": 44,
   "id": "e63cd75d-9777-4c79-a925-7e65040047e0",
   "metadata": {},
   "outputs": [],
   "source": [
    "voting_regressor_log_params = vr_params_log_grid.best_estimator_"
   ]
  },
  {
   "cell_type": "code",
   "execution_count": 48,
   "id": "273af0b5-e44b-46a6-846f-b6c1be7f023a",
   "metadata": {},
   "outputs": [],
   "source": [
    "for estimator, name in zip((svr_log, decision_tree_log, random_forest_log, cbr_log, voting_regressor_log_params), (\"svr_log\", \"decision_tree_log\", \"random_forest_log\", \"cbr_log\", \"voting_regressor_log_params\")):\n",
    "    pd.DataFrame(\n",
    "        {\n",
    "            \"ID\": test[\"id\"],\n",
    "            \"price\": np.exp(estimator.predict(X_test))\n",
    "        }\n",
    "    ).to_csv(f\"{name}.csv\", index=False)"
   ]
  },
  {
   "cell_type": "code",
   "execution_count": 58,
   "id": "fbd5dbdf-4a71-4426-aad8-a98c7bdc30be",
   "metadata": {},
   "outputs": [],
   "source": [
    "from torch.utils.data import DataLoader"
   ]
  },
  {
   "cell_type": "code",
   "execution_count": 69,
   "id": "0c426d6c-9c7f-4a04-ae2f-62f7c1719ef7",
   "metadata": {},
   "outputs": [],
   "source": [
    "data = DataLoader(X, batch_size=3, shuffle=True)\n"
   ]
  },
  {
   "cell_type": "code",
   "execution_count": null,
   "id": "fedcaafb-83c9-4f17-bfc2-9818c0492e47",
   "metadata": {},
   "outputs": [],
   "source": []
  }
 ],
 "metadata": {
  "kernelspec": {
   "display_name": "Python 3 (ipykernel)",
   "language": "python",
   "name": "python3"
  },
  "language_info": {
   "codemirror_mode": {
    "name": "ipython",
    "version": 3
   },
   "file_extension": ".py",
   "mimetype": "text/x-python",
   "name": "python",
   "nbconvert_exporter": "python",
   "pygments_lexer": "ipython3",
   "version": "3.9.19"
  }
 },
 "nbformat": 4,
 "nbformat_minor": 5
}
