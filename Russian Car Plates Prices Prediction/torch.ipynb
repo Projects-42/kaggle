{
 "cells": [
  {
   "cell_type": "code",
   "execution_count": 187,
   "id": "07115578-3b5f-48e3-acd9-b89d4af60ef2",
   "metadata": {},
   "outputs": [],
   "source": [
    "from funcs import *"
   ]
  },
  {
   "cell_type": "code",
   "execution_count": 245,
   "id": "c588871c-1f5a-4f6f-8dfb-40e8745b4b2d",
   "metadata": {},
   "outputs": [],
   "source": [
    "import torch.nn as nn\n",
    "import torch\n",
    "from torch.utils.data import TensorDataset, DataLoader\n",
    "from category_encoders import TargetEncoder\n",
    "from sklearn.preprocessing import OneHotEncoder, StandardScaler\n",
    "from sklearn.compose import ColumnTransformer, make_column_selector\n",
    "from sklearn.pipeline import Pipeline\n",
    "from sklearn.model_selection import train_test_split"
   ]
  },
  {
   "cell_type": "code",
   "execution_count": 3,
   "id": "30f6e33c-9042-4695-a091-bafdfa9c77e5",
   "metadata": {},
   "outputs": [
    {
     "data": {
      "text/html": [
       "<div>\n",
       "<style scoped>\n",
       "    .dataframe tbody tr th:only-of-type {\n",
       "        vertical-align: middle;\n",
       "    }\n",
       "\n",
       "    .dataframe tbody tr th {\n",
       "        vertical-align: top;\n",
       "    }\n",
       "\n",
       "    .dataframe thead th {\n",
       "        text-align: right;\n",
       "    }\n",
       "</style>\n",
       "<table border=\"1\" class=\"dataframe\">\n",
       "  <thead>\n",
       "    <tr style=\"text-align: right;\">\n",
       "      <th></th>\n",
       "      <th>id</th>\n",
       "      <th>plate</th>\n",
       "      <th>date</th>\n",
       "      <th>price</th>\n",
       "      <th>year</th>\n",
       "      <th>month</th>\n",
       "      <th>day_week</th>\n",
       "      <th>letters</th>\n",
       "      <th>numbers</th>\n",
       "      <th>region</th>\n",
       "      <th>dept_name</th>\n",
       "      <th>forb_buy</th>\n",
       "      <th>adv_road</th>\n",
       "      <th>significance</th>\n",
       "    </tr>\n",
       "  </thead>\n",
       "  <tbody>\n",
       "    <tr>\n",
       "      <th>0</th>\n",
       "      <td>1</td>\n",
       "      <td>X059CP797</td>\n",
       "      <td>2024-12-26 00:00:00</td>\n",
       "      <td>65000</td>\n",
       "      <td>2024</td>\n",
       "      <td>december</td>\n",
       "      <td>thursday</td>\n",
       "      <td>XCP</td>\n",
       "      <td>059</td>\n",
       "      <td>Москва</td>\n",
       "      <td>not governmental</td>\n",
       "      <td>0</td>\n",
       "      <td>0</td>\n",
       "      <td>0</td>\n",
       "    </tr>\n",
       "    <tr>\n",
       "      <th>1</th>\n",
       "      <td>2</td>\n",
       "      <td>Y800MH790</td>\n",
       "      <td>2024-07-12 21:31:37</td>\n",
       "      <td>100000</td>\n",
       "      <td>2024</td>\n",
       "      <td>july</td>\n",
       "      <td>friday</td>\n",
       "      <td>YMH</td>\n",
       "      <td>800</td>\n",
       "      <td>Московская область</td>\n",
       "      <td>not governmental</td>\n",
       "      <td>0</td>\n",
       "      <td>0</td>\n",
       "      <td>0</td>\n",
       "    </tr>\n",
       "    <tr>\n",
       "      <th>2</th>\n",
       "      <td>3</td>\n",
       "      <td>A212TX77</td>\n",
       "      <td>2024-04-18 00:00:00</td>\n",
       "      <td>290000</td>\n",
       "      <td>2024</td>\n",
       "      <td>april</td>\n",
       "      <td>thursday</td>\n",
       "      <td>ATX</td>\n",
       "      <td>212</td>\n",
       "      <td>Москва</td>\n",
       "      <td>not governmental</td>\n",
       "      <td>0</td>\n",
       "      <td>0</td>\n",
       "      <td>0</td>\n",
       "    </tr>\n",
       "    <tr>\n",
       "      <th>3</th>\n",
       "      <td>4</td>\n",
       "      <td>P001AY199</td>\n",
       "      <td>2025-01-03 00:27:15</td>\n",
       "      <td>680000</td>\n",
       "      <td>2025</td>\n",
       "      <td>january</td>\n",
       "      <td>friday</td>\n",
       "      <td>PAY</td>\n",
       "      <td>001</td>\n",
       "      <td>Москва</td>\n",
       "      <td>not governmental</td>\n",
       "      <td>0</td>\n",
       "      <td>0</td>\n",
       "      <td>0</td>\n",
       "    </tr>\n",
       "    <tr>\n",
       "      <th>4</th>\n",
       "      <td>5</td>\n",
       "      <td>P001AY199</td>\n",
       "      <td>2025-01-10 09:32:41</td>\n",
       "      <td>750000</td>\n",
       "      <td>2025</td>\n",
       "      <td>january</td>\n",
       "      <td>friday</td>\n",
       "      <td>PAY</td>\n",
       "      <td>001</td>\n",
       "      <td>Москва</td>\n",
       "      <td>not governmental</td>\n",
       "      <td>0</td>\n",
       "      <td>0</td>\n",
       "      <td>0</td>\n",
       "    </tr>\n",
       "    <tr>\n",
       "      <th>...</th>\n",
       "      <td>...</td>\n",
       "      <td>...</td>\n",
       "      <td>...</td>\n",
       "      <td>...</td>\n",
       "      <td>...</td>\n",
       "      <td>...</td>\n",
       "      <td>...</td>\n",
       "      <td>...</td>\n",
       "      <td>...</td>\n",
       "      <td>...</td>\n",
       "      <td>...</td>\n",
       "      <td>...</td>\n",
       "      <td>...</td>\n",
       "      <td>...</td>\n",
       "    </tr>\n",
       "    <tr>\n",
       "      <th>51630</th>\n",
       "      <td>51631</td>\n",
       "      <td>X023PP797</td>\n",
       "      <td>2025-01-29 00:00:00</td>\n",
       "      <td>70000</td>\n",
       "      <td>2025</td>\n",
       "      <td>january</td>\n",
       "      <td>wednesday</td>\n",
       "      <td>XPP</td>\n",
       "      <td>023</td>\n",
       "      <td>Москва</td>\n",
       "      <td>not governmental</td>\n",
       "      <td>0</td>\n",
       "      <td>0</td>\n",
       "      <td>0</td>\n",
       "    </tr>\n",
       "    <tr>\n",
       "      <th>51631</th>\n",
       "      <td>51632</td>\n",
       "      <td>M004KA161</td>\n",
       "      <td>2025-01-31 00:00:00</td>\n",
       "      <td>1600000</td>\n",
       "      <td>2025</td>\n",
       "      <td>january</td>\n",
       "      <td>friday</td>\n",
       "      <td>MKA</td>\n",
       "      <td>004</td>\n",
       "      <td>Ростовская область</td>\n",
       "      <td>not governmental</td>\n",
       "      <td>0</td>\n",
       "      <td>0</td>\n",
       "      <td>0</td>\n",
       "    </tr>\n",
       "    <tr>\n",
       "      <th>51632</th>\n",
       "      <td>51633</td>\n",
       "      <td>E888EB199</td>\n",
       "      <td>2025-02-06 00:00:00</td>\n",
       "      <td>850000</td>\n",
       "      <td>2025</td>\n",
       "      <td>february</td>\n",
       "      <td>thursday</td>\n",
       "      <td>EEB</td>\n",
       "      <td>888</td>\n",
       "      <td>Москва</td>\n",
       "      <td>not governmental</td>\n",
       "      <td>0</td>\n",
       "      <td>0</td>\n",
       "      <td>0</td>\n",
       "    </tr>\n",
       "    <tr>\n",
       "      <th>51633</th>\n",
       "      <td>51634</td>\n",
       "      <td>X023XK77</td>\n",
       "      <td>2024-04-24 11:30:07</td>\n",
       "      <td>150000</td>\n",
       "      <td>2024</td>\n",
       "      <td>april</td>\n",
       "      <td>wednesday</td>\n",
       "      <td>XXK</td>\n",
       "      <td>023</td>\n",
       "      <td>Москва</td>\n",
       "      <td>not governmental</td>\n",
       "      <td>0</td>\n",
       "      <td>0</td>\n",
       "      <td>0</td>\n",
       "    </tr>\n",
       "    <tr>\n",
       "      <th>51634</th>\n",
       "      <td>51635</td>\n",
       "      <td>K450OC797</td>\n",
       "      <td>2023-10-06 00:00:00</td>\n",
       "      <td>25000</td>\n",
       "      <td>2023</td>\n",
       "      <td>october</td>\n",
       "      <td>friday</td>\n",
       "      <td>KOC</td>\n",
       "      <td>450</td>\n",
       "      <td>Москва</td>\n",
       "      <td>not governmental</td>\n",
       "      <td>0</td>\n",
       "      <td>0</td>\n",
       "      <td>0</td>\n",
       "    </tr>\n",
       "  </tbody>\n",
       "</table>\n",
       "<p>51635 rows × 14 columns</p>\n",
       "</div>"
      ],
      "text/plain": [
       "          id      plate                date    price  year     month  \\\n",
       "0          1  X059CP797 2024-12-26 00:00:00    65000  2024  december   \n",
       "1          2  Y800MH790 2024-07-12 21:31:37   100000  2024      july   \n",
       "2          3   A212TX77 2024-04-18 00:00:00   290000  2024     april   \n",
       "3          4  P001AY199 2025-01-03 00:27:15   680000  2025   january   \n",
       "4          5  P001AY199 2025-01-10 09:32:41   750000  2025   january   \n",
       "...      ...        ...                 ...      ...   ...       ...   \n",
       "51630  51631  X023PP797 2025-01-29 00:00:00    70000  2025   january   \n",
       "51631  51632  M004KA161 2025-01-31 00:00:00  1600000  2025   january   \n",
       "51632  51633  E888EB199 2025-02-06 00:00:00   850000  2025  february   \n",
       "51633  51634   X023XK77 2024-04-24 11:30:07   150000  2024     april   \n",
       "51634  51635  K450OC797 2023-10-06 00:00:00    25000  2023   october   \n",
       "\n",
       "        day_week letters numbers              region         dept_name  \\\n",
       "0       thursday     XCP     059              Москва  not governmental   \n",
       "1         friday     YMH     800  Московская область  not governmental   \n",
       "2       thursday     ATX     212              Москва  not governmental   \n",
       "3         friday     PAY     001              Москва  not governmental   \n",
       "4         friday     PAY     001              Москва  not governmental   \n",
       "...          ...     ...     ...                 ...               ...   \n",
       "51630  wednesday     XPP     023              Москва  not governmental   \n",
       "51631     friday     MKA     004  Ростовская область  not governmental   \n",
       "51632   thursday     EEB     888              Москва  not governmental   \n",
       "51633  wednesday     XXK     023              Москва  not governmental   \n",
       "51634     friday     KOC     450              Москва  not governmental   \n",
       "\n",
       "       forb_buy  adv_road  significance  \n",
       "0             0         0             0  \n",
       "1             0         0             0  \n",
       "2             0         0             0  \n",
       "3             0         0             0  \n",
       "4             0         0             0  \n",
       "...         ...       ...           ...  \n",
       "51630         0         0             0  \n",
       "51631         0         0             0  \n",
       "51632         0         0             0  \n",
       "51633         0         0             0  \n",
       "51634         0         0             0  \n",
       "\n",
       "[51635 rows x 14 columns]"
      ]
     },
     "execution_count": 3,
     "metadata": {},
     "output_type": "execute_result"
    }
   ],
   "source": [
    "df = wrangle(\"train.csv\")\n",
    "df"
   ]
  },
  {
   "cell_type": "code",
   "execution_count": 253,
   "id": "891d696b-de93-4b8d-910b-e407a7c9b9c6",
   "metadata": {},
   "outputs": [
    {
     "data": {
      "text/html": [
       "<div>\n",
       "<style scoped>\n",
       "    .dataframe tbody tr th:only-of-type {\n",
       "        vertical-align: middle;\n",
       "    }\n",
       "\n",
       "    .dataframe tbody tr th {\n",
       "        vertical-align: top;\n",
       "    }\n",
       "\n",
       "    .dataframe thead th {\n",
       "        text-align: right;\n",
       "    }\n",
       "</style>\n",
       "<table border=\"1\" class=\"dataframe\">\n",
       "  <thead>\n",
       "    <tr style=\"text-align: right;\">\n",
       "      <th></th>\n",
       "      <th>year</th>\n",
       "      <th>month</th>\n",
       "      <th>day_week</th>\n",
       "      <th>letters</th>\n",
       "      <th>numbers</th>\n",
       "      <th>region</th>\n",
       "      <th>forb_buy</th>\n",
       "      <th>adv_road</th>\n",
       "      <th>significance</th>\n",
       "    </tr>\n",
       "  </thead>\n",
       "  <tbody>\n",
       "    <tr>\n",
       "      <th>0</th>\n",
       "      <td>2024</td>\n",
       "      <td>december</td>\n",
       "      <td>thursday</td>\n",
       "      <td>XCP</td>\n",
       "      <td>059</td>\n",
       "      <td>Москва</td>\n",
       "      <td>0</td>\n",
       "      <td>0</td>\n",
       "      <td>0</td>\n",
       "    </tr>\n",
       "    <tr>\n",
       "      <th>1</th>\n",
       "      <td>2024</td>\n",
       "      <td>july</td>\n",
       "      <td>friday</td>\n",
       "      <td>YMH</td>\n",
       "      <td>800</td>\n",
       "      <td>Московская область</td>\n",
       "      <td>0</td>\n",
       "      <td>0</td>\n",
       "      <td>0</td>\n",
       "    </tr>\n",
       "    <tr>\n",
       "      <th>2</th>\n",
       "      <td>2024</td>\n",
       "      <td>april</td>\n",
       "      <td>thursday</td>\n",
       "      <td>ATX</td>\n",
       "      <td>212</td>\n",
       "      <td>Москва</td>\n",
       "      <td>0</td>\n",
       "      <td>0</td>\n",
       "      <td>0</td>\n",
       "    </tr>\n",
       "    <tr>\n",
       "      <th>3</th>\n",
       "      <td>2025</td>\n",
       "      <td>january</td>\n",
       "      <td>friday</td>\n",
       "      <td>PAY</td>\n",
       "      <td>001</td>\n",
       "      <td>Москва</td>\n",
       "      <td>0</td>\n",
       "      <td>0</td>\n",
       "      <td>0</td>\n",
       "    </tr>\n",
       "    <tr>\n",
       "      <th>4</th>\n",
       "      <td>2025</td>\n",
       "      <td>january</td>\n",
       "      <td>friday</td>\n",
       "      <td>PAY</td>\n",
       "      <td>001</td>\n",
       "      <td>Москва</td>\n",
       "      <td>0</td>\n",
       "      <td>0</td>\n",
       "      <td>0</td>\n",
       "    </tr>\n",
       "    <tr>\n",
       "      <th>...</th>\n",
       "      <td>...</td>\n",
       "      <td>...</td>\n",
       "      <td>...</td>\n",
       "      <td>...</td>\n",
       "      <td>...</td>\n",
       "      <td>...</td>\n",
       "      <td>...</td>\n",
       "      <td>...</td>\n",
       "      <td>...</td>\n",
       "    </tr>\n",
       "    <tr>\n",
       "      <th>51630</th>\n",
       "      <td>2025</td>\n",
       "      <td>january</td>\n",
       "      <td>wednesday</td>\n",
       "      <td>XPP</td>\n",
       "      <td>023</td>\n",
       "      <td>Москва</td>\n",
       "      <td>0</td>\n",
       "      <td>0</td>\n",
       "      <td>0</td>\n",
       "    </tr>\n",
       "    <tr>\n",
       "      <th>51631</th>\n",
       "      <td>2025</td>\n",
       "      <td>january</td>\n",
       "      <td>friday</td>\n",
       "      <td>MKA</td>\n",
       "      <td>004</td>\n",
       "      <td>Ростовская область</td>\n",
       "      <td>0</td>\n",
       "      <td>0</td>\n",
       "      <td>0</td>\n",
       "    </tr>\n",
       "    <tr>\n",
       "      <th>51632</th>\n",
       "      <td>2025</td>\n",
       "      <td>february</td>\n",
       "      <td>thursday</td>\n",
       "      <td>EEB</td>\n",
       "      <td>888</td>\n",
       "      <td>Москва</td>\n",
       "      <td>0</td>\n",
       "      <td>0</td>\n",
       "      <td>0</td>\n",
       "    </tr>\n",
       "    <tr>\n",
       "      <th>51633</th>\n",
       "      <td>2024</td>\n",
       "      <td>april</td>\n",
       "      <td>wednesday</td>\n",
       "      <td>XXK</td>\n",
       "      <td>023</td>\n",
       "      <td>Москва</td>\n",
       "      <td>0</td>\n",
       "      <td>0</td>\n",
       "      <td>0</td>\n",
       "    </tr>\n",
       "    <tr>\n",
       "      <th>51634</th>\n",
       "      <td>2023</td>\n",
       "      <td>october</td>\n",
       "      <td>friday</td>\n",
       "      <td>KOC</td>\n",
       "      <td>450</td>\n",
       "      <td>Москва</td>\n",
       "      <td>0</td>\n",
       "      <td>0</td>\n",
       "      <td>0</td>\n",
       "    </tr>\n",
       "  </tbody>\n",
       "</table>\n",
       "<p>51635 rows × 9 columns</p>\n",
       "</div>"
      ],
      "text/plain": [
       "       year     month   day_week letters numbers              region  \\\n",
       "0      2024  december   thursday     XCP     059              Москва   \n",
       "1      2024      july     friday     YMH     800  Московская область   \n",
       "2      2024     april   thursday     ATX     212              Москва   \n",
       "3      2025   january     friday     PAY     001              Москва   \n",
       "4      2025   january     friday     PAY     001              Москва   \n",
       "...     ...       ...        ...     ...     ...                 ...   \n",
       "51630  2025   january  wednesday     XPP     023              Москва   \n",
       "51631  2025   january     friday     MKA     004  Ростовская область   \n",
       "51632  2025  february   thursday     EEB     888              Москва   \n",
       "51633  2024     april  wednesday     XXK     023              Москва   \n",
       "51634  2023   october     friday     KOC     450              Москва   \n",
       "\n",
       "       forb_buy  adv_road  significance  \n",
       "0             0         0             0  \n",
       "1             0         0             0  \n",
       "2             0         0             0  \n",
       "3             0         0             0  \n",
       "4             0         0             0  \n",
       "...         ...       ...           ...  \n",
       "51630         0         0             0  \n",
       "51631         0         0             0  \n",
       "51632         0         0             0  \n",
       "51633         0         0             0  \n",
       "51634         0         0             0  \n",
       "\n",
       "[51635 rows x 9 columns]"
      ]
     },
     "execution_count": 253,
     "metadata": {},
     "output_type": "execute_result"
    }
   ],
   "source": [
    "X = df.drop([\"id\", \"plate\", \"date\", \"dept_name\", \"price\"], axis=1)\n",
    "X"
   ]
  },
  {
   "cell_type": "code",
   "execution_count": 254,
   "id": "284f94bf-bfd4-471a-88f7-d051c36647f1",
   "metadata": {},
   "outputs": [
    {
     "data": {
      "text/plain": [
       "array([[ 0.        ,  0.        ,  0.        , ..., -0.00762257,\n",
       "        -0.10824504, -0.10289599],\n",
       "       [ 0.        ,  0.        ,  0.        , ..., -0.00762257,\n",
       "        -0.10824504, -0.10289599],\n",
       "       [ 0.        ,  0.        ,  0.        , ..., -0.00762257,\n",
       "        -0.10824504, -0.10289599],\n",
       "       ...,\n",
       "       [ 0.        ,  0.        ,  0.        , ..., -0.00762257,\n",
       "        -0.10824504, -0.10289599],\n",
       "       [ 0.        ,  0.        ,  0.        , ..., -0.00762257,\n",
       "        -0.10824504, -0.10289599],\n",
       "       [ 0.        ,  0.        ,  1.        , ..., -0.00762257,\n",
       "        -0.10824504, -0.10289599]])"
      ]
     },
     "execution_count": 254,
     "metadata": {},
     "output_type": "execute_result"
    }
   ],
   "source": [
    "ct = ColumnTransformer([\n",
    "    (\"ohe\", OneHotEncoder(), [\"year\", \"month\", \"day_week\", \"letters\", \"numbers\", \"region\"]),\n",
    "    (\"ss\", StandardScaler(), make_column_selector(dtype_include=np.number))\n",
    "],\n",
    "    remainder=\"passthrough\"\n",
    ")\n",
    "\n",
    "X = ct.fit_transform(X).toarray()\n",
    "X"
   ]
  },
  {
   "cell_type": "code",
   "execution_count": 288,
   "id": "1ab5d7d4-f562-4fde-8568-84655f4a04da",
   "metadata": {},
   "outputs": [
    {
     "data": {
      "text/plain": [
       "0          65000\n",
       "1         100000\n",
       "2         290000\n",
       "3         680000\n",
       "4         750000\n",
       "          ...   \n",
       "51630      70000\n",
       "51631    1600000\n",
       "51632     850000\n",
       "51633     150000\n",
       "51634      25000\n",
       "Name: price, Length: 51635, dtype: int64"
      ]
     },
     "execution_count": 288,
     "metadata": {},
     "output_type": "execute_result"
    }
   ],
   "source": [
    "y = df[\"price\"]\n",
    "y"
   ]
  },
  {
   "cell_type": "code",
   "execution_count": 289,
   "id": "dc498b84-2fee-4989-ba08-5071803b4c4e",
   "metadata": {},
   "outputs": [],
   "source": [
    "X_train, X_val, y_train, y_val = train_test_split(X, y, random_state=42, test_size=0.2)"
   ]
  },
  {
   "cell_type": "code",
   "execution_count": 290,
   "id": "be656007-8b23-40bd-aff3-2de33eab57ec",
   "metadata": {},
   "outputs": [
    {
     "ename": "AttributeError",
     "evalue": "'numpy.ndarray' object has no attribute 'values'",
     "output_type": "error",
     "traceback": [
      "\u001b[1;31m---------------------------------------------------------------------------\u001b[0m",
      "\u001b[1;31mAttributeError\u001b[0m                            Traceback (most recent call last)",
      "\u001b[1;32m~\\AppData\\Local\\Temp\\ipykernel_8620\\2470745567.py\u001b[0m in \u001b[0;36m<module>\u001b[1;34m\u001b[0m\n\u001b[1;32m----> 1\u001b[1;33m \u001b[0mX_train\u001b[0m \u001b[1;33m=\u001b[0m \u001b[0mtorch\u001b[0m\u001b[1;33m.\u001b[0m\u001b[0mtensor\u001b[0m\u001b[1;33m(\u001b[0m\u001b[0mX_train\u001b[0m\u001b[1;33m.\u001b[0m\u001b[0mvalues\u001b[0m\u001b[1;33m,\u001b[0m \u001b[0mdtype\u001b[0m\u001b[1;33m=\u001b[0m\u001b[0mtorch\u001b[0m\u001b[1;33m.\u001b[0m\u001b[0mfloat32\u001b[0m\u001b[1;33m)\u001b[0m\u001b[1;33m\u001b[0m\u001b[1;33m\u001b[0m\u001b[0m\n\u001b[0m\u001b[0;32m      2\u001b[0m \u001b[0mX_val\u001b[0m \u001b[1;33m=\u001b[0m \u001b[0mtorch\u001b[0m\u001b[1;33m.\u001b[0m\u001b[0mtensor\u001b[0m\u001b[1;33m(\u001b[0m\u001b[0mX_val\u001b[0m\u001b[1;33m.\u001b[0m\u001b[0mvalues\u001b[0m\u001b[1;33m,\u001b[0m \u001b[0mdtype\u001b[0m\u001b[1;33m=\u001b[0m\u001b[0mtorch\u001b[0m\u001b[1;33m.\u001b[0m\u001b[0mfloat32\u001b[0m\u001b[1;33m)\u001b[0m\u001b[1;33m\u001b[0m\u001b[1;33m\u001b[0m\u001b[0m\n\u001b[0;32m      3\u001b[0m \u001b[0mX_train\u001b[0m\u001b[1;33m.\u001b[0m\u001b[0mshape\u001b[0m\u001b[1;33m\u001b[0m\u001b[1;33m\u001b[0m\u001b[0m\n",
      "\u001b[1;31mAttributeError\u001b[0m: 'numpy.ndarray' object has no attribute 'values'"
     ]
    }
   ],
   "source": [
    "X_train = torch.tensor(X_train.values, dtype=torch.float32)\n",
    "X_val = torch.tensor(X_val.values, dtype=torch.float32)\n",
    "X_train.shape"
   ]
  },
  {
   "cell_type": "code",
   "execution_count": 291,
   "id": "8ace4d79-6ba9-4f97-9113-8eecd787c326",
   "metadata": {},
   "outputs": [
    {
     "data": {
      "text/plain": [
       "torch.Size([41308])"
      ]
     },
     "execution_count": 291,
     "metadata": {},
     "output_type": "execute_result"
    }
   ],
   "source": [
    "y_train = torch.tensor(y_train.values, dtype=torch.float32)\n",
    "y_val = torch.tensor(y_val.values, dtype=torch.float32)\n",
    "y_train.shape"
   ]
  },
  {
   "cell_type": "code",
   "execution_count": 172,
   "id": "3ca120ca-4e03-46e3-b174-9963a2538d3a",
   "metadata": {},
   "outputs": [],
   "source": [
    "train_ds = TensorDataset(X_train, y_train)\n",
    "val_ds = TensorDataset(X_val, y_val)"
   ]
  },
  {
   "cell_type": "code",
   "execution_count": 10,
   "id": "717aa0a7-4011-49f5-b9da-c4572b27059c",
   "metadata": {},
   "outputs": [
    {
     "data": {
      "text/plain": [
       "<torch._C.Generator at 0x16304a437b0>"
      ]
     },
     "execution_count": 10,
     "metadata": {},
     "output_type": "execute_result"
    }
   ],
   "source": [
    "torch.manual_seed(42)"
   ]
  },
  {
   "cell_type": "code",
   "execution_count": 173,
   "id": "bb1a8082-2303-487c-b9aa-5be1e87ed1e1",
   "metadata": {},
   "outputs": [
    {
     "data": {
      "text/plain": [
       "<torch.utils.data.dataloader.DataLoader at 0x16320565bb0>"
      ]
     },
     "execution_count": 173,
     "metadata": {},
     "output_type": "execute_result"
    }
   ],
   "source": [
    "train_dl = DataLoader(train_ds, batch_size=256, shuffle=True)\n",
    "val_dl = DataLoader(val_ds, batch_size=256, shuffle=False)\n",
    "train_dl"
   ]
  },
  {
   "cell_type": "code",
   "execution_count": 57,
   "id": "cf93cfbb-db8b-4a58-b448-36d9b58c3cf9",
   "metadata": {},
   "outputs": [],
   "source": [
    "device = \"cpu\""
   ]
  },
  {
   "cell_type": "code",
   "execution_count": 215,
   "id": "7f4299f7-c519-4552-b322-65b3ea9d7d0e",
   "metadata": {},
   "outputs": [
    {
     "data": {
      "text/plain": [
       "Sequential(\n",
       "  (ll1): Linear(in_features=2842, out_features=700, bias=True)\n",
       "  (relu1): ReLU()\n",
       "  (dropout1): Dropout(p=0.5, inplace=False)\n",
       "  (ll2): Linear(in_features=700, out_features=700, bias=True)\n",
       "  (relu2): ReLU()\n",
       "  (dropout2): Dropout(p=0.5, inplace=False)\n",
       "  (ll3): Linear(in_features=700, out_features=1, bias=True)\n",
       ")"
      ]
     },
     "execution_count": 215,
     "metadata": {},
     "output_type": "execute_result"
    }
   ],
   "source": [
    "model = nn.Sequential()\n",
    "model.add_module(\n",
    "    \"ll1\",\n",
    "    nn.Linear(\n",
    "        in_features=X_train.shape[1], out_features=700\n",
    "    )\n",
    ")\n",
    "model.add_module(\"relu1\", nn.ReLU())\n",
    "model.add_module(\"dropout1\", nn.Dropout(p=0.5))\n",
    "model.add_module(\n",
    "    \"ll2\",\n",
    "    nn.Linear(\n",
    "        in_features=700, out_features=700\n",
    "    )\n",
    ")\n",
    "model.add_module(\"relu2\", nn.ReLU())\n",
    "model.add_module(\"dropout2\", nn.Dropout(p=0.5))\n",
    "model.add_module(\n",
    "    \"ll3\",\n",
    "    nn.Linear(\n",
    "        in_features=700, out_features=1\n",
    "    )\n",
    ")\n",
    "model.to(device)\n",
    "model"
   ]
  },
  {
   "cell_type": "code",
   "execution_count": 216,
   "id": "0146558b-82fa-41e5-a18a-fc50a40e4c8b",
   "metadata": {},
   "outputs": [],
   "source": [
    "for layer in model.children():\n",
    "   if hasattr(layer, 'reset_parameters'):\n",
    "       layer.reset_parameters()"
   ]
  },
  {
   "cell_type": "code",
   "execution_count": 203,
   "id": "87487478-87c8-4bd6-b707-34fa3995476d",
   "metadata": {},
   "outputs": [
    {
     "data": {
      "text/plain": [
       "<bound method Module.parameters of Sequential(\n",
       "  (ll1): Linear(in_features=2842, out_features=1400, bias=True)\n",
       "  (relu1): ReLU()\n",
       "  (dropout1): Dropout(p=0.5, inplace=False)\n",
       "  (ll2): Linear(in_features=1400, out_features=1400, bias=True)\n",
       "  (relu2): ReLU()\n",
       "  (dropout2): Dropout(p=0.5, inplace=False)\n",
       "  (ll3): Linear(in_features=1400, out_features=1, bias=True)\n",
       ")>"
      ]
     },
     "execution_count": 203,
     "metadata": {},
     "output_type": "execute_result"
    }
   ],
   "source": [
    "model.parameters"
   ]
  },
  {
   "cell_type": "code",
   "execution_count": 217,
   "id": "bac779c8-c31c-4ef0-937c-06950e00c982",
   "metadata": {},
   "outputs": [],
   "source": [
    "loss_fn = nn.MSELoss()\n",
    "optimizer = torch.optim.Adam(model.parameters(), lr=0.00003)"
   ]
  },
  {
   "cell_type": "code",
   "execution_count": 82,
   "id": "69efea40-0a07-4de0-907c-16f7d34bacc7",
   "metadata": {},
   "outputs": [
    {
     "data": {
      "text/plain": [
       "41308"
      ]
     },
     "execution_count": 82,
     "metadata": {},
     "output_type": "execute_result"
    }
   ],
   "source": [
    "len(train_dl.dataset)"
   ]
  },
  {
   "cell_type": "code",
   "execution_count": 218,
   "id": "8d2dca1b-5844-4447-8ab4-b94d2dc49556",
   "metadata": {},
   "outputs": [],
   "source": [
    "def train(model, n_epochs, train_dl, val_dl):\n",
    "    loss_hist_train = [0] * n_epochs\n",
    "    loss_hist_val = [0] * n_epochs\n",
    "    for epoch in range(n_epochs):\n",
    "        model.train()\n",
    "        for x_batch, y_batch in train_dl:\n",
    "            pred = model(x_batch)[:, 0]\n",
    "            loss = loss_fn(pred, y_batch)\n",
    "            loss.backward()\n",
    "            optimizer.step()\n",
    "            optimizer.zero_grad()\n",
    "            loss_hist_train[epoch] += loss.item() * y_batch.size(0)\n",
    "        loss_hist_train[epoch] = loss_hist_train[epoch] / len(train_dl.dataset)\n",
    "        model.eval()\n",
    "        with torch.no_grad():\n",
    "            for x_batch, y_batch in val_dl:\n",
    "                pred = model(x_batch)[:, 0]\n",
    "                loss = loss_fn(pred, y_batch)\n",
    "                loss_hist_val[epoch] = loss.item() * y_batch.size(0)\n",
    "        loss_hist_val[epoch] = loss_hist_val[epoch] / len(val_dl.dataset)\n",
    "        if epoch % 10 == 0:\n",
    "                print(f\"Epoch: {epoch}, Training loss: {loss_hist_train[epoch]}, Validation Loss: {loss_hist_val[epoch]}\")\n",
    "    return loss_hist_train, loss_hist_val                "
   ]
  },
  {
   "cell_type": "code",
   "execution_count": 219,
   "id": "2ba4dcbf-ae6b-4156-821a-31282839749e",
   "metadata": {},
   "outputs": [
    {
     "name": "stdout",
     "output_type": "stream",
     "text": [
      "Epoch: 0, Training loss: 3517148506815.8203, Validation Loss: 1520886457.2758787\n",
      "Epoch: 10, Training loss: 3513985452815.9395, Validation Loss: 1510108456.9768567\n",
      "Epoch: 20, Training loss: 3499569292791.0264, Validation Loss: 1467408191.2377264\n",
      "Epoch: 30, Training loss: 3471425454805.04, Validation Loss: 1391277573.701559\n",
      "Epoch: 40, Training loss: 3430104646325.3096, Validation Loss: 1291265471.498015\n",
      "Epoch: 50, Training loss: 3377394507086.6567, Validation Loss: 1185311155.6982667\n",
      "Epoch: 60, Training loss: 3316521366883.8765, Validation Loss: 1100983510.4777768\n",
      "Epoch: 70, Training loss: 3252493629360.4756, Validation Loss: 1070346279.2663891\n",
      "Epoch: 80, Training loss: 3195361196008.004, Validation Loss: 1117823325.0345695\n",
      "Epoch: 90, Training loss: 3145983222593.717, Validation Loss: 1246471331.510797\n"
     ]
    }
   ],
   "source": [
    "n_epochs = 100\n",
    "hist = train(model, n_epochs, train_dl, val_dl)"
   ]
  },
  {
   "cell_type": "code",
   "execution_count": 220,
   "id": "6df4a55e-a072-4baa-b3b8-ebb943011376",
   "metadata": {},
   "outputs": [
    {
     "data": {
      "text/plain": [
       "<matplotlib.legend.Legend at 0x1632067deb0>"
      ]
     },
     "execution_count": 220,
     "metadata": {},
     "output_type": "execute_result"
    },
    {
     "data": {
      "image/png": "[encoded data removed]",
      "text/plain": [
       "<Figure size 720x360 with 1 Axes>"
      ]
     },
     "metadata": {
      "needs_background": "light"
     },
     "output_type": "display_data"
    }
   ],
   "source": [
    "fig, ax = plt.subplots(figsize=(10, 5))\n",
    "#ax.plot(range(1, n_epochs + 1), hist[0], label=\"train\")\n",
    "ax.plot(range(1, n_epochs + 1), hist[1], label=\"validation\")\n",
    "#ax.set_yscale('log')\n",
    "ax.legend()"
   ]
  },
  {
   "cell_type": "code",
   "execution_count": 146,
   "id": "97346c70-52ac-4a1a-b42c-8f220631ac70",
   "metadata": {},
   "outputs": [
    {
     "name": "stderr",
     "output_type": "stream",
     "text": [
      "C:\\Users\\User\\AppData\\Local\\Temp\\ipykernel_8620\\1944200889.py:2: UserWarning: To copy construct from a tensor, it is recommended to use sourceTensor.clone().detach() or sourceTensor.clone().detach().requires_grad_(True), rather than torch.tensor(sourceTensor).\n",
      "  pred = model(torch.tensor(X_val, dtype=torch.float32)).detach()\n"
     ]
    },
    {
     "data": {
      "text/plain": [
       "tensor([[337429.0000],\n",
       "        [231025.8438],\n",
       "        [248251.2969],\n",
       "        ...,\n",
       "        [237181.5625],\n",
       "        [842437.6250],\n",
       "        [267870.4375]])"
      ]
     },
     "execution_count": 146,
     "metadata": {},
     "output_type": "execute_result"
    }
   ],
   "source": [
    "#model.eval()\n",
    "pred = model(torch.tensor(X_val, dtype=torch.float32)).detach()\n",
    "pred"
   ]
  },
  {
   "cell_type": "code",
   "execution_count": 147,
   "id": "837293a9-c223-4e52-9ac7-e00707b5ac0e",
   "metadata": {},
   "outputs": [
    {
     "data": {
      "text/plain": [
       "tensor([[  35000.],\n",
       "        [  65000.],\n",
       "        [1200000.],\n",
       "        ...,\n",
       "        [  80000.],\n",
       "        [ 250000.],\n",
       "        [  80000.]])"
      ]
     },
     "execution_count": 147,
     "metadata": {},
     "output_type": "execute_result"
    }
   ],
   "source": [
    "y_val.resize_(len(pred), 1)"
   ]
  },
  {
   "cell_type": "code",
   "execution_count": 197,
   "id": "fd73f44d-bfcf-4980-ac80-e74fafb023aa",
   "metadata": {},
   "outputs": [],
   "source": [
    "from funcs import smape_torch"
   ]
  },
  {
   "cell_type": "code",
   "execution_count": 292,
   "id": "4bf31cfb-62f3-4d03-8f3f-9fdeb543d0e4",
   "metadata": {},
   "outputs": [
    {
     "data": {
      "text/plain": [
       "185.4823455810547"
      ]
     },
     "execution_count": 292,
     "metadata": {},
     "output_type": "execute_result"
    }
   ],
   "source": [
    "smape_torch(model, X_val, y_val)"
   ]
  },
  {
   "cell_type": "code",
   "execution_count": 199,
   "id": "f74ac3b0-9dc0-4111-a9f8-2c6eb69d9b7d",
   "metadata": {},
   "outputs": [],
   "source": [
    "def smape_torch(model, X, y):\n",
    "    pred = model(torch.tensor(X, dtype=torch.float32))\n",
    "    val = y.resize_(X.shape[0], 1).detach().clone()\n",
    "    return (torch.sum(torch.abs(pred - val) / (torch.abs(val) + torch.abs(pred)) * 2) * 100 / len(pred)).item()"
   ]
  },
  {
   "cell_type": "code",
   "execution_count": 262,
   "id": "83a74a4b-11a1-481b-bc89-dd2cf336b42d",
   "metadata": {},
   "outputs": [
    {
     "data": {
      "text/html": [
       "<div>\n",
       "<style scoped>\n",
       "    .dataframe tbody tr th:only-of-type {\n",
       "        vertical-align: middle;\n",
       "    }\n",
       "\n",
       "    .dataframe tbody tr th {\n",
       "        vertical-align: top;\n",
       "    }\n",
       "\n",
       "    .dataframe thead th {\n",
       "        text-align: right;\n",
       "    }\n",
       "</style>\n",
       "<table border=\"1\" class=\"dataframe\">\n",
       "  <thead>\n",
       "    <tr style=\"text-align: right;\">\n",
       "      <th></th>\n",
       "      <th>id</th>\n",
       "      <th>plate</th>\n",
       "      <th>date</th>\n",
       "      <th>price</th>\n",
       "      <th>year</th>\n",
       "      <th>month</th>\n",
       "      <th>day_week</th>\n",
       "      <th>letters</th>\n",
       "      <th>numbers</th>\n",
       "      <th>region</th>\n",
       "      <th>dept_name</th>\n",
       "      <th>forb_buy</th>\n",
       "      <th>adv_road</th>\n",
       "      <th>significance</th>\n",
       "    </tr>\n",
       "  </thead>\n",
       "  <tbody>\n",
       "    <tr>\n",
       "      <th>0</th>\n",
       "      <td>51636</td>\n",
       "      <td>P700TT790</td>\n",
       "      <td>2025-01-27 00:00:00</td>\n",
       "      <td>NaN</td>\n",
       "      <td>2025</td>\n",
       "      <td>january</td>\n",
       "      <td>monday</td>\n",
       "      <td>PTT</td>\n",
       "      <td>700</td>\n",
       "      <td>Московская область</td>\n",
       "      <td>not governmental</td>\n",
       "      <td>0</td>\n",
       "      <td>0</td>\n",
       "      <td>0</td>\n",
       "    </tr>\n",
       "    <tr>\n",
       "      <th>1</th>\n",
       "      <td>51637</td>\n",
       "      <td>M081TX797</td>\n",
       "      <td>2025-02-10 00:00:00</td>\n",
       "      <td>NaN</td>\n",
       "      <td>2025</td>\n",
       "      <td>february</td>\n",
       "      <td>monday</td>\n",
       "      <td>MTX</td>\n",
       "      <td>081</td>\n",
       "      <td>Москва</td>\n",
       "      <td>not governmental</td>\n",
       "      <td>0</td>\n",
       "      <td>0</td>\n",
       "      <td>0</td>\n",
       "    </tr>\n",
       "    <tr>\n",
       "      <th>2</th>\n",
       "      <td>51638</td>\n",
       "      <td>T333HX777</td>\n",
       "      <td>2025-02-11 00:00:00</td>\n",
       "      <td>NaN</td>\n",
       "      <td>2025</td>\n",
       "      <td>february</td>\n",
       "      <td>tuesday</td>\n",
       "      <td>THX</td>\n",
       "      <td>333</td>\n",
       "      <td>Москва</td>\n",
       "      <td>not governmental</td>\n",
       "      <td>0</td>\n",
       "      <td>0</td>\n",
       "      <td>0</td>\n",
       "    </tr>\n",
       "    <tr>\n",
       "      <th>3</th>\n",
       "      <td>51639</td>\n",
       "      <td>H744BH977</td>\n",
       "      <td>2025-02-03 00:00:00</td>\n",
       "      <td>NaN</td>\n",
       "      <td>2025</td>\n",
       "      <td>february</td>\n",
       "      <td>monday</td>\n",
       "      <td>HBH</td>\n",
       "      <td>744</td>\n",
       "      <td>Москва</td>\n",
       "      <td>not governmental</td>\n",
       "      <td>0</td>\n",
       "      <td>0</td>\n",
       "      <td>0</td>\n",
       "    </tr>\n",
       "    <tr>\n",
       "      <th>4</th>\n",
       "      <td>51640</td>\n",
       "      <td>X066EM777</td>\n",
       "      <td>2025-02-12 00:00:00</td>\n",
       "      <td>NaN</td>\n",
       "      <td>2025</td>\n",
       "      <td>february</td>\n",
       "      <td>wednesday</td>\n",
       "      <td>XEM</td>\n",
       "      <td>066</td>\n",
       "      <td>Москва</td>\n",
       "      <td>not governmental</td>\n",
       "      <td>0</td>\n",
       "      <td>0</td>\n",
       "      <td>0</td>\n",
       "    </tr>\n",
       "    <tr>\n",
       "      <th>...</th>\n",
       "      <td>...</td>\n",
       "      <td>...</td>\n",
       "      <td>...</td>\n",
       "      <td>...</td>\n",
       "      <td>...</td>\n",
       "      <td>...</td>\n",
       "      <td>...</td>\n",
       "      <td>...</td>\n",
       "      <td>...</td>\n",
       "      <td>...</td>\n",
       "      <td>...</td>\n",
       "      <td>...</td>\n",
       "      <td>...</td>\n",
       "      <td>...</td>\n",
       "    </tr>\n",
       "    <tr>\n",
       "      <th>7690</th>\n",
       "      <td>59326</td>\n",
       "      <td>X799CC799</td>\n",
       "      <td>2023-03-13 00:00:00</td>\n",
       "      <td>NaN</td>\n",
       "      <td>2023</td>\n",
       "      <td>march</td>\n",
       "      <td>monday</td>\n",
       "      <td>XCC</td>\n",
       "      <td>799</td>\n",
       "      <td>Москва</td>\n",
       "      <td>not governmental</td>\n",
       "      <td>0</td>\n",
       "      <td>0</td>\n",
       "      <td>0</td>\n",
       "    </tr>\n",
       "    <tr>\n",
       "      <th>7691</th>\n",
       "      <td>59327</td>\n",
       "      <td>K077YT777</td>\n",
       "      <td>2022-10-19 00:00:00</td>\n",
       "      <td>NaN</td>\n",
       "      <td>2022</td>\n",
       "      <td>october</td>\n",
       "      <td>wednesday</td>\n",
       "      <td>KYT</td>\n",
       "      <td>077</td>\n",
       "      <td>Москва</td>\n",
       "      <td>not governmental</td>\n",
       "      <td>0</td>\n",
       "      <td>0</td>\n",
       "      <td>0</td>\n",
       "    </tr>\n",
       "    <tr>\n",
       "      <th>7692</th>\n",
       "      <td>59328</td>\n",
       "      <td>O200PA777</td>\n",
       "      <td>2023-10-02 19:19:30</td>\n",
       "      <td>NaN</td>\n",
       "      <td>2023</td>\n",
       "      <td>october</td>\n",
       "      <td>monday</td>\n",
       "      <td>OPA</td>\n",
       "      <td>200</td>\n",
       "      <td>Москва</td>\n",
       "      <td>not governmental</td>\n",
       "      <td>0</td>\n",
       "      <td>0</td>\n",
       "      <td>0</td>\n",
       "    </tr>\n",
       "    <tr>\n",
       "      <th>7693</th>\n",
       "      <td>59329</td>\n",
       "      <td>O073OO97</td>\n",
       "      <td>2025-01-12 00:00:00</td>\n",
       "      <td>NaN</td>\n",
       "      <td>2025</td>\n",
       "      <td>january</td>\n",
       "      <td>sunday</td>\n",
       "      <td>OOO</td>\n",
       "      <td>073</td>\n",
       "      <td>Москва</td>\n",
       "      <td>not governmental</td>\n",
       "      <td>0</td>\n",
       "      <td>0</td>\n",
       "      <td>0</td>\n",
       "    </tr>\n",
       "    <tr>\n",
       "      <th>7694</th>\n",
       "      <td>59330</td>\n",
       "      <td>A666YE790</td>\n",
       "      <td>2025-01-13 00:00:00</td>\n",
       "      <td>NaN</td>\n",
       "      <td>2025</td>\n",
       "      <td>january</td>\n",
       "      <td>monday</td>\n",
       "      <td>AYE</td>\n",
       "      <td>666</td>\n",
       "      <td>Московская область</td>\n",
       "      <td>not governmental</td>\n",
       "      <td>0</td>\n",
       "      <td>0</td>\n",
       "      <td>0</td>\n",
       "    </tr>\n",
       "  </tbody>\n",
       "</table>\n",
       "<p>7695 rows × 14 columns</p>\n",
       "</div>"
      ],
      "text/plain": [
       "         id      plate                date  price  year     month   day_week  \\\n",
       "0     51636  P700TT790 2025-01-27 00:00:00    NaN  2025   january     monday   \n",
       "1     51637  M081TX797 2025-02-10 00:00:00    NaN  2025  february     monday   \n",
       "2     51638  T333HX777 2025-02-11 00:00:00    NaN  2025  february    tuesday   \n",
       "3     51639  H744BH977 2025-02-03 00:00:00    NaN  2025  february     monday   \n",
       "4     51640  X066EM777 2025-02-12 00:00:00    NaN  2025  february  wednesday   \n",
       "...     ...        ...                 ...    ...   ...       ...        ...   \n",
       "7690  59326  X799CC799 2023-03-13 00:00:00    NaN  2023     march     monday   \n",
       "7691  59327  K077YT777 2022-10-19 00:00:00    NaN  2022   october  wednesday   \n",
       "7692  59328  O200PA777 2023-10-02 19:19:30    NaN  2023   october     monday   \n",
       "7693  59329   O073OO97 2025-01-12 00:00:00    NaN  2025   january     sunday   \n",
       "7694  59330  A666YE790 2025-01-13 00:00:00    NaN  2025   january     monday   \n",
       "\n",
       "     letters numbers              region         dept_name  forb_buy  \\\n",
       "0        PTT     700  Московская область  not governmental         0   \n",
       "1        MTX     081              Москва  not governmental         0   \n",
       "2        THX     333              Москва  not governmental         0   \n",
       "3        HBH     744              Москва  not governmental         0   \n",
       "4        XEM     066              Москва  not governmental         0   \n",
       "...      ...     ...                 ...               ...       ...   \n",
       "7690     XCC     799              Москва  not governmental         0   \n",
       "7691     KYT     077              Москва  not governmental         0   \n",
       "7692     OPA     200              Москва  not governmental         0   \n",
       "7693     OOO     073              Москва  not governmental         0   \n",
       "7694     AYE     666  Московская область  not governmental         0   \n",
       "\n",
       "      adv_road  significance  \n",
       "0            0             0  \n",
       "1            0             0  \n",
       "2            0             0  \n",
       "3            0             0  \n",
       "4            0             0  \n",
       "...        ...           ...  \n",
       "7690         0             0  \n",
       "7691         0             0  \n",
       "7692         0             0  \n",
       "7693         0             0  \n",
       "7694         0             0  \n",
       "\n",
       "[7695 rows x 14 columns]"
      ]
     },
     "execution_count": 262,
     "metadata": {},
     "output_type": "execute_result"
    }
   ],
   "source": [
    "test = wrangle(\"test.csv\")\n",
    "test"
   ]
  },
  {
   "cell_type": "code",
   "execution_count": 263,
   "id": "19935c46-5422-462a-a63c-2588f0f098fc",
   "metadata": {},
   "outputs": [
    {
     "data": {
      "text/plain": [
       "tensor([[ 0.0000,  0.0000,  0.0000,  ..., -0.0076, -0.1082, -0.1029],\n",
       "        [ 0.0000,  0.0000,  0.0000,  ..., -0.0076, -0.1082, -0.1029],\n",
       "        [ 0.0000,  0.0000,  0.0000,  ..., -0.0076, -0.1082, -0.1029],\n",
       "        ...,\n",
       "        [ 0.0000,  0.0000,  1.0000,  ..., -0.0076, -0.1082, -0.1029],\n",
       "        [ 0.0000,  0.0000,  0.0000,  ..., -0.0076, -0.1082, -0.1029],\n",
       "        [ 0.0000,  0.0000,  0.0000,  ..., -0.0076, -0.1082, -0.1029]])"
      ]
     },
     "execution_count": 263,
     "metadata": {},
     "output_type": "execute_result"
    }
   ],
   "source": [
    "test = ct.transform(test.drop([\"id\", \"plate\", \"date\", \"dept_name\", \"price\"], axis=1)).toarray()\n",
    "test = torch.tensor(test, dtype=torch.float32)\n",
    "test"
   ]
  },
  {
   "cell_type": "code",
   "execution_count": 277,
   "id": "3c29f591-acd4-4859-bb47-e55e03cdc952",
   "metadata": {},
   "outputs": [],
   "source": [
    "pd.DataFrame(\n",
    "        {\n",
    "            \"ID\": range(51636, 59331),\n",
    "            \"price\": model(test).detach().numpy().squeeze()\n",
    "        }\n",
    "    ).to_csv(\"deep_neural_network.csv\", index=False)"
   ]
  },
  {
   "cell_type": "code",
   "execution_count": 293,
   "id": "4522b7aa-3f83-4c13-b1bd-90bfd9d21662",
   "metadata": {},
   "outputs": [],
   "source": [
    "torch.save(model, \"dnn.pt\")"
   ]
  },
  {
   "cell_type": "code",
   "execution_count": 295,
   "id": "b784cc18-207d-4dee-836a-4f168306a98f",
   "metadata": {},
   "outputs": [
    {
     "data": {
      "text/plain": [
       "Sequential(\n",
       "  (ll1): Linear(in_features=2842, out_features=700, bias=True)\n",
       "  (relu1): ReLU()\n",
       "  (dropout1): Dropout(p=0.5, inplace=False)\n",
       "  (ll2): Linear(in_features=700, out_features=700, bias=True)\n",
       "  (relu2): ReLU()\n",
       "  (dropout2): Dropout(p=0.5, inplace=False)\n",
       "  (ll3): Linear(in_features=700, out_features=1, bias=True)\n",
       ")"
      ]
     },
     "execution_count": 295,
     "metadata": {},
     "output_type": "execute_result"
    }
   ],
   "source": [
    "model = torch.load(\"dnn.pt\", weights_only=False)\n",
    "model.eval()"
   ]
  },
  {
   "cell_type": "code",
   "execution_count": null,
   "id": "d8d6636d-4b1f-46e0-9bfc-8a4acd9e6006",
   "metadata": {},
   "outputs": [],
   "source": []
  }
 ],
 "metadata": {
  "kernelspec": {
   "display_name": "Python 3 (ipykernel)",
   "language": "python",
   "name": "python3"
  },
  "language_info": {
   "codemirror_mode": {
    "name": "ipython",
    "version": 3
   },
   "file_extension": ".py",
   "mimetype": "text/x-python",
   "name": "python",
   "nbconvert_exporter": "python",
   "pygments_lexer": "ipython3",
   "version": "3.9.19"
  }
 },
 "nbformat": 4,
 "nbformat_minor": 5
}
